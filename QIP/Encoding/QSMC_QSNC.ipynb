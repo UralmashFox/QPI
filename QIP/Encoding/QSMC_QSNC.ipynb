{
 "cells": [
  {
   "cell_type": "code",
   "execution_count": 1,
   "id": "99f550cc-9696-462d-abb4-fa38693f6d19",
   "metadata": {},
   "outputs": [],
   "source": [
    "from qiskit import QuantumRegister, ClassicalRegister\n",
    "from qiskit import QuantumCircuit, Aer\n",
    "from qiskit import transpile, assemble\n",
    "from qiskit.visualization import plot_histogram\n",
    "import matplotlib.pyplot as plt\n",
    "import numpy as np\n",
    "import math\n",
    "from qiskit.extensions import XGate\n",
    "from ibm_washington_config import coupling_map, basis_gates\n",
    "from ionq_config import coupling_map, basis_gates"
   ]
  },
  {
   "cell_type": "code",
   "execution_count": 2,
   "id": "04ba76ce-7a25-4bf7-963b-5c7238f218dd",
   "metadata": {},
   "outputs": [
    {
     "data": {
      "image/png": "[encoded data removed]",
      "text/plain": [
       "<Figure size 432x288 with 1 Axes>"
      ]
     },
     "metadata": {
      "needs_background": "light"
     },
     "output_type": "display_data"
    }
   ],
   "source": [
    "image = np.random.uniform(low=0, high=255, size=(16,16)).astype(int)\n",
    "plt.imshow(image, cmap='gray')\n",
    "plt.title('Image')\n",
    "plt.show()\n",
    "\n",
    "w_bits = int(np.ceil(math.log(image.shape[1],2)))\n",
    "h_bits = int(np.ceil(math.log(image.shape[0],2)))\n",
    "if not w_bits: w_bits = 1\n",
    "if not h_bits: h_bits = 1"
   ]
  },
  {
   "cell_type": "markdown",
   "id": "66febd7d-bcd0-40f0-bba7-8c862736b9ad",
   "metadata": {},
   "source": [
    "sort pixels"
   ]
  },
  {
   "cell_type": "code",
   "execution_count": 3,
   "id": "2829e8c6-897b-490e-b00e-3b3e50b64a97",
   "metadata": {},
   "outputs": [],
   "source": [
    "im_list = image.flatten()\n",
    "ind_list = sorted(range(len(im_list)), key=lambda k:im_list[k])\n",
    "max_index = max(ind_list)\n",
    "#now in angles: theta = intensity, phi = coordinate\n",
    "thetas = np.interp(im_list, (0, 256), (0, np.pi/2))\n",
    "phis = np.interp(range(len(im_list)), (0, len(im_list)), (0, np.pi/2))"
   ]
  },
  {
   "cell_type": "code",
   "execution_count": 4,
   "id": "7dd4e110-f589-4144-af6d-ce65e4c7b824",
   "metadata": {},
   "outputs": [],
   "source": [
    "num_ind_bits = int(np.ceil(math.log(len(im_list),2)))\n",
    "if not num_ind_bits:\n",
    "    num_ind_bits = 1"
   ]
  },
  {
   "cell_type": "code",
   "execution_count": 5,
   "id": "4ffe9a36-a824-4296-baf3-563888e87bf2",
   "metadata": {},
   "outputs": [
    {
     "data": {
      "text/plain": [
       "<qiskit.circuit.instructionset.InstructionSet at 0x236f7ceb240>"
      ]
     },
     "execution_count": 5,
     "metadata": {},
     "output_type": "execute_result"
    }
   ],
   "source": [
    "O = QuantumRegister(num_ind_bits, 'o_reg')\n",
    "color = QuantumRegister(1,'color')\n",
    "coordinate = QuantumRegister(1, 'coordinate')\n",
    "cr = ClassicalRegister(O.size+color.size+coordinate.size, \"cl_reg\")\n",
    "\n",
    "qc_image = QuantumCircuit(color, coordinate, O, cr)\n",
    "num_qubits = qc_image.num_qubits\n",
    "input_im = image.copy().flatten()\n",
    "qc_image.i(color)\n",
    "qc_image.i(coordinate)\n",
    "qc_image.h(O)\n",
    "controls_ = []\n",
    "for i, _ in enumerate(O):\n",
    "    controls_.extend([O[i]])\n",
    "\n",
    "for i, (phi, theta) in enumerate(zip(phis, thetas)):\n",
    "    qubit_index_bin = \"{0:b}\".format(i).zfill(num_ind_bits)\n",
    "    \n",
    "    for k, qub_ind in enumerate(qubit_index_bin):\n",
    "        if int(qub_ind):\n",
    "            qc_image.x(O[k])\n",
    "            \n",
    "    qc_image.barrier()\n",
    "    \n",
    "    for coord_or_intns in (0,1):\n",
    "        if not coord_or_intns:\n",
    "            qc_image.mcry(theta=2*theta,\n",
    "                          q_controls=controls_,\n",
    "                          q_target=color[0])\n",
    "        else:\n",
    "            qc_image.mcry(theta=2*phi,\n",
    "                          q_controls=controls_,\n",
    "                          q_target=coordinate[0])\n",
    "       \n",
    "    qc_image.barrier()\n",
    "    \n",
    "    if  i!=len(thetas) - 1:\n",
    "        for k, qub_ind in enumerate(qubit_index_bin):\n",
    "            if int(qub_ind):\n",
    "                qc_image.x(O[k])\n",
    "                \n",
    "    qc_image.barrier()\n",
    "\n",
    "qc_image.measure(list(reversed(range(qc_image.num_qubits))), list(range(cr.size)))"
   ]
  },
  {
   "cell_type": "markdown",
   "id": "905e9406-a70a-4afc-b3a1-49f80de51266",
   "metadata": {},
   "source": [
    "Metrics\n",
    "\n",
    "| Image size  | Depth measure | # of utilized qubits |Washington depth | IonQ depth |\n",
    "| ------------- | ------------- | -------------------|-----------------|------------|\n",
    "| 2  | 35  | 4 | 412| 199|\n",
    "| 4  | 943  | 6 | 5513| 1855|\n",
    "| 8  | 16063  | 8 | 97739| 31999|\n",
    "| 16  | 260863  | 10 | | 521215|\n",
    "| 32  | 4189183  | 12|\n",
    "| 64  | -  | 13 |\n",
    "| 128  | -  | 15 |\n",
    "| 256  | -  | 17 |"
   ]
  },
  {
   "cell_type": "code",
   "execution_count": 6,
   "id": "0cbc6502-3a1d-4134-8ba8-885cca47fca7",
   "metadata": {},
   "outputs": [
    {
     "name": "stdout",
     "output_type": "stream",
     "text": [
      "depth is 260863, # of qubits is 10\n"
     ]
    }
   ],
   "source": [
    "print(\"depth is {}, # of qubits is {}\".format(qc_image.depth(), qc_image.num_qubits))"
   ]
  },
  {
   "cell_type": "code",
   "execution_count": 26,
   "id": "1e660d12-a740-43e6-8dc9-66c3f2028e7d",
   "metadata": {},
   "outputs": [
    {
     "name": "stdout",
     "output_type": "stream",
     "text": [
      "depth is 521215\n"
     ]
    }
   ],
   "source": [
    "wash_qc = transpile(circuits=qc_image, coupling_map=coupling_map, basis_gates=basis_gates)\n",
    "print(\"depth is {}\".format(wash_qc.depth()))\n",
    "# wash_qc.draw()"
   ]
  },
  {
   "cell_type": "code",
   "execution_count": 8,
   "id": "465ceb4d-9f77-4724-bffb-edcddc45617c",
   "metadata": {
    "tags": []
   },
   "outputs": [],
   "source": [
    "# qc_image.draw()"
   ]
  },
  {
   "cell_type": "code",
   "execution_count": 7,
   "id": "32948f38-b3f7-4ba6-a409-c60663b48406",
   "metadata": {},
   "outputs": [
    {
     "name": "stdout",
     "output_type": "stream",
     "text": [
      "the meauserd colors are \n",
      " [ 58 256 136 147  55 212  59 128 153 219  89 256 126  67  59 161 208 233\n",
      "  45   0 164  27  69  46 204 143 165 144 139 171 194  51 241 113 168 157\n",
      "  20 197  47 111  21   8 115   0  23  71 116  54  71 220  52 103  74  40\n",
      " 156  49 247 217  36 152 192  92 176 145 105 107 247  91 148  57 247 163\n",
      "  99 256 181 143 169  91  35   8  18  85 109 175  43 248 200 121 146 115\n",
      " 218 218  41  35 241  97 169  33  71 149 145 169 200 213   0  26  36 155\n",
      "  69 189 103  99  99 129   0  45  65 219 241 121 214   0 199 126 184 207\n",
      " 147 181 174 146  57 106 145 167 135 199 172 225  41 115 121 158 204 244\n",
      "  16 118 176 223  89  11 104 137 207   0  36  73 199 110   0  89 181  79\n",
      " 134  82 106   0 117  83 106 170   0 231  21 122  47 204 159 194  49 234\n",
      "  57   8 256   7  67  95   0 180 132 165 162 119 155 256  96   7  61 212\n",
      "  33 242 210  84  83 133  47 153 208  79 181  74 247 112 142  39 256  80\n",
      "  99 256   7  46 127 256  26 141  43  28  82 197  12 126 242 138 112  15\n",
      "  94 140  48 121  91 165  94 147  30 243  80  22 184 200 135 148  39  21\n",
      " 172 188 256  70] \n",
      " the input colors are \n",
      " [ 52 249 135 145  54 212  56 132 149 215  90 254 123  67  61 172 207 235\n",
      "  49   6 154  22  75  48 208 144 164 145 142 169 195  49 242 118 162 155\n",
      "  20 193  44 114  22  10 111   2  26  72 117  52  72 224  44 115  75  42\n",
      " 162  47 246 223  38 146 195  95 180 146 105 105 247  87 155  53 250 160\n",
      " 108 252 187 149 160  91  39   7  19  84 107 181  42 247 197 125 149 108\n",
      " 212 215  46  38 232  94 167  32  70 155 145 173 195 215   4  26  42 151\n",
      "  69 188  97 101  98 127   4  49  66 220 243 119 220   2 197 124 180 210\n",
      " 144 177 170 144  60 108 144 165 130 194 169 228  41 119 122 166 208 242\n",
      "  16 119 176 221  91   6 106 142 212   1  36  70 206 117   9  95 187  85\n",
      " 131  80 110  13 115  82 105 176   3 233  21 118  48 202 161 193  50 238\n",
      "  55  10 247   4  71  95   8 183 140 157 171 116 159 248  92  12  64 209\n",
      "  33 242 203  83  88 133  50 161 204  82 183  80 251 118 146  37 252  76\n",
      "  97 251   6  50 123 254  28 142  43  29  85 202  10 120 240 140 113  17\n",
      "  98 140  45 117  88 164  92 152  30 246  72  25 187 199 141 151  26  22\n",
      " 170 185 254  62]\n",
      "the meauserd coordinates are \n",
      " [  0   0   0   8   0   0   0   0  12   0   8  11   8  16  19  14  23  16\n",
      "  19  16  22  21  23  21  26  23  24  29  29  27  23  23  28  30  39  35\n",
      "  37  38  36  36  39  45  40  46  52  48  50  53  46  50  45  45  46  53\n",
      "  52  63  54  53  49  61  62  59  57  53  65  59  66  65  73  64  70  79\n",
      "  72  78  73  77  79  74  76  78  74  79  78  85  91  91  86  82  86  91\n",
      "  81  79  95  84  96  89  98 103 102 100  95  96  95 103 101 103 110 103\n",
      " 111 108 109 109 108 121 112 110 110 120 117 116 123 114 117 124 129 127\n",
      " 119 127 130 127 128 130 142 131 129 138 137 135 134 133 139 140 135 140\n",
      " 141 146 138 151 155 150 151 157 153 153 154 162 154 159 156 159 156 163\n",
      " 163 162 172 167 163 168 167 172 164 170 172 165 172 172 177 179 179 180\n",
      " 182 190 186 186 180 188 195 190 191 188 194 184 197 195 193 193 191 196\n",
      " 195 198 192 201 203 205 209 205 201 213 205 210 207 213 209 215 221 215\n",
      " 220 220 217 217 215 223 227 224 231 229 229 229 219 227 229 230 231 236\n",
      " 231 234 237 236 238 238 239 242 241 243 244 256 244 242 247 247 256 256\n",
      " 256 256 256 256]\n"
     ]
    }
   ],
   "source": [
    "aer_sim = Aer.get_backend('aer_simulator')\n",
    "t_qc_image = transpile(qc_image, aer_sim)\n",
    "qobj = assemble(t_qc_image, shots=100000)\n",
    "job_oqim = aer_sim.run(qobj)\n",
    "result_oqim = job_oqim.result()\n",
    "counts_oqim = result_oqim.get_counts()\n",
    "classical_colors = []\n",
    "classical_coords = []\n",
    "for i in range(0, max_index+1):\n",
    "    color_list = []\n",
    "    coord_list = []\n",
    "    for item in counts_oqim.items():\n",
    "        key = item[0]\n",
    "        amount = item[1]\n",
    "        bin_coord = key[2:]\n",
    "        int_coord = int(bin_coord, 2)\n",
    "        if int_coord == i:\n",
    "                color_list.append((key[0], amount))\n",
    "                coord_list.append((key[1], amount))\n",
    "    color_amount = 0\n",
    "    for color, amount in color_list:\n",
    "        if not int(color):\n",
    "            color_amount=color_amount+amount\n",
    "    try:\n",
    "        color = np.arccos((color_amount/sum(n for _, n in color_list))**(1/2))\n",
    "        classical_colors.append(color)\n",
    "    except ZeroDivisionError:\n",
    "        print(\"ZeroDivisionError\")\n",
    "        \n",
    "    coord_amount = 0\n",
    "    for coord, amount in coord_list:\n",
    "        if not int(coord):\n",
    "            coord_amount=coord_amount+amount\n",
    "    try:\n",
    "        coord = np.arccos((coord_amount/sum(n for _, n in coord_list))**(1/2))\n",
    "        classical_coords.append(coord)\n",
    "    except ZeroDivisionError:\n",
    "        print(\"ZeroDivisionError\")\n",
    "classical_colors = np.interp(classical_colors, (0, np.pi/2), (0, 256)).astype(int)\n",
    "print('the meauserd colors are \\n {} \\n the input colors are \\n {}'.format(classical_colors, im_list))\n",
    "classical_coords = np.interp(classical_coords, (0, np.pi/2), (0, len(im_list))).astype(int)\n",
    "print('the meauserd coordinates are \\n {}'.format(classical_coords))\n",
    "output_im = classical_colors.reshape(image.shape)"
   ]
  },
  {
   "cell_type": "markdown",
   "id": "66fe5993-04aa-48b4-8efc-e572571abb9a",
   "metadata": {},
   "source": [
    "As we can see above, probabilistic amplitude <ins>coordinate</ins> encoding fails"
   ]
  },
  {
   "cell_type": "code",
   "execution_count": 8,
   "id": "068f8c3e-b272-4570-9cc8-6678c17306e7",
   "metadata": {},
   "outputs": [],
   "source": [
    "def plot_to_compare(output_im, input_im):\n",
    "    plt.imshow(output_im, cmap = 'gray')\n",
    "    plt.title('measured image')\n",
    "    plt.show()\n",
    "    plt.imshow(input_im, cmap = 'gray')\n",
    "    plt.title('real image')\n",
    "    plt.show()"
   ]
  },
  {
   "cell_type": "code",
   "execution_count": 9,
   "id": "acd6bda4-0cdf-4e9f-be50-af46bcb93479",
   "metadata": {},
   "outputs": [
    {
     "data": {
      "image/png": "[encoded data removed]",
      "text/plain": [
       "<Figure size 432x288 with 1 Axes>"
      ]
     },
     "metadata": {
      "needs_background": "light"
     },
     "output_type": "display_data"
    },
    {
     "data": {
      "image/png": "[encoded data removed]",
      "text/plain": [
       "<Figure size 432x288 with 1 Axes>"
      ]
     },
     "metadata": {
      "needs_background": "light"
     },
     "output_type": "display_data"
    }
   ],
   "source": [
    "plot_to_compare(output_im, image)"
   ]
  }
 ],
 "metadata": {
  "kernelspec": {
   "display_name": "Python 3 (ipykernel)",
   "language": "python",
   "name": "python3"
  },
  "language_info": {
   "codemirror_mode": {
    "name": "ipython",
    "version": 3
   },
   "file_extension": ".py",
   "mimetype": "text/x-python",
   "name": "python",
   "nbconvert_exporter": "python",
   "pygments_lexer": "ipython3",
   "version": "3.9.7"
  }
 },
 "nbformat": 4,
 "nbformat_minor": 5
}
