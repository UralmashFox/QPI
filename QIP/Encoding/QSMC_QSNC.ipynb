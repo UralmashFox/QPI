{
 "cells": [
  {
   "cell_type": "code",
   "execution_count": 1,
   "id": "99f550cc-9696-462d-abb4-fa38693f6d19",
   "metadata": {},
   "outputs": [],
   "source": [
    "from qiskit import QuantumRegister, ClassicalRegister\n",
    "from qiskit import QuantumCircuit, Aer\n",
    "from qiskit import transpile, assemble\n",
    "from qiskit.visualization import plot_histogram\n",
    "import matplotlib.pyplot as plt\n",
    "import numpy as np\n",
    "import math\n",
    "from qiskit.extensions import XGate\n",
    "from ibm_washington_config import coupling_map, basis_gates"
   ]
  },
  {
   "cell_type": "code",
   "execution_count": 2,
   "id": "04ba76ce-7a25-4bf7-963b-5c7238f218dd",
   "metadata": {},
   "outputs": [
    {
     "data": {
      "image/png": "[encoded data removed]",
      "text/plain": [
       "<Figure size 432x288 with 1 Axes>"
      ]
     },
     "metadata": {
      "needs_background": "light"
     },
     "output_type": "display_data"
    }
   ],
   "source": [
    "image = np.random.uniform(low=0, high=255, size=(4,4)).astype(int)\n",
    "plt.imshow(image, cmap='gray')\n",
    "plt.title('Image')\n",
    "plt.show()\n",
    "\n",
    "w_bits = int(np.ceil(math.log(image.shape[1],2)))\n",
    "h_bits = int(np.ceil(math.log(image.shape[0],2)))\n",
    "if not w_bits: w_bits = 1\n",
    "if not h_bits: h_bits = 1"
   ]
  },
  {
   "cell_type": "markdown",
   "id": "66febd7d-bcd0-40f0-bba7-8c862736b9ad",
   "metadata": {},
   "source": [
    "sort pixels"
   ]
  },
  {
   "cell_type": "code",
   "execution_count": 3,
   "id": "2829e8c6-897b-490e-b00e-3b3e50b64a97",
   "metadata": {},
   "outputs": [],
   "source": [
    "im_list = image.flatten()\n",
    "ind_list = sorted(range(len(im_list)), key=lambda k:im_list[k])\n",
    "max_index = max(ind_list)\n",
    "#now in angles: theta = intensity, phi = coordinate\n",
    "thetas = np.interp(im_list, (0, 256), (0, np.pi/2))\n",
    "phis = np.interp(range(len(im_list)), (0, len(im_list)), (0, np.pi/2))"
   ]
  },
  {
   "cell_type": "code",
   "execution_count": 4,
   "id": "7dd4e110-f589-4144-af6d-ce65e4c7b824",
   "metadata": {},
   "outputs": [],
   "source": [
    "num_ind_bits = int(np.ceil(math.log(len(im_list),2)))\n",
    "if not num_ind_bits:\n",
    "    num_ind_bits = 1"
   ]
  },
  {
   "cell_type": "code",
   "execution_count": 5,
   "id": "4ffe9a36-a824-4296-baf3-563888e87bf2",
   "metadata": {},
   "outputs": [
    {
     "data": {
      "text/plain": [
       "<qiskit.circuit.instructionset.InstructionSet at 0x29956495980>"
      ]
     },
     "execution_count": 5,
     "metadata": {},
     "output_type": "execute_result"
    }
   ],
   "source": [
    "O = QuantumRegister(num_ind_bits, 'o_reg')\n",
    "color = QuantumRegister(1,'color')\n",
    "coordinate = QuantumRegister(1, 'coordinate')\n",
    "cr = ClassicalRegister(O.size+color.size+coordinate.size, \"cl_reg\")\n",
    "\n",
    "qc_image = QuantumCircuit(color, coordinate, O, cr)\n",
    "num_qubits = qc_image.num_qubits\n",
    "input_im = image.copy().flatten()\n",
    "qc_image.i(color)\n",
    "qc_image.i(coordinate)\n",
    "qc_image.h(O)\n",
    "controls_ = []\n",
    "for i, _ in enumerate(O):\n",
    "    controls_.extend([O[i]])\n",
    "\n",
    "for i, (phi, theta) in enumerate(zip(phis, thetas)):\n",
    "    qubit_index_bin = \"{0:b}\".format(i).zfill(num_ind_bits)\n",
    "    \n",
    "    for k, qub_ind in enumerate(qubit_index_bin):\n",
    "        if int(qub_ind):\n",
    "            qc_image.x(O[k])\n",
    "            \n",
    "    qc_image.barrier()\n",
    "    \n",
    "    for coord_or_intns in (0,1):\n",
    "        if not coord_or_intns:\n",
    "            qc_image.mcry(theta=2*theta,\n",
    "                          q_controls=controls_,\n",
    "                          q_target=color[0])\n",
    "        else:\n",
    "            qc_image.mcry(theta=2*phi,\n",
    "                          q_controls=controls_,\n",
    "                          q_target=coordinate[0])\n",
    "       \n",
    "    qc_image.barrier()\n",
    "    \n",
    "    if  i!=len(thetas) - 1:\n",
    "        for k, qub_ind in enumerate(qubit_index_bin):\n",
    "            if int(qub_ind):\n",
    "                qc_image.x(O[k])\n",
    "                \n",
    "    qc_image.barrier()\n",
    "\n",
    "qc_image.measure(list(reversed(range(qc_image.num_qubits))), list(range(cr.size)))"
   ]
  },
  {
   "cell_type": "code",
   "execution_count": 6,
   "id": "1e660d12-a740-43e6-8dc9-66c3f2028e7d",
   "metadata": {},
   "outputs": [
    {
     "name": "stdout",
     "output_type": "stream",
     "text": [
      "depth is 5540\n"
     ]
    }
   ],
   "source": [
    "wash_qc = transpile(circuits=qc_image, coupling_map=coupling_map, basis_gates=basis_gates)\n",
    "print(\"depth is {}\".format(wash_qc.depth()))\n",
    "# wash_qc.draw()"
   ]
  },
  {
   "cell_type": "code",
   "execution_count": 8,
   "id": "465ceb4d-9f77-4724-bffb-edcddc45617c",
   "metadata": {
    "tags": []
   },
   "outputs": [],
   "source": [
    "# qc_image.draw()"
   ]
  },
  {
   "cell_type": "code",
   "execution_count": 9,
   "id": "32948f38-b3f7-4ba6-a409-c60663b48406",
   "metadata": {},
   "outputs": [
    {
     "name": "stdout",
     "output_type": "stream",
     "text": [
      "the meauserd colors are \n",
      " [147 193  33 101  33 253   7  58  33  42 139  30  59 102  85 175] \n",
      " the input colors are \n",
      " [148 193  33 100  34 254   7  60  34  44 140  29  59 102  86 176]\n",
      "the meauserd coordinates are \n",
      " [ 0  0  2  2  3  4  6  7  8  8  9 10 11 12 14 15]\n"
     ]
    }
   ],
   "source": [
    "aer_sim = Aer.get_backend('aer_simulator')\n",
    "t_qc_image = transpile(qc_image, aer_sim)\n",
    "qobj = assemble(t_qc_image, shots=100000)\n",
    "job_oqim = aer_sim.run(qobj)\n",
    "result_oqim = job_oqim.result()\n",
    "counts_oqim = result_oqim.get_counts()\n",
    "classical_colors = []\n",
    "classical_coords = []\n",
    "for i in range(0, max_index+1):\n",
    "    color_list = []\n",
    "    coord_list = []\n",
    "    for item in counts_oqim.items():\n",
    "        key = item[0]\n",
    "        amount = item[1]\n",
    "        bin_coord = key[2:]\n",
    "        int_coord = int(bin_coord, 2)\n",
    "        if int_coord == i:\n",
    "                color_list.append((key[0], amount))\n",
    "                coord_list.append((key[1], amount))\n",
    "    color_amount = 0\n",
    "    for color, amount in color_list:\n",
    "        if not int(color):\n",
    "            color_amount=color_amount+amount\n",
    "    try:\n",
    "        color = np.arccos((color_amount/sum(n for _, n in color_list))**(1/2))\n",
    "        classical_colors.append(color)\n",
    "    except ZeroDivisionError:\n",
    "        print(\"ZeroDivisionError\")\n",
    "        \n",
    "    coord_amount = 0\n",
    "    for coord, amount in coord_list:\n",
    "        if not int(coord):\n",
    "            coord_amount=coord_amount+amount\n",
    "    try:\n",
    "        coord = np.arccos((coord_amount/sum(n for _, n in coord_list))**(1/2))\n",
    "        classical_coords.append(coord)\n",
    "    except ZeroDivisionError:\n",
    "        print(\"ZeroDivisionError\")\n",
    "classical_colors = np.interp(classical_colors, (0, np.pi/2), (0, 256)).astype(int)\n",
    "print('the meauserd colors are \\n {} \\n the input colors are \\n {}'.format(classical_colors, im_list))\n",
    "classical_coords = np.interp(classical_coords, (0, np.pi/2), (0, len(im_list))).astype(int)\n",
    "print('the meauserd coordinates are \\n {}'.format(classical_coords))\n",
    "output_im = classical_colors.reshape(image.shape)"
   ]
  },
  {
   "cell_type": "markdown",
   "id": "66fe5993-04aa-48b4-8efc-e572571abb9a",
   "metadata": {},
   "source": [
    "As we can see above, probabilistic amplitude <ins>coordinate</ins> encoding fails"
   ]
  },
  {
   "cell_type": "code",
   "execution_count": 8,
   "id": "068f8c3e-b272-4570-9cc8-6678c17306e7",
   "metadata": {},
   "outputs": [],
   "source": [
    "def plot_to_compare(output_im, input_im):\n",
    "    plt.imshow(output_im, cmap = 'gray')\n",
    "    plt.title('measured image')\n",
    "    plt.show()\n",
    "    plt.imshow(input_im, cmap = 'gray')\n",
    "    plt.title('real image')\n",
    "    plt.show()"
   ]
  },
  {
   "cell_type": "code",
   "execution_count": 9,
   "id": "acd6bda4-0cdf-4e9f-be50-af46bcb93479",
   "metadata": {},
   "outputs": [
    {
     "data": {
      "image/png": "[encoded data removed]",
      "text/plain": [
       "<Figure size 432x288 with 1 Axes>"
      ]
     },
     "metadata": {
      "needs_background": "light"
     },
     "output_type": "display_data"
    },
    {
     "data": {
      "image/png": "[encoded data removed]",
      "text/plain": [
       "<Figure size 432x288 with 1 Axes>"
      ]
     },
     "metadata": {
      "needs_background": "light"
     },
     "output_type": "display_data"
    }
   ],
   "source": [
    "plot_to_compare(output_im, image)"
   ]
  }
 ],
 "metadata": {
  "kernelspec": {
   "display_name": "Python 3 (ipykernel)",
   "language": "python",
   "name": "python3"
  },
  "language_info": {
   "codemirror_mode": {
    "name": "ipython",
    "version": 3
   },
   "file_extension": ".py",
   "mimetype": "text/x-python",
   "name": "python",
   "nbconvert_exporter": "python",
   "pygments_lexer": "ipython3",
   "version": "3.9.7"
  }
 },
 "nbformat": 4,
 "nbformat_minor": 5
}
