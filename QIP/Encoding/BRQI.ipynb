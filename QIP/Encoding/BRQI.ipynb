{
 "cells": [
  {
   "cell_type": "markdown",
   "id": "f0123bb0",
   "metadata": {},
   "source": [
    "# Quantum image representation based on bitplanes - [BRQI](https://www.overleaf.com/project/61911febed45e965f929d7c0#cite.li2018quantum)\n",
    "\n",
    "Image is assumed a collection of bitbpanes. Each image has 8 separate bitplanes (in a gray-scaled case). Every bitplane is discribed as follows:\n",
    "\n",
    "$| \\Psi_m^j \\rangle = \\frac{1}{2^n}\\sum_{x=0}^{2^{n-k}-1}\\sum_{y=0}^{2^k-1} | g(x,y) \\rangle |x \\rangle | y \\rangle$, where\n",
    "\n",
    "$\\Psi_m^j$ - bitplane representation;\n",
    "\n",
    "$j = (0,... 7)$ - number of bitplane;\n",
    "\n",
    "$m = 1$ (in gray scaled case) - band number;\n",
    "\n",
    "$g(x,y) = (0,1)$ - pre-/absence if $j^{th}$ bitplane in the band $m$"
   ]
  },
  {
   "cell_type": "markdown",
   "id": "e1f7e734",
   "metadata": {},
   "source": [
    "Step 0: dependencies import"
   ]
  },
  {
   "cell_type": "code",
   "execution_count": 17,
   "id": "cd621565",
   "metadata": {},
   "outputs": [],
   "source": [
    "from qiskit import QuantumRegister, ClassicalRegister\n",
    "from qiskit import QuantumCircuit, Aer\n",
    "from qiskit import transpile, assemble\n",
    "from qiskit.visualization import plot_histogram\n",
    "import matplotlib.pyplot as plt\n",
    "import numpy as np\n",
    "from qiskit.extensions import XGate\n",
    "import math\n",
    "from ibm_washington_config import coupling_map, basis_gates"
   ]
  },
  {
   "cell_type": "markdown",
   "id": "70b99282",
   "metadata": {},
   "source": [
    "Step 1: image generation"
   ]
  },
  {
   "cell_type": "code",
   "execution_count": 23,
   "id": "ae4e58d9",
   "metadata": {},
   "outputs": [
    {
     "data": {
      "image/png": "[encoded data removed]",
      "text/plain": [
       "<Figure size 432x288 with 1 Axes>"
      ]
     },
     "metadata": {
      "needs_background": "light"
     },
     "output_type": "display_data"
    }
   ],
   "source": [
    "image = np.random.uniform(low=0, high=255, size=(2,2)).astype(int)\n",
    "\n",
    "plt.imshow(image, cmap = 'gray')\n",
    "plt.show()"
   ]
  },
  {
   "cell_type": "markdown",
   "id": "9c3dbd4e",
   "metadata": {},
   "source": [
    "Step 2: amount of qubits calculation"
   ]
  },
  {
   "cell_type": "code",
   "execution_count": 24,
   "id": "5e94ad4b",
   "metadata": {},
   "outputs": [],
   "source": [
    "w_bits = int(np.ceil(math.log(image.shape[1],2)))\n",
    "h_bits = int(np.ceil(math.log(image.shape[0],2)))\n",
    "if not w_bits: w_bits = 1\n",
    "if not h_bits: h_bits = 1\n",
    "color_n_b = 8\n",
    "color_n_b = int(np.ceil(math.log(color_n_b,2)))"
   ]
  },
  {
   "cell_type": "markdown",
   "id": "1b09a10c",
   "metadata": {},
   "source": [
    "Step 4: BRQI image encoding"
   ]
  },
  {
   "cell_type": "code",
   "execution_count": 25,
   "id": "ab78bcd2",
   "metadata": {
    "tags": []
   },
   "outputs": [
    {
     "data": {
      "text/plain": [
       "<qiskit.circuit.instructionset.InstructionSet at 0x1f7d69742c0>"
      ]
     },
     "execution_count": 25,
     "metadata": {},
     "output_type": "execute_result"
    }
   ],
   "source": [
    "color = QuantumRegister(1, 'color')\n",
    "y_ax = QuantumRegister(w_bits, 'y axis')\n",
    "x_ax = QuantumRegister(h_bits, 'x axis')\n",
    "bitplane_q = QuantumRegister(color_n_b, 'bitplanes')\n",
    "classic = ClassicalRegister(1+w_bits+h_bits+color_n_b, 'classic')\n",
    "qc = QuantumCircuit(color, y_ax, x_ax, bitplane_q, classic)\n",
    "\n",
    "qc.i(color)\n",
    "qc.h(x_ax)\n",
    "qc.h(y_ax)\n",
    "qc.h(bitplane_q)\n",
    "\n",
    "qc.barrier()\n",
    "\n",
    "for bitplane in range(8):\n",
    "    bit_bitplane = \"{0:b}\".format(bitplane).zfill(color_n_b)\n",
    "    for n, bit in enumerate(bit_bitplane):\n",
    "        if bit!='1':\n",
    "            qc.x(bitplane_q[n])\n",
    "    for i in range(image.shape[0]):\n",
    "        for j in range(image.shape[1]):\n",
    "            pixel = \"{0:b}\".format(image[i,j]).zfill(8)\n",
    "            if pixel[bitplane]=='1':\n",
    "                i_bit = \"{0:b}\".format(i).zfill(h_bits)\n",
    "                for i_n, ibit in enumerate(i_bit):\n",
    "                    if ibit!='1':\n",
    "                        qc.x(x_ax[i_n])\n",
    "                    j_bit = \"{0:b}\".format(j).zfill(w_bits)\n",
    "                for j_n, jbit in enumerate(j_bit):\n",
    "                    if jbit!='1':\n",
    "                        qc.x(y_ax[j_n])\n",
    "                qc.barrier()\n",
    "\n",
    "                controls = list(range(color.size,\n",
    "                                      qc.num_qubits))\n",
    "                xg = XGate(None).control(len(controls))\n",
    "                controls.append(color)\n",
    "                qc.append(xg, controls)\n",
    "\n",
    "                for j_n, jbit in enumerate(j_bit):\n",
    "                    if jbit!='1':\n",
    "                        qc.x(y_ax[j_n])\n",
    "\n",
    "                for i_n, ibit in enumerate(i_bit):\n",
    "                        if ibit!='1':\n",
    "                            qc.x(x_ax[i_n])\n",
    "                qc.barrier()\n",
    "\n",
    "    for n, bit in enumerate(bit_bitplane):\n",
    "        if bit!='1':\n",
    "            qc.x(bitplane_q[n])\n",
    "qc.barrier()\n",
    "qc.measure(list(reversed(range(qc.num_qubits))), list(range(classic.size)))"
   ]
  },
  {
   "cell_type": "markdown",
   "id": "c41d0d7b-8830-47b7-8c8d-c1986ef08b6a",
   "metadata": {},
   "source": [
    "Metrics\n",
    "\n",
    "| Image size  | Depth measure | # of utilized qubits\n",
    "| ------------- | ------------- | -------------------|\n",
    "| 2  | 50  | 6 |\n",
    "| 4  | 206  | 8 |\n",
    "| 8  | 738  | 10 |\n",
    "| 16  | 3164  | 12 |\n",
    "| 32  | 12400  | 14 |\n",
    "| 64  | 49218  | 16 |\n",
    "| 128  | 195902  | 18 |\n",
    "| 256  | 784866  | 20 |"
   ]
  },
  {
   "cell_type": "code",
   "execution_count": 26,
   "id": "a3f387c4-5132-4575-b3e6-cdf3b8bdc722",
   "metadata": {},
   "outputs": [
    {
     "name": "stdout",
     "output_type": "stream",
     "text": [
      "depth is 49, # of qubits is 6\n"
     ]
    }
   ],
   "source": [
    "print(\"depth is {}, # of qubits is {}\".format(qc.depth(), qc.num_qubits))\n",
    "# qc.draw()"
   ]
  },
  {
   "cell_type": "code",
   "execution_count": 32,
   "id": "9dd47656-bc17-4291-9150-44372938f90d",
   "metadata": {},
   "outputs": [
    {
     "name": "stdout",
     "output_type": "stream",
     "text": [
      "depth is 6208\n"
     ]
    }
   ],
   "source": [
    "wash_qc = transpile(circuits=qc, coupling_map=coupling_map, basis_gates=basis_gates)\n",
    "print(\"depth is {}\".format(wash_qc.depth()))\n",
    "# wash_qc.draw()"
   ]
  },
  {
   "cell_type": "markdown",
   "id": "4b367f34",
   "metadata": {},
   "source": [
    "Step 5: circuit execution"
   ]
  },
  {
   "cell_type": "code",
   "execution_count": 33,
   "id": "8a237ae6",
   "metadata": {},
   "outputs": [],
   "source": [
    "aer_sim = Aer.get_backend('aer_simulator')\n",
    "t_qc_image = transpile(qc, aer_sim)\n",
    "qobj = assemble(t_qc_image, shots=1000000)\n",
    "job_neqr = aer_sim.run(qobj)\n",
    "result_neqr = job_neqr.result()\n",
    "counts_neqr = result_neqr.get_counts()"
   ]
  },
  {
   "cell_type": "markdown",
   "id": "8267214d",
   "metadata": {},
   "source": [
    "Step 6: results interpretation. Images and similarity of digital representation show that image was encoded and measured correct."
   ]
  },
  {
   "cell_type": "code",
   "execution_count": 12,
   "id": "30a76b8d",
   "metadata": {
    "tags": []
   },
   "outputs": [
    {
     "data": {
      "image/png": "[encoded data removed]",
      "text/plain": [
       "<Figure size 432x288 with 1 Axes>"
      ]
     },
     "metadata": {
      "needs_background": "light"
     },
     "output_type": "display_data"
    },
    {
     "data": {
      "image/png": "[encoded data removed]",
      "text/plain": [
       "<Figure size 432x288 with 1 Axes>"
      ]
     },
     "metadata": {
      "needs_background": "light"
     },
     "output_type": "display_data"
    },
    {
     "name": "stdout",
     "output_type": "stream",
     "text": [
      "[[ 60 135]\n",
      " [170 115]]\n",
      "[[ 60 135]\n",
      " [170 115]]\n"
     ]
    }
   ],
   "source": [
    "out_pixels = []\n",
    "for item in counts_neqr:\n",
    "    out_pixels.append((int(item[0:color.size], 2),\n",
    "                       int(item[color.size:color.size+x_ax.size],2),\n",
    "                       int(item[color.size+x_ax.size:color.size+x_ax.size+y_ax.size],2),\n",
    "                       int(item[color.size+x_ax.size+y_ax.size:qc.num_qubits],2)\n",
    "                     ))\n",
    "out_image = []\n",
    "for k in range(image.shape[0]):\n",
    "    for j in range(image.shape[1]):\n",
    "        bits = [i for i in range(len(out_pixels)) if out_pixels[i][1] == k and out_pixels[i][2] == j]\n",
    "        pixel = np.zeros((8,))\n",
    "        for bit in bits:\n",
    "            pixel[out_pixels[bit][3]] = int(out_pixels[bit][0])\n",
    "        mystring = \"\".join([str(int(a)) for a in pixel])\n",
    "        out_image.append(int(mystring, 2))\n",
    "out_image = np.array(out_image).reshape(image.shape[1], image.shape[0])\n",
    "plt.imshow(out_image.T, cmap = 'gray')\n",
    "plt.show()\n",
    "plt.imshow(image, cmap = 'gray')\n",
    "plt.show()\n",
    "\n",
    "print(out_image.T)\n",
    "print(image)"
   ]
  }
 ],
 "metadata": {
  "kernelspec": {
   "display_name": "Python 3 (ipykernel)",
   "language": "python",
   "name": "python3"
  },
  "language_info": {
   "codemirror_mode": {
    "name": "ipython",
    "version": 3
   },
   "file_extension": ".py",
   "mimetype": "text/x-python",
   "name": "python",
   "nbconvert_exporter": "python",
   "pygments_lexer": "ipython3",
   "version": "3.9.7"
  }
 },
 "nbformat": 4,
 "nbformat_minor": 5
}
