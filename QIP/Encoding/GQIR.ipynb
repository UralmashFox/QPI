{
 "cells": [
  {
   "cell_type": "code",
   "execution_count": 194,
   "id": "6df4b3e0",
   "metadata": {},
   "outputs": [],
   "source": [
    "from qiskit import QuantumRegister, ClassicalRegister\n",
    "from qiskit import QuantumCircuit, Aer\n",
    "from qiskit import transpile, assemble\n",
    "from qiskit.visualization import plot_histogram\n",
    "import matplotlib.pyplot as plt\n",
    "import numpy as np\n",
    "from qiskit.extensions import XGate\n",
    "import math"
   ]
  },
  {
   "cell_type": "code",
   "execution_count": 335,
   "id": "366d79be",
   "metadata": {},
   "outputs": [
    {
     "data": {
      "text/plain": [
       "<matplotlib.image.AxesImage at 0x178256829d0>"
      ]
     },
     "execution_count": 335,
     "metadata": {},
     "output_type": "execute_result"
    },
    {
     "data": {
      "image/png": "[encoded data removed]",
      "text/plain": [
       "<Figure size 432x288 with 1 Axes>"
      ]
     },
     "metadata": {
      "needs_background": "light"
     },
     "output_type": "display_data"
    }
   ],
   "source": [
    "image = np.random.uniform(low=0, high=255, size=(16,16)).astype(int)\n",
    "plt.imshow(image, cmap = 'gray')"
   ]
  },
  {
   "cell_type": "code",
   "execution_count": 339,
   "id": "5a8047d2-f2d3-44f2-9164-cef5618fff17",
   "metadata": {
    "tags": []
   },
   "outputs": [
    {
     "data": {
      "text/plain": [
       "<qiskit.circuit.instructionset.InstructionSet at 0x1782420fdc0>"
      ]
     },
     "execution_count": 339,
     "metadata": {},
     "output_type": "execute_result"
    }
   ],
   "source": [
    "x = int(np.ceil(math.log(image.shape[0], 2)))\n",
    "if int(x) == 0: x = 1\n",
    "y = int(np.ceil(math.log(image.shape[1], 2)))\n",
    "if int(y) == 0: y = 1\n",
    "q = 8\n",
    "\n",
    "color = QuantumRegister(q, 'color')\n",
    "y_ax = QuantumRegister(y, 'y axis')\n",
    "x_ax = QuantumRegister(x, 'x axis')\n",
    "classic = ClassicalRegister(x+y+q, 'classic')\n",
    "qc = QuantumCircuit(color, y_ax, x_ax, classic)\n",
    "\n",
    "qc.i(color)\n",
    "qc.h(x_ax)\n",
    "qc.h(y_ax)\n",
    "qc.barrier()\n",
    "controls_ = []\n",
    "for i, _ in enumerate(x_ax):\n",
    "    controls_.extend([x_ax[i]])\n",
    "for i, _ in enumerate(y_ax):\n",
    "    controls_.extend([y_ax[i]])  \n",
    "for xi in range(image.shape[0]):\n",
    "    xi_bin = \"{0:b}\".format(xi).zfill(x_ax.size)\n",
    "    for i, bit in enumerate(xi_bin):\n",
    "        if not int(bit):\n",
    "            qc.x(x_ax[i])  \n",
    "    qc.barrier()\n",
    "    for yi in range(image.shape[1]):\n",
    "        yi_bin = \"{0:b}\".format(yi).zfill(y_ax.size)\n",
    "        for i, bit in enumerate(yi_bin):\n",
    "            if not int(bit):\n",
    "                qc.x(y_ax[i]) \n",
    "        qc.barrier()\n",
    "        intensity_bin = \"{0:b}\".format(image[xi, yi]).zfill(len(color))\n",
    "        xg = XGate(None).control(len(controls_))\n",
    "        target = []\n",
    "        for i, bit in enumerate(intensity_bin):\n",
    "            if int(bit):\n",
    "                qc.mcx(controls_, color[i])\n",
    "        qc.barrier()\n",
    "        for i, bit in enumerate(yi_bin):\n",
    "            if not int(bit):\n",
    "                qc.x(y_ax[i])\n",
    "        qc.barrier()\n",
    "    for i, bit in enumerate(xi_bin):\n",
    "        if not int(bit):\n",
    "            qc.x(x_ax[i])\n",
    "    qc.barrier()\n",
    "\n",
    "qc.measure(x_ax, range(x_ax.size))\n",
    "qc.measure(y_ax, range(x_ax.size, x_ax.size+y_ax.size))\n",
    "qc.measure(color, range(x_ax.size+y_ax.size,x_ax.size+y_ax.size+color.size))"
   ]
  },
  {
   "cell_type": "markdown",
   "id": "0b529781-9883-4f99-a718-1b37c2fce0f3",
   "metadata": {
    "tags": []
   },
   "source": [
    "Metrics\n",
    "\n",
    "| Image size  | Depth measure | # of utilized qubits\n",
    "| ------------- | ------------- | -------------------|\n",
    "| 2  | 26  | 3 |\n",
    "| 4  | 107  | 5 |\n",
    "| 8  | 431  | 7 |\n",
    "| 16  | 1727  | 9 |\n",
    "| 32  | 6911  | 11|\n",
    "| 64  | 27647  | 13 |\n",
    "| 128  | 110591  | 15 |\n",
    "| 256  | 442367  | 17 |"
   ]
  },
  {
   "cell_type": "code",
   "execution_count": 338,
   "id": "8979116a-cecc-45e5-90e3-d626b247d39c",
   "metadata": {},
   "outputs": [
    {
     "name": "stdout",
     "output_type": "stream",
     "text": [
      "depth is 1490, # of qubits is 16\n"
     ]
    }
   ],
   "source": [
    "print(\"depth is {}, # of qubits is {}\".format(qc.depth(), qc.num_qubits))"
   ]
  },
  {
   "cell_type": "code",
   "execution_count": 340,
   "id": "a17d2edf",
   "metadata": {
    "tags": []
   },
   "outputs": [],
   "source": [
    "aer_sim = Aer.get_backend('aer_simulator')\n",
    "t_qc_image = transpile(qc, aer_sim)\n",
    "qobj = assemble(t_qc_image, shots=80000)\n",
    "job_neqr = aer_sim.run(qobj)\n",
    "result_neqr = job_neqr.result()\n",
    "counts_neqr = result_neqr.get_counts()\n",
    "counts_neqr = ([\"\".join(list(reversed(c))) for c in counts_neqr])"
   ]
  },
  {
   "cell_type": "code",
   "execution_count": 341,
   "id": "1ec2e84e",
   "metadata": {},
   "outputs": [
    {
     "data": {
      "image/png": "[encoded data removed]",
      "text/plain": [
       "<Figure size 432x288 with 1 Axes>"
      ]
     },
     "metadata": {
      "needs_background": "light"
     },
     "output_type": "display_data"
    },
    {
     "data": {
      "image/png": "[encoded data removed]",
      "text/plain": [
       "<Figure size 432x288 with 1 Axes>"
      ]
     },
     "metadata": {
      "needs_background": "light"
     },
     "output_type": "display_data"
    },
    {
     "name": "stdout",
     "output_type": "stream",
     "text": [
      "[[ 84.  96. 204.  86. 150. 157.  64. 167. 138. 118. 250.  42.  85. 158.\n",
      "  129. 123.]\n",
      " [128. 225.  32. 248. 210. 104. 218. 160. 187.  70. 166.  34.  73. 148.\n",
      "  248.  72.]\n",
      " [ 70. 151. 239.  54.  94.  18. 229.  80. 251. 204.  18. 161.  75.  63.\n",
      "  234.  96.]\n",
      " [153.  11. 152. 115. 128. 180. 211.  69. 206. 118. 122.  93.  58. 103.\n",
      "  162.  20.]\n",
      " [189. 121.  78. 247.  61. 106. 190.  48.  33.  28.  14.  36. 136. 165.\n",
      "  152. 251.]\n",
      " [ 32. 132.  37. 184.  37. 254. 122.   2.  33. 173.  39.  75. 157. 220.\n",
      "   76. 171.]\n",
      " [248. 147.  95.  71.  19. 128.  45.  25. 209. 229.  36.  57. 203.  15.\n",
      "   84. 162.]\n",
      " [207.  15. 145.  48. 162.  88.  37. 105. 137. 219. 211.  77.  42.  14.\n",
      "  128. 105.]\n",
      " [ 81. 144.  93. 171. 202. 231.  19. 199. 104. 208.   2.  38.  51. 247.\n",
      "  128. 167.]\n",
      " [242. 247. 113.  77. 104. 132. 193. 151. 199. 172.  28.   1.  51. 183.\n",
      "  193.  90.]\n",
      " [144. 137.   9.  28. 234. 116.  28. 209. 208. 187.  82.  56.  27.  20.\n",
      "  244. 250.]\n",
      " [201.   6.  70.  84. 170. 234.  57. 199. 178.  26. 100.  77.  85. 163.\n",
      "   36.  30.]\n",
      " [ 15. 218.  62.  55.  62. 183.  75.  60.  68. 248. 123. 155. 211. 236.\n",
      "  223.  26.]\n",
      " [138.   9. 204. 158. 143.  79.  14. 192. 188.  99. 144.  17. 232. 253.\n",
      "  165. 123.]\n",
      " [143. 139. 188. 236.  13.  68. 196. 196. 103.  43. 167.  49.   7.   8.\n",
      "   69. 130.]\n",
      " [ 60. 143. 134. 254.  35.  52.  82.  78.  60. 149. 136. 142. 105. 196.\n",
      "  149.  21.]] \n",
      " [[ 84  96 204  86 150 157  64 167 138 118 250  42  85 158 129 123]\n",
      " [128 225  32 248 210 104 218 160 187  70 166  34  73 148 248  72]\n",
      " [ 70 151 239  54  94  18 229  80 251 204  18 161  75  63 234  96]\n",
      " [153  11 152 115 128 180 211  69 206 118 122  93  58 103 162  20]\n",
      " [189 121  78 247  61 106 190  48  33  28  14  36 136 165 152 251]\n",
      " [ 32 132  37 184  37 254 122   2  33 173  39  75 157 220  76 171]\n",
      " [248 147  95  71  19 128  45  25 209 229  36  57 203  15  84 162]\n",
      " [207  15 145  48 162  88  37 105 137 219 211  77  42  14 128 105]\n",
      " [ 81 144  93 171 202 231  19 199 104 208   2  38  51 247 128 167]\n",
      " [242 247 113  77 104 132 193 151 199 172  28   1  51 183 193  90]\n",
      " [144 137   9  28 234 116  28 209 208 187  82  56  27  20 244 250]\n",
      " [201   6  70  84 170 234  57 199 178  26 100  77  85 163  36  30]\n",
      " [ 15 218  62  55  62 183  75  60  68 248 123 155 211 236 223  26]\n",
      " [138   9 204 158 143  79  14 192 188  99 144  17 232 253 165 123]\n",
      " [143 139 188 236  13  68 196 196 103  43 167  49   7   8  69 130]\n",
      " [ 60 143 134 254  35  52  82  78  60 149 136 142 105 196 149  21]]\n"
     ]
    }
   ],
   "source": [
    "out_pixels = []\n",
    "for item in counts_neqr:\n",
    "    out_pixels.append((int(item[0:x], 2), int(item[x:x+y],2), int(item[-q:],2)))\n",
    "out_image = np.zeros(image.shape)\n",
    "for pixel in out_pixels:\n",
    "    if pixel[0]<out_image.shape[0]:\n",
    "        if pixel[1]<out_image.shape[1]:\n",
    "            out_image[pixel[0], pixel[1]] = pixel[2]\n",
    "plt.imshow(out_image, cmap = 'gray')\n",
    "plt.title('Reconstructed image')\n",
    "plt.show()\n",
    "plt.imshow(image, cmap = 'gray')\n",
    "plt.title('Original image')\n",
    "plt.show()\n",
    "print(out_image, '\\n', image)"
   ]
  },
  {
   "cell_type": "markdown",
   "id": "9c8beaef-5142-4fee-ae61-0a1ba0d3f923",
   "metadata": {},
   "source": [
    "# DONE"
   ]
  },
  {
   "cell_type": "code",
   "execution_count": 95,
   "id": "1938cd6b",
   "metadata": {},
   "outputs": [
    {
     "data": {
      "image/png": "[encoded data removed]",
      "text/plain": [
       "<Figure size 432x288 with 1 Axes>"
      ]
     },
     "metadata": {
      "needs_background": "light"
     },
     "output_type": "display_data"
    }
   ],
   "source": [
    "image = np.array([0,1]).reshape(1,2)\n",
    "color_bit_range = 1\n",
    "plt.imshow(image, cmap = 'gray')\n",
    "plt.show()"
   ]
  },
  {
   "cell_type": "code",
   "execution_count": null,
   "id": "d40032de",
   "metadata": {},
   "outputs": [
    {
     "data": {
      "text/html": [
       "<pre style=\"word-wrap: normal;white-space: pre;background: #fff0;line-height: 1.1;font-family: &quot;Courier New&quot;,Courier,monospace\">           ┌───┐ ░ ┌───┐ ░      ┌───┐      ░       ┌─┐\n",
       "  color_0: ┤ I ├─░─┤ I ├─░──────┤ X ├──────░───────┤M├\n",
       "           ├───┤ ░ ├───┤ ░ ┌───┐└─┬─┘┌───┐ ░    ┌─┐└╥┘\n",
       " y axis_0: ┤ H ├─░─┤ I ├─░─┤ X ├──■──┤ X ├─░────┤M├─╫─\n",
       "           ├───┤ ░ ├───┤ ░ └───┘  │  └───┘ ░ ┌─┐└╥┘ ║ \n",
       " x axis_0: ┤ H ├─░─┤ I ├─░────────■────────░─┤M├─╫──╫─\n",
       "           └───┘ ░ └───┘ ░                 ░ └╥┘ ║  ║ \n",
       "classic: 3/═══════════════════════════════════╩══╩══╩═\n",
       "                                              0  1  2 </pre>"
      ],
      "text/plain": [
       "           ┌───┐ ░ ┌───┐ ░      ┌───┐      ░       ┌─┐\n",
       "  color_0: ┤ I ├─░─┤ I ├─░──────┤ X ├──────░───────┤M├\n",
       "           ├───┤ ░ ├───┤ ░ ┌───┐└─┬─┘┌───┐ ░    ┌─┐└╥┘\n",
       " y axis_0: ┤ H ├─░─┤ I ├─░─┤ X ├──■──┤ X ├─░────┤M├─╫─\n",
       "           ├───┤ ░ ├───┤ ░ └───┘  │  └───┘ ░ ┌─┐└╥┘ ║ \n",
       " x axis_0: ┤ H ├─░─┤ I ├─░────────■────────░─┤M├─╫──╫─\n",
       "           └───┘ ░ └───┘ ░                 ░ └╥┘ ║  ║ \n",
       "classic: 3/═══════════════════════════════════╩══╩══╩═\n",
       "                                              0  1  2 "
      ]
     },
     "execution_count": 9,
     "metadata": {},
     "output_type": "execute_result"
    }
   ],
   "source": [
    "x = 1\n",
    "y = 1\n",
    "q = 1\n",
    "\n",
    "color = QuantumRegister(q, 'color')\n",
    "y_ax = QuantumRegister(y, 'y axis')\n",
    "x_ax = QuantumRegister(x, 'x axis')\n",
    "classic = ClassicalRegister(x+y+q, 'classic')\n",
    "qc = QuantumCircuit(color, y_ax, x_ax, classic)\n",
    "\n",
    "qc.i(color)\n",
    "qc.h(x_ax)\n",
    "qc.h(y_ax)\n",
    "qc.barrier()\n",
    "\n",
    "#first pixel\n",
    "qc.i(range(0,qc.num_qubits))\n",
    "qc.barrier()\n",
    "\n",
    "#second pixel\n",
    "qc.x(y_ax)\n",
    "qc.ccx(x_ax[0], y_ax[0], color[0])\n",
    "qc.x(y_ax)\n",
    "qc.barrier()\n",
    "\n",
    "#measure\n",
    "qc.measure(list(reversed(range(qc.num_qubits))), range(classic.size))\n",
    "\n",
    "qc.draw()"
   ]
  },
  {
   "cell_type": "code",
   "execution_count": null,
   "id": "2bb26e5e",
   "metadata": {},
   "outputs": [],
   "source": [
    "aer_sim = Aer.get_backend('aer_simulator')\n",
    "t_qc_image = transpile(qc, aer_sim)\n",
    "qobj = assemble(t_qc_image, shots=1000000)\n",
    "job_neqr = aer_sim.run(qobj)\n",
    "result_neqr = job_neqr.result()\n",
    "counts_neqr = result_neqr.get_counts()\n",
    "plot_histogram(counts_neqr)\n",
    "plt.show()"
   ]
  },
  {
   "cell_type": "code",
   "execution_count": null,
   "id": "3cbdd5ab",
   "metadata": {},
   "outputs": [
    {
     "data": {
      "image/png": "[encoded data removed]",
      "text/plain": [
       "<Figure size 432x288 with 1 Axes>"
      ]
     },
     "metadata": {
      "needs_background": "light"
     },
     "output_type": "display_data"
    },
    {
     "data": {
      "image/png": "[encoded data removed]",
      "text/plain": [
       "<Figure size 432x288 with 1 Axes>"
      ]
     },
     "metadata": {
      "needs_background": "light"
     },
     "output_type": "display_data"
    }
   ],
   "source": [
    "out_pixels = []\n",
    "for item in counts_neqr:\n",
    "    out_pixels.append((int(item[0:color.size], 2), int(item[color.size:],2)))\n",
    "out_image = np.zeros((len(image.flatten(),)))\n",
    "for pixel in out_pixels:\n",
    "    if pixel[1]<out_image.shape[0]:\n",
    "        out_image[pixel[1]] = pixel[0]\n",
    "out_image = np.reshape(out_image, (image.shape))\n",
    "plt.imshow(out_image, cmap = 'gray')\n",
    "plt.title('Reconstructed image')\n",
    "plt.show()\n",
    "plt.imshow(image, cmap = 'gray')\n",
    "plt.title('Original image')\n",
    "plt.show()"
   ]
  }
 ],
 "metadata": {
  "kernelspec": {
   "display_name": "Python 3 (ipykernel)",
   "language": "python",
   "name": "python3"
  },
  "language_info": {
   "codemirror_mode": {
    "name": "ipython",
    "version": 3
   },
   "file_extension": ".py",
   "mimetype": "text/x-python",
   "name": "python",
   "nbconvert_exporter": "python",
   "pygments_lexer": "ipython3",
   "version": "3.8.12"
  }
 },
 "nbformat": 4,
 "nbformat_minor": 5
}
