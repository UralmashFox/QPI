{
 "cells": [
  {
   "cell_type": "code",
   "execution_count": 1,
   "id": "6df4b3e0",
   "metadata": {},
   "outputs": [],
   "source": [
    "from qiskit import QuantumRegister, ClassicalRegister\n",
    "from qiskit import QuantumCircuit, Aer\n",
    "from qiskit import transpile, assemble\n",
    "from qiskit.visualization import plot_histogram\n",
    "import matplotlib.pyplot as plt\n",
    "import numpy as np\n",
    "from qiskit.extensions import XGate\n",
    "import math"
   ]
  },
  {
   "cell_type": "code",
   "execution_count": 33,
   "id": "366d79be",
   "metadata": {},
   "outputs": [
    {
     "data": {
      "text/plain": [
       "<matplotlib.image.AxesImage at 0x171452862e0>"
      ]
     },
     "execution_count": 33,
     "metadata": {},
     "output_type": "execute_result"
    },
    {
     "data": {
      "image/png": "[encoded data removed]",
      "text/plain": [
       "<Figure size 432x288 with 1 Axes>"
      ]
     },
     "metadata": {
      "needs_background": "light"
     },
     "output_type": "display_data"
    }
   ],
   "source": [
    "image = np.random.uniform(low=0, high=255, size=(1,3)).astype(int)\n",
    "plt.imshow(image, cmap = 'gray')"
   ]
  },
  {
   "cell_type": "code",
   "execution_count": 34,
   "id": "5a8047d2-f2d3-44f2-9164-cef5618fff17",
   "metadata": {
    "tags": []
   },
   "outputs": [
    {
     "data": {
      "text/plain": [
       "<qiskit.circuit.instructionset.InstructionSet at 0x17119215910>"
      ]
     },
     "execution_count": 34,
     "metadata": {},
     "output_type": "execute_result"
    }
   ],
   "source": [
    "x = int(np.ceil(math.log(image.shape[0], 2)))\n",
    "if int(x) == 0: x = 1\n",
    "y = int(np.ceil(math.log(image.shape[1], 2)))\n",
    "if int(y) == 0: y = 1\n",
    "q = 8\n",
    "\n",
    "color = QuantumRegister(q, 'color')\n",
    "y_ax = QuantumRegister(y, 'y axis')\n",
    "x_ax = QuantumRegister(x, 'x axis')\n",
    "classic = ClassicalRegister(x+y+q, 'classic')\n",
    "qc = QuantumCircuit(color, y_ax, x_ax, classic)\n",
    "\n",
    "qc.i(color)\n",
    "qc.h(x_ax)\n",
    "qc.h(y_ax)\n",
    "qc.barrier()\n",
    "controls_ = []\n",
    "for i, _ in enumerate(x_ax):\n",
    "    controls_.extend([x_ax[i]])\n",
    "for i, _ in enumerate(y_ax):\n",
    "    controls_.extend([y_ax[i]])  \n",
    "for xi in range(image.shape[0]):\n",
    "    xi_bin = \"{0:b}\".format(xi).zfill(x_ax.size)\n",
    "    for i, bit in enumerate(xi_bin):\n",
    "        if not int(bit):\n",
    "            qc.x(x_ax[i])  \n",
    "    qc.barrier()\n",
    "    for yi in range(image.shape[1]):\n",
    "        yi_bin = \"{0:b}\".format(yi).zfill(y_ax.size)\n",
    "        for i, bit in enumerate(yi_bin):\n",
    "            if not int(bit):\n",
    "                qc.x(y_ax[i]) \n",
    "        qc.barrier()\n",
    "        intensity_bin = \"{0:b}\".format(image[xi, yi]).zfill(len(color))\n",
    "        xg = XGate(None).control(len(controls_))\n",
    "        target = []\n",
    "        for i, bit in enumerate(intensity_bin):\n",
    "            if int(bit):\n",
    "                qc.mcx(controls_, color[i])\n",
    "        qc.barrier()\n",
    "        for i, bit in enumerate(yi_bin):\n",
    "            if not int(bit):\n",
    "                qc.x(y_ax[i])\n",
    "        qc.barrier()\n",
    "    for i, bit in enumerate(xi_bin):\n",
    "        if not int(bit):\n",
    "            qc.x(x_ax[i])\n",
    "    qc.barrier()\n",
    "\n",
    "qc.measure(x_ax, range(x_ax.size))\n",
    "qc.measure(y_ax, range(x_ax.size, x_ax.size+y_ax.size))\n",
    "qc.measure(color, range(x_ax.size+y_ax.size,x_ax.size+y_ax.size+color.size))"
   ]
  },
  {
   "cell_type": "markdown",
   "id": "0b529781-9883-4f99-a718-1b37c2fce0f3",
   "metadata": {
    "tags": []
   },
   "source": [
    "Metrics\n",
    "\n",
    "| Image size  | Depth measure | # of utilized qubits\n",
    "| ------------- | ------------- | -------------------|\n",
    "| 2  | 26  | 10 |\n",
    "| 4  | 102  | 12 |\n",
    "| 8  | 389  | 14 |\n",
    "| 16  | 1491  | 16 |\n",
    "| 32  | 6180  | 18|\n",
    "| 64  | 24511  | 20 |\n",
    "| 128  | 98014  | 22 |\n",
    "| 256  | 392236  | 24 |"
   ]
  },
  {
   "cell_type": "code",
   "execution_count": 35,
   "id": "8979116a-cecc-45e5-90e3-d626b247d39c",
   "metadata": {},
   "outputs": [
    {
     "name": "stdout",
     "output_type": "stream",
     "text": [
      "depth is 23, # of qubits is 11\n"
     ]
    }
   ],
   "source": [
    "print(\"depth is {}, # of qubits is {}\".format(qc.depth(), qc.num_qubits))"
   ]
  },
  {
   "cell_type": "code",
   "execution_count": 36,
   "id": "a17d2edf",
   "metadata": {
    "tags": []
   },
   "outputs": [
    {
     "name": "stdout",
     "output_type": "stream",
     "text": [
      "['01100000000', '11000000000', '00000111000', '10100000000', '01000111001', '00101111110', '10000000000', '11100000000']\n"
     ]
    }
   ],
   "source": [
    "aer_sim = Aer.get_backend('aer_simulator')\n",
    "t_qc_image = transpile(qc, aer_sim)\n",
    "qobj = assemble(t_qc_image, shots=80000)\n",
    "job_neqr = aer_sim.run(qobj)\n",
    "result_neqr = job_neqr.result()\n",
    "counts_neqr = result_neqr.get_counts()\n",
    "counts_neqr = ([\"\".join(list(reversed(c))) for c in counts_neqr])\n",
    "print(counts_neqr)"
   ]
  },
  {
   "cell_type": "code",
   "execution_count": 37,
   "id": "1ec2e84e",
   "metadata": {},
   "outputs": [
    {
     "data": {
      "image/png": "[encoded data removed]",
      "text/plain": [
       "<Figure size 432x288 with 1 Axes>"
      ]
     },
     "metadata": {
      "needs_background": "light"
     },
     "output_type": "display_data"
    },
    {
     "data": {
      "image/png": "[encoded data removed]",
      "text/plain": [
       "<Figure size 432x288 with 1 Axes>"
      ]
     },
     "metadata": {
      "needs_background": "light"
     },
     "output_type": "display_data"
    },
    {
     "name": "stdout",
     "output_type": "stream",
     "text": [
      "[[ 56. 126.  57.]] \n",
      " [[ 56 126  57]]\n"
     ]
    }
   ],
   "source": [
    "out_pixels = []\n",
    "for item in counts_neqr:\n",
    "    out_pixels.append((int(item[0:x], 2), int(item[x:x+y],2), int(item[-q:],2)))\n",
    "out_image = np.zeros(image.shape)\n",
    "for pixel in out_pixels:\n",
    "    if pixel[0]<out_image.shape[0]:\n",
    "        if pixel[1]<out_image.shape[1]:\n",
    "            out_image[pixel[0], pixel[1]] = pixel[2]\n",
    "plt.imshow(out_image, cmap = 'gray')\n",
    "plt.title('Reconstructed image')\n",
    "plt.show()\n",
    "plt.imshow(image, cmap = 'gray')\n",
    "plt.title('Original image')\n",
    "plt.show()\n",
    "print(out_image, '\\n', image)"
   ]
  }
 ],
 "metadata": {
  "kernelspec": {
   "display_name": "Python 3 (ipykernel)",
   "language": "python",
   "name": "python3"
  },
  "language_info": {
   "codemirror_mode": {
    "name": "ipython",
    "version": 3
   },
   "file_extension": ".py",
   "mimetype": "text/x-python",
   "name": "python",
   "nbconvert_exporter": "python",
   "pygments_lexer": "ipython3",
   "version": "3.8.12"
  }
 },
 "nbformat": 4,
 "nbformat_minor": 5
}
