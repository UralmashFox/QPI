{
 "cells": [
  {
   "cell_type": "code",
   "execution_count": 1,
   "metadata": {},
   "outputs": [],
   "source": [
    "from qiskit import QuantumRegister, ClassicalRegister\n",
    "from qiskit import QuantumCircuit, Aer\n",
    "from qiskit import transpile, assemble\n",
    "from qiskit.visualization import plot_histogram\n",
    "import matplotlib.pyplot as plt\n",
    "import numpy as np\n",
    "from qiskit.extensions import XGate"
   ]
  },
  {
   "cell_type": "code",
   "execution_count": 2,
   "metadata": {},
   "outputs": [
    {
     "data": {
      "image/png": "[encoded data removed]",
      "text/plain": [
       "<Figure size 432x288 with 1 Axes>"
      ]
     },
     "metadata": {},
     "output_type": "display_data"
    }
   ],
   "source": [
    "image = np.array([0, 128, 255, 100]).reshape(1,4)\n",
    "plt.imshow(image, cmap = 'gray')\n",
    "plt.show()"
   ]
  },
  {
   "cell_type": "code",
   "execution_count": 3,
   "metadata": {},
   "outputs": [
    {
     "data": {
      "text/html": [
       "<pre style=\"word-wrap: normal;white-space: pre;background: #fff0;line-height: 1.1;font-family: &quot;Courier New&quot;,Courier,monospace\">            ┌───┐ ░ ┌───┐ ░      ┌───┐      ░                               »\n",
       "   color_0: ┤ I ├─░─┤ I ├─░──────┤ X ├──────░───────────────────────────────»\n",
       "            ├───┤ ░ ├───┤ ░      └─┬─┘      ░                               »\n",
       "   color_1: ┤ I ├─░─┤ I ├─░────────┼────────░───────────────────────────────»\n",
       "            ├───┤ ░ ├───┤ ░        │        ░                               »\n",
       "   color_2: ┤ I ├─░─┤ I ├─░────────┼────────░───────────────────────────────»\n",
       "            ├───┤ ░ ├───┤ ░        │        ░                          ┌───┐»\n",
       "   color_3: ┤ I ├─░─┤ I ├─░────────┼────────░──────────────────────────┤ X ├»\n",
       "            ├───┤ ░ ├───┤ ░        │        ░                     ┌───┐└─┬─┘»\n",
       "   color_4: ┤ I ├─░─┤ I ├─░────────┼────────░─────────────────────┤ X ├──┼──»\n",
       "            ├───┤ ░ ├───┤ ░        │        ░                ┌───┐└─┬─┘  │  »\n",
       "   color_5: ┤ I ├─░─┤ I ├─░────────┼────────░────────────────┤ X ├──┼────┼──»\n",
       "            ├───┤ ░ ├───┤ ░        │        ░           ┌───┐└─┬─┘  │    │  »\n",
       "   color_6: ┤ I ├─░─┤ I ├─░────────┼────────░───────────┤ X ├──┼────┼────┼──»\n",
       "            ├───┤ ░ ├───┤ ░        │        ░      ┌───┐└─┬─┘  │    │    │  »\n",
       "   color_7: ┤ I ├─░─┤ I ├─░────────┼────────░──────┤ X ├──┼────┼────┼────┼──»\n",
       "            ├───┤ ░ ├───┤ ░ ┌───┐  │  ┌───┐ ░ ┌───┐└─┬─┘  │    │    │    │  »\n",
       "  y axis_0: ┤ H ├─░─┤ I ├─░─┤ X ├──■──┤ X ├─░─┤ X ├──■────■────■────■────■──»\n",
       "            ├───┤ ░ ├───┤ ░ ├───┤  │  ├───┤ ░ └───┘  │    │    │    │    │  »\n",
       "  y axis_1: ┤ H ├─░─┤ I ├─░─┤ X ├──■──┤ X ├─░────────■────■────■────■────■──»\n",
       "            ├───┤ ░ ├───┤ ░ └───┘  │  └───┘ ░ ┌───┐  │    │    │    │    │  »\n",
       "  x axis_0: ┤ H ├─░─┤ I ├─░────────■────────░─┤ X ├──■────■────■────■────■──»\n",
       "            └───┘ ░ └───┘ ░                 ░ └───┘                         »\n",
       "classic: 11/════════════════════════════════════════════════════════════════»\n",
       "                                                                            »\n",
       "«                      ┌───┐      ░                           ░                »\n",
       "«   color_0: ──────────┤ X ├──────░───────────────────────────░────────────────»\n",
       "«                 ┌───┐└─┬─┘      ░                ┌───┐      ░                »\n",
       "«   color_1: ─────┤ X ├──┼────────░────────────────┤ X ├──────░────────────────»\n",
       "«            ┌───┐└─┬─┘  │        ░           ┌───┐└─┬─┘      ░                »\n",
       "«   color_2: ┤ X ├──┼────┼────────░───────────┤ X ├──┼────────░────────────────»\n",
       "«            └─┬─┘  │    │        ░           └─┬─┘  │        ░                »\n",
       "«   color_3: ──┼────┼────┼────────░─────────────┼────┼────────░────────────────»\n",
       "«              │    │    │        ░             │    │        ░                »\n",
       "«   color_4: ──┼────┼────┼────────░─────────────┼────┼────────░────────────────»\n",
       "«              │    │    │        ░      ┌───┐  │    │        ░                »\n",
       "«   color_5: ──┼────┼────┼────────░──────┤ X ├──┼────┼────────░────────────────»\n",
       "«              │    │    │        ░      └─┬─┘  │    │        ░             ┌─┐»\n",
       "«   color_6: ──┼────┼────┼────────░────────┼────┼────┼────────░─────────────┤M├»\n",
       "«              │    │    │        ░        │    │    │        ░          ┌─┐└╥┘»\n",
       "«   color_7: ──┼────┼────┼────────░────────┼────┼────┼────────░──────────┤M├─╫─»\n",
       "«              │    │    │  ┌───┐ ░ ┌───┐  │    │    │  ┌───┐ ░       ┌─┐└╥┘ ║ »\n",
       "«  y axis_0: ──■────■────■──┤ X ├─░─┤ X ├──■────■────■──┤ X ├─░───────┤M├─╫──╫─»\n",
       "«              │    │    │  └───┘ ░ └───┘  │    │    │  └───┘ ░    ┌─┐└╥┘ ║  ║ »\n",
       "«  y axis_1: ──■────■────■────────░────────■────■────■────────░────┤M├─╫──╫──╫─»\n",
       "«              │    │    │  ┌───┐ ░        │    │    │        ░ ┌─┐└╥┘ ║  ║  ║ »\n",
       "«  x axis_0: ──■────■────■──┤ X ├─░────────■────■────■────────░─┤M├─╫──╫──╫──╫─»\n",
       "«                           └───┘ ░                           ░ └╥┘ ║  ║  ║  ║ »\n",
       "«classic: 11/════════════════════════════════════════════════════╩══╩══╩══╩══╩═»\n",
       "«                                                                0  1  2  3  4 »\n",
       "«                           ┌─┐\n",
       "«   color_0: ───────────────┤M├\n",
       "«                        ┌─┐└╥┘\n",
       "«   color_1: ────────────┤M├─╫─\n",
       "«                     ┌─┐└╥┘ ║ \n",
       "«   color_2: ─────────┤M├─╫──╫─\n",
       "«                  ┌─┐└╥┘ ║  ║ \n",
       "«   color_3: ──────┤M├─╫──╫──╫─\n",
       "«               ┌─┐└╥┘ ║  ║  ║ \n",
       "«   color_4: ───┤M├─╫──╫──╫──╫─\n",
       "«            ┌─┐└╥┘ ║  ║  ║  ║ \n",
       "«   color_5: ┤M├─╫──╫──╫──╫──╫─\n",
       "«            └╥┘ ║  ║  ║  ║  ║ \n",
       "«   color_6: ─╫──╫──╫──╫──╫──╫─\n",
       "«             ║  ║  ║  ║  ║  ║ \n",
       "«   color_7: ─╫──╫──╫──╫──╫──╫─\n",
       "«             ║  ║  ║  ║  ║  ║ \n",
       "«  y axis_0: ─╫──╫──╫──╫──╫──╫─\n",
       "«             ║  ║  ║  ║  ║  ║ \n",
       "«  y axis_1: ─╫──╫──╫──╫──╫──╫─\n",
       "«             ║  ║  ║  ║  ║  ║ \n",
       "«  x axis_0: ─╫──╫──╫──╫──╫──╫─\n",
       "«             ║  ║  ║  ║  ║  ║ \n",
       "«classic: 11/═╩══╩══╩══╩══╩══╩═\n",
       "«             5  6  7  8  9  10</pre>"
      ],
      "text/plain": [
       "<pre style=\"word-wrap: normal;white-space: pre;background: #fff0;line-height: 1.1;font-family: &quot;Courier New&quot;,Courier,monospace\">            ┌───┐ ░ ┌───┐ ░      ┌───┐      ░                               »\n",
       "   color_0: ┤ I ├─░─┤ I ├─░──────┤ X ├──────░───────────────────────────────»\n",
       "            ├───┤ ░ ├───┤ ░      └─┬─┘      ░                               »\n",
       "   color_1: ┤ I ├─░─┤ I ├─░────────┼────────░───────────────────────────────»\n",
       "            ├───┤ ░ ├───┤ ░        │        ░                               »\n",
       "   color_2: ┤ I ├─░─┤ I ├─░────────┼────────░───────────────────────────────»\n",
       "            ├───┤ ░ ├───┤ ░        │        ░                          ┌───┐»\n",
       "   color_3: ┤ I ├─░─┤ I ├─░────────┼────────░──────────────────────────┤ X ├»\n",
       "            ├───┤ ░ ├───┤ ░        │        ░                     ┌───┐└─┬─┘»\n",
       "   color_4: ┤ I ├─░─┤ I ├─░────────┼────────░─────────────────────┤ X ├──┼──»\n",
       "            ├───┤ ░ ├───┤ ░        │        ░                ┌───┐└─┬─┘  │  »\n",
       "   color_5: ┤ I ├─░─┤ I ├─░────────┼────────░────────────────┤ X ├──┼────┼──»\n",
       "            ├───┤ ░ ├───┤ ░        │        ░           ┌───┐└─┬─┘  │    │  »\n",
       "   color_6: ┤ I ├─░─┤ I ├─░────────┼────────░───────────┤ X ├──┼────┼────┼──»\n",
       "            ├───┤ ░ ├───┤ ░        │        ░      ┌───┐└─┬─┘  │    │    │  »\n",
       "   color_7: ┤ I ├─░─┤ I ├─░────────┼────────░──────┤ X ├──┼────┼────┼────┼──»\n",
       "            ├───┤ ░ ├───┤ ░ ┌───┐  │  ┌───┐ ░ ┌───┐└─┬─┘  │    │    │    │  »\n",
       "  y axis_0: ┤ H ├─░─┤ I ├─░─┤ X ├──■──┤ X ├─░─┤ X ├──■────■────■────■────■──»\n",
       "            ├───┤ ░ ├───┤ ░ ├───┤  │  ├───┤ ░ └───┘  │    │    │    │    │  »\n",
       "  y axis_1: ┤ H ├─░─┤ I ├─░─┤ X ├──■──┤ X ├─░────────■────■────■────■────■──»\n",
       "            ├───┤ ░ ├───┤ ░ └───┘  │  └───┘ ░ ┌───┐  │    │    │    │    │  »\n",
       "  x axis_0: ┤ H ├─░─┤ I ├─░────────■────────░─┤ X ├──■────■────■────■────■──»\n",
       "            └───┘ ░ └───┘ ░                 ░ └───┘                         »\n",
       "classic: 11/════════════════════════════════════════════════════════════════»\n",
       "                                                                            »\n",
       "«                      ┌───┐      ░                           ░                »\n",
       "«   color_0: ──────────┤ X ├──────░───────────────────────────░────────────────»\n",
       "«                 ┌───┐└─┬─┘      ░                ┌───┐      ░                »\n",
       "«   color_1: ─────┤ X ├──┼────────░────────────────┤ X ├──────░────────────────»\n",
       "«            ┌───┐└─┬─┘  │        ░           ┌───┐└─┬─┘      ░                »\n",
       "«   color_2: ┤ X ├──┼────┼────────░───────────┤ X ├──┼────────░────────────────»\n",
       "«            └─┬─┘  │    │        ░           └─┬─┘  │        ░                »\n",
       "«   color_3: ──┼────┼────┼────────░─────────────┼────┼────────░────────────────»\n",
       "«              │    │    │        ░             │    │        ░                »\n",
       "«   color_4: ──┼────┼────┼────────░─────────────┼────┼────────░────────────────»\n",
       "«              │    │    │        ░      ┌───┐  │    │        ░                »\n",
       "«   color_5: ──┼────┼────┼────────░──────┤ X ├──┼────┼────────░────────────────»\n",
       "«              │    │    │        ░      └─┬─┘  │    │        ░             ┌─┐»\n",
       "«   color_6: ──┼────┼────┼────────░────────┼────┼────┼────────░─────────────┤M├»\n",
       "«              │    │    │        ░        │    │    │        ░          ┌─┐└╥┘»\n",
       "«   color_7: ──┼────┼────┼────────░────────┼────┼────┼────────░──────────┤M├─╫─»\n",
       "«              │    │    │  ┌───┐ ░ ┌───┐  │    │    │  ┌───┐ ░       ┌─┐└╥┘ ║ »\n",
       "«  y axis_0: ──■────■────■──┤ X ├─░─┤ X ├──■────■────■──┤ X ├─░───────┤M├─╫──╫─»\n",
       "«              │    │    │  └───┘ ░ └───┘  │    │    │  └───┘ ░    ┌─┐└╥┘ ║  ║ »\n",
       "«  y axis_1: ──■────■────■────────░────────■────■────■────────░────┤M├─╫──╫──╫─»\n",
       "«              │    │    │  ┌───┐ ░        │    │    │        ░ ┌─┐└╥┘ ║  ║  ║ »\n",
       "«  x axis_0: ──■────■────■──┤ X ├─░────────■────■────■────────░─┤M├─╫──╫──╫──╫─»\n",
       "«                           └───┘ ░                           ░ └╥┘ ║  ║  ║  ║ »\n",
       "«classic: 11/════════════════════════════════════════════════════╩══╩══╩══╩══╩═»\n",
       "«                                                                0  1  2  3  4 »\n",
       "«                           ┌─┐\n",
       "«   color_0: ───────────────┤M├\n",
       "«                        ┌─┐└╥┘\n",
       "«   color_1: ────────────┤M├─╫─\n",
       "«                     ┌─┐└╥┘ ║ \n",
       "«   color_2: ─────────┤M├─╫──╫─\n",
       "«                  ┌─┐└╥┘ ║  ║ \n",
       "«   color_3: ──────┤M├─╫──╫──╫─\n",
       "«               ┌─┐└╥┘ ║  ║  ║ \n",
       "«   color_4: ───┤M├─╫──╫──╫──╫─\n",
       "«            ┌─┐└╥┘ ║  ║  ║  ║ \n",
       "«   color_5: ┤M├─╫──╫──╫──╫──╫─\n",
       "«            └╥┘ ║  ║  ║  ║  ║ \n",
       "«   color_6: ─╫──╫──╫──╫──╫──╫─\n",
       "«             ║  ║  ║  ║  ║  ║ \n",
       "«   color_7: ─╫──╫──╫──╫──╫──╫─\n",
       "«             ║  ║  ║  ║  ║  ║ \n",
       "«  y axis_0: ─╫──╫──╫──╫──╫──╫─\n",
       "«             ║  ║  ║  ║  ║  ║ \n",
       "«  y axis_1: ─╫──╫──╫──╫──╫──╫─\n",
       "«             ║  ║  ║  ║  ║  ║ \n",
       "«  x axis_0: ─╫──╫──╫──╫──╫──╫─\n",
       "«             ║  ║  ║  ║  ║  ║ \n",
       "«classic: 11/═╩══╩══╩══╩══╩══╩═\n",
       "«             5  6  7  8  9  10</pre>"
      ]
     },
     "execution_count": 3,
     "metadata": {},
     "output_type": "execute_result"
    }
   ],
   "source": [
    "x = 1\n",
    "y = 2\n",
    "q = 8\n",
    "\n",
    "color = QuantumRegister(q, 'color')\n",
    "y_ax = QuantumRegister(y, 'y axis')\n",
    "x_ax = QuantumRegister(x, 'x axis')\n",
    "classic = ClassicalRegister(x+y+q, 'classic')\n",
    "qc = QuantumCircuit(color, y_ax, x_ax, classic)\n",
    "\n",
    "qc.i(color)\n",
    "qc.h(x_ax)\n",
    "qc.h(y_ax)\n",
    "qc.barrier()\n",
    "\n",
    "#first pixel\n",
    "qc.i(range(0,qc.num_qubits))\n",
    "qc.barrier()\n",
    "\n",
    "#second pixel\n",
    "qc.x(y_ax)\n",
    "controls = [x_ax[0], y_ax[1], y_ax[0]]\n",
    "xg = XGate(None).control(len(controls))\n",
    "controls.append(0)\n",
    "qc.append(xg, controls)\n",
    "qc.x(y_ax)\n",
    "qc.barrier()\n",
    "\n",
    "#third pixel\n",
    "qc.x(x_ax)\n",
    "qc.x(y_ax[0])\n",
    "for i in reversed(list(range(color.size))):\n",
    "    controls = [x_ax[0], y_ax[1], y_ax[0]]\n",
    "    xg = XGate(None).control(len(controls))\n",
    "    controls.append(i)\n",
    "    qc.append(xg, controls)\n",
    "qc.x(x_ax)\n",
    "qc.x(y_ax[0])\n",
    "qc.barrier()\n",
    "\n",
    "#fourth pixel\n",
    "qc.x(y_ax[0])\n",
    "for i in reversed([1,2,5]):\n",
    "    controls = [x_ax[0], y_ax[1], y_ax[0]]\n",
    "    xg = XGate(None).control(len(controls))\n",
    "    controls.append(i)\n",
    "    qc.append(xg, controls)\n",
    "qc.x(y_ax[0])\n",
    "qc.barrier()\n",
    "\n",
    "#measure\n",
    "qc.measure(list(reversed(range(qc.num_qubits))), range(classic.size))\n",
    "\n",
    "qc.draw()"
   ]
  },
  {
   "cell_type": "code",
   "execution_count": 5,
   "metadata": {
    "tags": []
   },
   "outputs": [],
   "source": [
    "aer_sim = Aer.get_backend('aer_simulator')\n",
    "t_qc_image = transpile(qc, aer_sim)\n",
    "qobj = assemble(t_qc_image, shots=10000)\n",
    "job_neqr = aer_sim.run(qobj)\n",
    "result_neqr = job_neqr.result()\n",
    "counts_neqr = result_neqr.get_counts()\n",
    "# plot_histogram(counts_neqr)\n",
    "# plt.show()"
   ]
  },
  {
   "cell_type": "code",
   "execution_count": 6,
   "metadata": {},
   "outputs": [
    {
     "data": {
      "image/png": "[encoded data removed]",
      "text/plain": [
       "<Figure size 432x288 with 1 Axes>"
      ]
     },
     "metadata": {},
     "output_type": "display_data"
    },
    {
     "data": {
      "image/png": "[encoded data removed]",
      "text/plain": [
       "<Figure size 432x288 with 1 Axes>"
      ]
     },
     "metadata": {},
     "output_type": "display_data"
    }
   ],
   "source": [
    "out_pixels = []\n",
    "for item in counts_neqr:\n",
    "    out_pixels.append((int(item[0:color.size], 2), int(item[color.size:],2)))\n",
    "out_image = np.zeros((len(image.flatten(),)))\n",
    "for pixel in out_pixels:\n",
    "    if pixel[1]<out_image.shape[0]:\n",
    "        out_image[pixel[1]] = pixel[0]\n",
    "out_image = np.reshape(out_image, (image.shape))\n",
    "plt.imshow(out_image, cmap = 'gray')\n",
    "plt.title('Reconstructed image')\n",
    "plt.show()\n",
    "plt.imshow(image, cmap = 'gray')\n",
    "plt.title('Original image')\n",
    "plt.show()"
   ]
  },
  {
   "cell_type": "code",
   "execution_count": 7,
   "metadata": {},
   "outputs": [
    {
     "name": "stdout",
     "output_type": "stream",
     "text": [
      "21\n"
     ]
    }
   ],
   "source": [
    "print(qc.depth())"
   ]
  },
  {
   "cell_type": "code",
   "execution_count": 8,
   "metadata": {},
   "outputs": [
    {
     "data": {
      "image/png": "[encoded data removed]",
      "text/plain": [
       "<Figure size 432x288 with 1 Axes>"
      ]
     },
     "metadata": {},
     "output_type": "display_data"
    }
   ],
   "source": [
    "image = np.array([0,1]).reshape(1,2)\n",
    "color_bit_range = 1\n",
    "plt.imshow(image, cmap = 'gray')\n",
    "plt.show()"
   ]
  },
  {
   "cell_type": "code",
   "execution_count": 9,
   "metadata": {},
   "outputs": [
    {
     "data": {
      "text/html": [
       "<pre style=\"word-wrap: normal;white-space: pre;background: #fff0;line-height: 1.1;font-family: &quot;Courier New&quot;,Courier,monospace\">           ┌───┐ ░ ┌───┐ ░      ┌───┐      ░       ┌─┐\n",
       "  color_0: ┤ I ├─░─┤ I ├─░──────┤ X ├──────░───────┤M├\n",
       "           ├───┤ ░ ├───┤ ░ ┌───┐└─┬─┘┌───┐ ░    ┌─┐└╥┘\n",
       " y axis_0: ┤ H ├─░─┤ I ├─░─┤ X ├──■──┤ X ├─░────┤M├─╫─\n",
       "           ├───┤ ░ ├───┤ ░ └───┘  │  └───┘ ░ ┌─┐└╥┘ ║ \n",
       " x axis_0: ┤ H ├─░─┤ I ├─░────────■────────░─┤M├─╫──╫─\n",
       "           └───┘ ░ └───┘ ░                 ░ └╥┘ ║  ║ \n",
       "classic: 3/═══════════════════════════════════╩══╩══╩═\n",
       "                                              0  1  2 </pre>"
      ],
      "text/plain": [
       "<pre style=\"word-wrap: normal;white-space: pre;background: #fff0;line-height: 1.1;font-family: &quot;Courier New&quot;,Courier,monospace\">           ┌───┐ ░ ┌───┐ ░      ┌───┐      ░       ┌─┐\n",
       "  color_0: ┤ I ├─░─┤ I ├─░──────┤ X ├──────░───────┤M├\n",
       "           ├───┤ ░ ├───┤ ░ ┌───┐└─┬─┘┌───┐ ░    ┌─┐└╥┘\n",
       " y axis_0: ┤ H ├─░─┤ I ├─░─┤ X ├──■──┤ X ├─░────┤M├─╫─\n",
       "           ├───┤ ░ ├───┤ ░ └───┘  │  └───┘ ░ ┌─┐└╥┘ ║ \n",
       " x axis_0: ┤ H ├─░─┤ I ├─░────────■────────░─┤M├─╫──╫─\n",
       "           └───┘ ░ └───┘ ░                 ░ └╥┘ ║  ║ \n",
       "classic: 3/═══════════════════════════════════╩══╩══╩═\n",
       "                                              0  1  2 </pre>"
      ]
     },
     "execution_count": 9,
     "metadata": {},
     "output_type": "execute_result"
    }
   ],
   "source": [
    "x = 1\n",
    "y = 1\n",
    "q = 1\n",
    "\n",
    "color = QuantumRegister(q, 'color')\n",
    "y_ax = QuantumRegister(y, 'y axis')\n",
    "x_ax = QuantumRegister(x, 'x axis')\n",
    "classic = ClassicalRegister(x+y+q, 'classic')\n",
    "qc = QuantumCircuit(color, y_ax, x_ax, classic)\n",
    "\n",
    "qc.i(color)\n",
    "qc.h(x_ax)\n",
    "qc.h(y_ax)\n",
    "qc.barrier()\n",
    "\n",
    "#first pixel\n",
    "qc.i(range(0,qc.num_qubits))\n",
    "qc.barrier()\n",
    "\n",
    "#second pixel\n",
    "qc.x(y_ax)\n",
    "qc.ccx(x_ax[0], y_ax[0], color[0])\n",
    "qc.x(y_ax)\n",
    "qc.barrier()\n",
    "\n",
    "#measure\n",
    "qc.measure(list(reversed(range(qc.num_qubits))), range(classic.size))\n",
    "\n",
    "qc.draw()"
   ]
  },
  {
   "cell_type": "code",
   "execution_count": 10,
   "metadata": {},
   "outputs": [
    {
     "data": {
      "image/png": "[encoded data removed]",
      "text/plain": [
       "<Figure size 504x360 with 1 Axes>"
      ]
     },
     "metadata": {},
     "output_type": "display_data"
    }
   ],
   "source": [
    "aer_sim = Aer.get_backend('aer_simulator')\n",
    "t_qc_image = transpile(qc, aer_sim)\n",
    "qobj = assemble(t_qc_image, shots=1000000)\n",
    "job_neqr = aer_sim.run(qobj)\n",
    "result_neqr = job_neqr.result()\n",
    "counts_neqr = result_neqr.get_counts()\n",
    "plot_histogram(counts_neqr)\n",
    "plt.show()"
   ]
  },
  {
   "cell_type": "code",
   "execution_count": 10,
   "metadata": {},
   "outputs": [
    {
     "data": {
      "image/png": "[encoded data removed]",
      "text/plain": [
       "<Figure size 432x288 with 1 Axes>"
      ]
     },
     "metadata": {
      "needs_background": "light"
     },
     "output_type": "display_data"
    },
    {
     "data": {
      "image/png": "[encoded data removed]",
      "text/plain": [
       "<Figure size 432x288 with 1 Axes>"
      ]
     },
     "metadata": {
      "needs_background": "light"
     },
     "output_type": "display_data"
    }
   ],
   "source": [
    "out_pixels = []\n",
    "for item in counts_neqr:\n",
    "    out_pixels.append((int(item[0:color.size], 2), int(item[color.size:],2)))\n",
    "out_image = np.zeros((len(image.flatten(),)))\n",
    "for pixel in out_pixels:\n",
    "    if pixel[1]<out_image.shape[0]:\n",
    "        out_image[pixel[1]] = pixel[0]\n",
    "out_image = np.reshape(out_image, (image.shape))\n",
    "plt.imshow(out_image, cmap = 'gray')\n",
    "plt.title('Reconstructed image')\n",
    "plt.show()\n",
    "plt.imshow(image, cmap = 'gray')\n",
    "plt.title('Original image')\n",
    "plt.show()"
   ]
  }
 ],
 "metadata": {
  "kernelspec": {
   "display_name": "Python 3 (ipykernel)",
   "language": "python",
   "name": "python3"
  },
  "language_info": {
   "codemirror_mode": {
    "name": "ipython",
    "version": 3
   },
   "file_extension": ".py",
   "mimetype": "text/x-python",
   "name": "python",
   "nbconvert_exporter": "python",
   "pygments_lexer": "ipython3",
   "version": "3.8.12"
  }
 },
 "nbformat": 4,
 "nbformat_minor": 5
}
