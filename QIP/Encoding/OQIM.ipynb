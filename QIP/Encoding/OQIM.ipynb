{
 "cells": [
  {
   "cell_type": "code",
   "execution_count": 1,
   "id": "99f550cc-9696-462d-abb4-fa38693f6d19",
   "metadata": {},
   "outputs": [],
   "source": [
    "from qiskit import QuantumRegister, ClassicalRegister\n",
    "from qiskit import QuantumCircuit, Aer\n",
    "from qiskit import transpile, assemble\n",
    "from qiskit.visualization import plot_histogram\n",
    "import matplotlib.pyplot as plt\n",
    "import numpy as np\n",
    "import math\n",
    "from qiskit.extensions import XGate\n",
    "from ibm_washington_config import coupling_map, basis_gates\n",
    "from ionq_config import coupling_map, basis_gates"
   ]
  },
  {
   "cell_type": "code",
   "execution_count": 2,
   "id": "04ba76ce-7a25-4bf7-963b-5c7238f218dd",
   "metadata": {},
   "outputs": [
    {
     "data": {
      "image/png": "[encoded data removed]",
      "text/plain": [
       "<Figure size 432x288 with 1 Axes>"
      ]
     },
     "metadata": {
      "needs_background": "light"
     },
     "output_type": "display_data"
    }
   ],
   "source": [
    "image = np.random.uniform(low=0, high=255, size=(8,8)).astype(int)\n",
    "plt.imshow(image, cmap='gray')\n",
    "plt.title('Image')\n",
    "plt.show()\n",
    "\n",
    "w_bits = int(np.ceil(math.log(image.shape[1],2)))\n",
    "h_bits = int(np.ceil(math.log(image.shape[0],2)))\n",
    "if not w_bits: w_bits = 1\n",
    "if not h_bits: h_bits = 1"
   ]
  },
  {
   "cell_type": "markdown",
   "id": "66febd7d-bcd0-40f0-bba7-8c862736b9ad",
   "metadata": {},
   "source": [
    "sort pixels"
   ]
  },
  {
   "cell_type": "code",
   "execution_count": 3,
   "id": "2829e8c6-897b-490e-b00e-3b3e50b64a97",
   "metadata": {},
   "outputs": [],
   "source": [
    "im_list = image.flatten()\n",
    "ind_list = sorted(range(len(im_list)), key=lambda k:im_list[k])\n",
    "max_index = max(ind_list)\n",
    "#now in angles: theta = intensity, phi = coordinate\n",
    "thetas = np.interp(im_list, (0, 256), (0, np.pi/2))\n",
    "phis = np.interp(range(len(im_list)), (0, len(im_list)), (0, np.pi/2))"
   ]
  },
  {
   "cell_type": "code",
   "execution_count": 4,
   "id": "7dd4e110-f589-4144-af6d-ce65e4c7b824",
   "metadata": {},
   "outputs": [],
   "source": [
    "num_ind_bits = int(np.ceil(math.log(len(im_list),2)))\n",
    "if not num_ind_bits:\n",
    "    num_ind_bits = 1"
   ]
  },
  {
   "cell_type": "code",
   "execution_count": 5,
   "id": "4ffe9a36-a824-4296-baf3-563888e87bf2",
   "metadata": {},
   "outputs": [
    {
     "data": {
      "text/plain": [
       "<qiskit.circuit.instructionset.InstructionSet at 0x260664c3640>"
      ]
     },
     "execution_count": 5,
     "metadata": {},
     "output_type": "execute_result"
    }
   ],
   "source": [
    "O = QuantumRegister(num_ind_bits, 'o_reg')\n",
    "c = QuantumRegister(1,'c_reg')\n",
    "p = QuantumRegister(1, 'p_reg')\n",
    "cr = ClassicalRegister(O.size+c.size+p.size, \"cl_reg\")\n",
    "\n",
    "qc_image = QuantumCircuit(c, p, O, cr)\n",
    "num_qubits = qc_image.num_qubits\n",
    "input_im = image.copy().flatten()\n",
    "qc_image.i(c)\n",
    "qc_image.h(O)\n",
    "qc_image.h(p)\n",
    "controls_ = []\n",
    "for i, _ in enumerate(O):\n",
    "    controls_.extend([O[i]])\n",
    "for i, _ in enumerate(p):\n",
    "    controls_.extend([p[i]]) \n",
    "\n",
    "for i, (phi, theta) in enumerate(zip(phis, thetas)):\n",
    "    qubit_index_bin = \"{0:b}\".format(i).zfill(num_ind_bits)\n",
    "    \n",
    "    for k, qub_ind in enumerate(qubit_index_bin):\n",
    "        if int(qub_ind):\n",
    "            qc_image.x(O[k])\n",
    "            \n",
    "    # qc_image.barrier()\n",
    "    \n",
    "    for coord_or_intns in (0,1):\n",
    "        if not coord_or_intns:\n",
    "            qc_image.mcry(theta=2*theta,\n",
    "                          q_controls=controls_,\n",
    "                          q_target=c[0])\n",
    "        else:\n",
    "            qc_image.x(p)\n",
    "            qc_image.mcry(theta=2*phi,\n",
    "                          q_controls=controls_,\n",
    "                          q_target=c[0])\n",
    "            if i!=len(thetas) - 1:\n",
    "                qc_image.x(p)\n",
    "       \n",
    "    # qc_image.barrier()\n",
    "    \n",
    "    if  i!=len(thetas) - 1:\n",
    "        for k, qub_ind in enumerate(qubit_index_bin):\n",
    "            if int(qub_ind):\n",
    "                qc_image.x(O[k])\n",
    "           \n",
    "    # qc_image.barrier()\n",
    "\n",
    "qc_image.measure(list(reversed(range(qc_image.num_qubits))), list(range(cr.size)))"
   ]
  },
  {
   "cell_type": "markdown",
   "id": "c247763d-f08f-4e5e-921a-58eb68467dd2",
   "metadata": {},
   "source": [
    "Metrics\n",
    "\n",
    "| Image size  | Depth measure | # of utilized qubits |Washington depth | IonQ depth |\n",
    "| ------------- | ------------- | -------------------|-----------------|------------|\n",
    "| 2  | 111  | 4 | 512| 261|\n",
    "| 4  | 1983  | 6 | 11765| 4888|\n",
    "| 8  | 32511  | 8 | 194961| 81016|\n",
    "| 16  | 523263  | 10 | ||\n",
    "| 32  | 8382466  | 12|\n",
    "| 64  | -  | 13 |\n",
    "| 128  | -  | 15 |\n",
    "| 256  | -  | 17 |"
   ]
  },
  {
   "cell_type": "code",
   "execution_count": 6,
   "id": "82d8eeac-f7b4-4886-b63c-7f76cd3cee1a",
   "metadata": {},
   "outputs": [
    {
     "name": "stdout",
     "output_type": "stream",
     "text": [
      "depth is 32386, # of qubits is 8\n"
     ]
    }
   ],
   "source": [
    "print(\"depth is {}, # of qubits is {}\".format(qc_image.depth(), qc_image.num_qubits))"
   ]
  },
  {
   "cell_type": "code",
   "execution_count": 21,
   "id": "dcc1a2a2-efc5-4166-80fb-7559f3733090",
   "metadata": {},
   "outputs": [
    {
     "name": "stdout",
     "output_type": "stream",
     "text": [
      "depth is 81016\n"
     ]
    }
   ],
   "source": [
    "wash_qc = transpile(circuits=qc_image, coupling_map=coupling_map, basis_gates=basis_gates)\n",
    "print(\"depth is {}\".format(wash_qc.depth()))\n",
    "# wash_qc.draw()"
   ]
  },
  {
   "cell_type": "code",
   "execution_count": 7,
   "id": "465ceb4d-9f77-4724-bffb-edcddc45617c",
   "metadata": {
    "tags": []
   },
   "outputs": [],
   "source": [
    "# qc_image.draw()"
   ]
  },
  {
   "cell_type": "code",
   "execution_count": 8,
   "id": "32948f38-b3f7-4ba6-a409-c60663b48406",
   "metadata": {},
   "outputs": [
    {
     "name": "stdout",
     "output_type": "stream",
     "text": [
      "the meauserd colors are \n",
      " [ 78 128 152  68  70  49 103 116 172 220  97  58  18 101 134  78  22 203\n",
      "  11 245  73 225 116  54  87  98 250   5 107 203 256 220 244 126 241   8\n",
      "  80  93   0  89 126 155 135  58 256  45 150  52  45 174 137  98 165 250\n",
      " 178 186 110 121  37  47  18 134  17 168] \n",
      " the input colors are \n",
      " [ 76 129 155  67  67  50 106 114 173 225  95  51  15  99 132  78  22 202\n",
      "   9 243  69 226 114  51  87  98 245   3 108 204 248 219 242 128 240  10\n",
      "  84  93   3  91 128 154 137  56 253  42 150  48  47 174 136  97 164 245\n",
      " 182 188 115 124  33  47  22 133  15 167]\n",
      "the meauserd coordinates are \n",
      " [ 0  0  1  3  4  5  5  6  7  9  9 11 10 13 14 15 14 17 17 18 19 21 21 22\n",
      " 24 24 26 26 28 29 29 29 32 32 33 35 35 37 37 40 40 40 43 41 43 43 46 47\n",
      " 48 49 49 50 51 52 53 54 54 56 59 60 61 60 61 61]\n"
     ]
    }
   ],
   "source": [
    "aer_sim = Aer.get_backend('aer_simulator')\n",
    "t_qc_image = transpile(qc_image, aer_sim)\n",
    "qobj = assemble(t_qc_image, shots=100000)\n",
    "job_oqim = aer_sim.run(qobj)\n",
    "result_oqim = job_oqim.result()\n",
    "counts_oqim = result_oqim.get_counts()\n",
    "classical_colors = []\n",
    "classical_coords = []\n",
    "for i in range(0, max_index+1):\n",
    "    color_list = []\n",
    "    coord_list = []\n",
    "    for item in counts_oqim.items():\n",
    "        key = item[0]\n",
    "        amount = item[1]\n",
    "        bin_coord = key[2:]\n",
    "        int_coord = int(bin_coord, 2)\n",
    "        if int_coord == i:\n",
    "            if not int(key[1]):\n",
    "                color_list.append((key[0], amount))\n",
    "            else:\n",
    "                coord_list.append((key[0], amount))\n",
    "    color_amount = 0\n",
    "    for color, amount in color_list:\n",
    "        if not int(color):\n",
    "            color_amount=color_amount+amount\n",
    "    try:\n",
    "        color = np.arccos((color_amount/sum(n for _, n in color_list))**(1/2))\n",
    "        classical_colors.append(color)\n",
    "    except ZeroDivisionError:\n",
    "        print(\"ZeroDivisionError\")\n",
    "        \n",
    "    coord_amount = 0\n",
    "    for coord, amount in coord_list:\n",
    "        if not int(coord):\n",
    "            coord_amount=coord_amount+amount\n",
    "    try:\n",
    "        coord = np.arccos((coord_amount/sum(n for _, n in coord_list))**(1/2))\n",
    "        classical_coords.append(coord)\n",
    "    except ZeroDivisionError:\n",
    "        print(\"ZeroDivisionError\")\n",
    "classical_colors = np.interp(classical_colors, (0, np.pi/2), (0, 256)).astype(int)\n",
    "print('the meauserd colors are \\n {} \\n the input colors are \\n {}'.format(classical_colors, im_list))\n",
    "classical_coords = np.interp(classical_coords, (0, np.pi/2), (0, len(im_list))).astype(int)\n",
    "print('the meauserd coordinates are \\n {}'.format(classical_coords))\n",
    "output_im = classical_colors.reshape(image.shape)"
   ]
  },
  {
   "cell_type": "markdown",
   "id": "66fe5993-04aa-48b4-8efc-e572571abb9a",
   "metadata": {},
   "source": [
    "As we can see above, probabilistic amplitude <ins>coordinate</ins> encoding fails"
   ]
  },
  {
   "cell_type": "code",
   "execution_count": 9,
   "id": "068f8c3e-b272-4570-9cc8-6678c17306e7",
   "metadata": {},
   "outputs": [],
   "source": [
    "def plot_to_compare(output_im, input_im):\n",
    "    plt.imshow(output_im, cmap = 'gray')\n",
    "    plt.title('measured image')\n",
    "    plt.show()\n",
    "    plt.imshow(input_im, cmap = 'gray')\n",
    "    plt.title('real image')\n",
    "    plt.show()"
   ]
  },
  {
   "cell_type": "code",
   "execution_count": 10,
   "id": "acd6bda4-0cdf-4e9f-be50-af46bcb93479",
   "metadata": {},
   "outputs": [
    {
     "data": {
      "image/png": "[encoded data removed]",
      "text/plain": [
       "<Figure size 432x288 with 1 Axes>"
      ]
     },
     "metadata": {
      "needs_background": "light"
     },
     "output_type": "display_data"
    },
    {
     "data": {
      "image/png": "[encoded data removed]",
      "text/plain": [
       "<Figure size 432x288 with 1 Axes>"
      ]
     },
     "metadata": {
      "needs_background": "light"
     },
     "output_type": "display_data"
    }
   ],
   "source": [
    "plot_to_compare(output_im, image)"
   ]
  }
 ],
 "metadata": {
  "kernelspec": {
   "display_name": "Python 3 (ipykernel)",
   "language": "python",
   "name": "python3"
  },
  "language_info": {
   "codemirror_mode": {
    "name": "ipython",
    "version": 3
   },
   "file_extension": ".py",
   "mimetype": "text/x-python",
   "name": "python",
   "nbconvert_exporter": "python",
   "pygments_lexer": "ipython3",
   "version": "3.9.7"
  }
 },
 "nbformat": 4,
 "nbformat_minor": 5
}
