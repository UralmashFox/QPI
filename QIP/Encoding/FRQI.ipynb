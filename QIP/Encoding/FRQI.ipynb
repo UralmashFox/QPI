{
 "cells": [
  {
   "cell_type": "markdown",
   "id": "a88c6873",
   "metadata": {},
   "source": [
    "# Flexible representation of quantum images - [FRQI](https://link.springer.com/content/pdf/10.1007/s11128-010-0177-y.pdf)"
   ]
  },
  {
   "cell_type": "markdown",
   "id": "57ccd177",
   "metadata": {},
   "source": [
    "## Representation equation $| I(\\theta)\\rangle = \\frac{1}{2^n}\\sum_{i=0}^{2^{2n}-1}(cos\\theta_i | 0 \\rangle + sin\\theta_i | 1 \\rangle) \\otimes | i \\rangle$, where\n",
    "\n",
    "$\\theta_i$ - continuous representation of the inensity,\n",
    "\n",
    "$i$ - binary expansion of the pixel coordinate."
   ]
  },
  {
   "cell_type": "markdown",
   "id": "25ee00a6",
   "metadata": {},
   "source": [
    "Step 0: dependencies import"
   ]
  },
  {
   "cell_type": "code",
   "execution_count": 1,
   "id": "a91f3aa4",
   "metadata": {},
   "outputs": [],
   "source": [
    "from qiskit import QuantumRegister, ClassicalRegister\n",
    "from qiskit import QuantumCircuit, Aer\n",
    "from qiskit import transpile, assemble\n",
    "from qiskit.visualization import plot_histogram\n",
    "import matplotlib.pyplot as plt\n",
    "import numpy as np\n",
    "import math"
   ]
  },
  {
   "cell_type": "markdown",
   "id": "599f4323",
   "metadata": {},
   "source": [
    "Step 1: image generation"
   ]
  },
  {
   "cell_type": "code",
   "execution_count": 2,
   "id": "fb6abb92",
   "metadata": {},
   "outputs": [
    {
     "data": {
      "image/png": "[encoded data removed]",
      "text/plain": [
       "<Figure size 432x288 with 1 Axes>"
      ]
     },
     "metadata": {
      "needs_background": "light"
     },
     "output_type": "display_data"
    }
   ],
   "source": [
    "image = np.random.uniform(low=0, high=255, size=(4,4)).astype(int)\n",
    "plt.imshow(image, cmap='gray')\n",
    "plt.title('Image')\n",
    "plt.show()"
   ]
  },
  {
   "cell_type": "markdown",
   "id": "aff8c902",
   "metadata": {},
   "source": [
    "Step 2: flattening image into vector (for convenience). Calculation of sufficient nuber of qubits."
   ]
  },
  {
   "cell_type": "code",
   "execution_count": 3,
   "id": "22f64980",
   "metadata": {},
   "outputs": [],
   "source": [
    "input_im = image.copy().flatten()\n",
    "thetas = np.interp(input_im, (0, 256), (0, np.pi/2))\n",
    "coord_q_num = int(np.ceil(math.log(len(input_im), 2)))"
   ]
  },
  {
   "cell_type": "markdown",
   "id": "bc1a14d4",
   "metadata": {},
   "source": [
    "Step 3: quantum circuit building."
   ]
  },
  {
   "cell_type": "code",
   "execution_count": 4,
   "id": "6a1c178f-b4b3-4a82-8c57-b9baba4ebb88",
   "metadata": {},
   "outputs": [
    {
     "data": {
      "text/plain": [
       "<qiskit.circuit.instructionset.InstructionSet at 0x27babf88f00>"
      ]
     },
     "execution_count": 4,
     "metadata": {},
     "output_type": "execute_result"
    }
   ],
   "source": [
    "O = QuantumRegister(coord_q_num, 'coordinates')\n",
    "c = QuantumRegister(1,'c_reg')\n",
    "cr = ClassicalRegister(O.size+c.size, \"cl_reg\")\n",
    "\n",
    "qc_image = QuantumCircuit(c, O, cr)\n",
    "num_qubits = qc_image.num_qubits\n",
    "input_im = image.copy().flatten()\n",
    "qc_image.i(c)\n",
    "qc_image.h(O)\n",
    "\n",
    "controls_ = []\n",
    "for i, _ in enumerate(O):\n",
    "    controls_.extend([O[i]])\n",
    "\n",
    "for i, theta in enumerate(thetas):\n",
    "    qubit_index_bin = \"{0:b}\".format(i).zfill(coord_q_num)\n",
    "    \n",
    "    for k, qub_ind in enumerate(qubit_index_bin):\n",
    "        if int(qub_ind):\n",
    "            qc_image.x(O[k])\n",
    "            \n",
    "    qc_image.barrier()\n",
    "    for coord_or_intns in (0,1):\n",
    "            qc_image.mcry(theta=theta,\n",
    "                          q_controls=controls_,\n",
    "                          q_target=c[0])\n",
    "\n",
    "    qc_image.barrier()\n",
    "    for k, qub_ind in enumerate(qubit_index_bin):\n",
    "        if int(qub_ind):\n",
    "            qc_image.x(O[k])\n",
    "           \n",
    "    qc_image.barrier()\n",
    "\n",
    "qc_image.measure(list(reversed(range(qc_image.num_qubits))), list(range(cr.size)))"
   ]
  },
  {
   "cell_type": "markdown",
   "id": "424cbb8f-b8ac-4db1-944c-9669ed786c78",
   "metadata": {},
   "source": [
    "Metrics\n",
    "\n",
    "| Image size  | Depth measure | # of utilized qubits\n",
    "| ------------- | ------------- | -------------------|\n",
    "| 2  | 26  | 3 |\n",
    "| 4  | 107  | 5 |\n",
    "| 8  | 431  | 7 |\n",
    "| 16  | 1727  | 9 |\n",
    "| 32  | 6911  | 11|\n",
    "| 64  | 27647  | 13 |\n",
    "| 128  | 110591  | 15 |\n",
    "| 256  | 442367  | 17 |"
   ]
  },
  {
   "cell_type": "code",
   "execution_count": 5,
   "id": "918c10fc-60e3-4269-9c98-ab58edcb4cde",
   "metadata": {},
   "outputs": [],
   "source": [
    "# print(\"depth is {}, # of qubits is {}\".format(qc.depth(), qc.num_qubits))"
   ]
  },
  {
   "cell_type": "markdown",
   "id": "e403eb3e",
   "metadata": {},
   "source": [
    "Circuit drawing"
   ]
  },
  {
   "cell_type": "markdown",
   "id": "a2171dc8",
   "metadata": {},
   "source": [
    "Step 4: quantum circuit execution, measurments' interpretation"
   ]
  },
  {
   "cell_type": "code",
   "execution_count": 6,
   "id": "216305a0-af2d-4500-9f37-27fe7d385943",
   "metadata": {},
   "outputs": [
    {
     "name": "stdout",
     "output_type": "stream",
     "text": [
      "[125, 50, 190, 201, 152, 231, 20, 244, 47, 97, 76, 94, 184, 57, 46, 64] \n",
      " [124  43 187 199 150 229  15 242  54 100  82  94 187  56  49  64]\n"
     ]
    }
   ],
   "source": [
    "aer_sim = Aer.get_backend('aer_simulator')\n",
    "t_qc_image = transpile(qc_image, aer_sim)\n",
    "qobj = assemble(t_qc_image, shots=10000)\n",
    "job_oqim = aer_sim.run(qobj)\n",
    "result_oqim = job_oqim.result()\n",
    "counts_oqim = result_oqim.get_counts()\n",
    "classical_colors = []\n",
    "for i in range(0, len(input_im)):\n",
    "    color_list = []\n",
    "    for item in counts_oqim.items():\n",
    "        key = item[0]\n",
    "        amount = item[1]\n",
    "        bin_coord = key[1:]\n",
    "        int_coord = int(bin_coord, 2)\n",
    "        if int_coord == i:\n",
    "            color_list.append((key[0], amount))\n",
    "    color_amount = 0\n",
    "    for color, amount in color_list:\n",
    "        if not int(color):\n",
    "            color_amount=color_amount+amount\n",
    "    try:\n",
    "        color = np.arccos((color_amount/sum(n for _, n in color_list))**(1/2))\n",
    "        classical_colors.append(color)\n",
    "    except ZeroDivisionError:\n",
    "        print(\"ZeroDivisionError\")\n",
    "classical_colors = list(reversed(np.interp(classical_colors, (0, np.pi/2), (0, 256)).astype(int)))\n",
    "print(classical_colors, '\\n', input_im)"
   ]
  },
  {
   "cell_type": "markdown",
   "id": "38bcf4bf",
   "metadata": {},
   "source": [
    "Input and measured images comparison"
   ]
  },
  {
   "cell_type": "code",
   "execution_count": 7,
   "id": "484b27ca",
   "metadata": {},
   "outputs": [],
   "source": [
    "def plot_to_compare(output_im, input_im):\n",
    "    plt.imshow(output_im, cmap = 'gray')\n",
    "    plt.title('measured image')\n",
    "    plt.show()\n",
    "    plt.imshow(input_im, cmap = 'gray')\n",
    "    plt.title('real image')\n",
    "    plt.show()"
   ]
  },
  {
   "cell_type": "code",
   "execution_count": 8,
   "id": "0c693f04-702a-43cd-acac-f2bb3b1dc580",
   "metadata": {},
   "outputs": [
    {
     "data": {
      "image/png": "[encoded data removed]",
      "text/plain": [
       "<Figure size 432x288 with 1 Axes>"
      ]
     },
     "metadata": {
      "needs_background": "light"
     },
     "output_type": "display_data"
    },
    {
     "data": {
      "image/png": "[encoded data removed]",
      "text/plain": [
       "<Figure size 432x288 with 1 Axes>"
      ]
     },
     "metadata": {
      "needs_background": "light"
     },
     "output_type": "display_data"
    }
   ],
   "source": [
    "plot_to_compare(np.array(classical_colors).reshape(image.shape), image)"
   ]
  }
 ],
 "metadata": {
  "kernelspec": {
   "display_name": "Python 3 (ipykernel)",
   "language": "python",
   "name": "python3"
  },
  "language_info": {
   "codemirror_mode": {
    "name": "ipython",
    "version": 3
   },
   "file_extension": ".py",
   "mimetype": "text/x-python",
   "name": "python",
   "nbconvert_exporter": "python",
   "pygments_lexer": "ipython3",
   "version": "3.9.7"
  }
 },
 "nbformat": 4,
 "nbformat_minor": 5
}
