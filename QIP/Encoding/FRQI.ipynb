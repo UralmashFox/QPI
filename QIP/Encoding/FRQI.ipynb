{
 "cells": [
  {
   "cell_type": "markdown",
   "id": "a88c6873",
   "metadata": {},
   "source": [
    "# Flexible representation of quantum images - [FRQI](https://link.springer.com/content/pdf/10.1007/s11128-010-0177-y.pdf)"
   ]
  },
  {
   "cell_type": "markdown",
   "id": "57ccd177",
   "metadata": {},
   "source": [
    "## Representation equation $| I(\\theta)\\rangle = \\frac{1}{2^n}\\sum_{i=0}^{2^{2n}-1}(cos\\theta_i | 0 \\rangle + sin\\theta_i | 1 \\rangle) \\otimes | i \\rangle$, where\n",
    "\n",
    "$\\theta_i$ - continuous representation of the inensity,\n",
    "\n",
    "$i$ - binary expansion of the pixel coordinate."
   ]
  },
  {
   "cell_type": "markdown",
   "id": "25ee00a6",
   "metadata": {},
   "source": [
    "Step 0: dependencies import"
   ]
  },
  {
   "cell_type": "code",
   "execution_count": 4,
   "id": "a91f3aa4",
   "metadata": {},
   "outputs": [],
   "source": [
    "from qiskit import QuantumRegister, ClassicalRegister\n",
    "from qiskit import QuantumCircuit, Aer\n",
    "from qiskit import transpile, assemble\n",
    "from qiskit.visualization import plot_histogram\n",
    "import matplotlib.pyplot as plt\n",
    "import numpy as np\n",
    "import math"
   ]
  },
  {
   "cell_type": "markdown",
   "id": "599f4323",
   "metadata": {},
   "source": [
    "Step 1: image generation"
   ]
  },
  {
   "cell_type": "code",
   "execution_count": 47,
   "id": "fb6abb92",
   "metadata": {},
   "outputs": [
    {
     "data": {
      "image/png": "[encoded data removed]",
      "text/plain": [
       "<Figure size 432x288 with 1 Axes>"
      ]
     },
     "metadata": {
      "needs_background": "light"
     },
     "output_type": "display_data"
    }
   ],
   "source": [
    "image = np.random.uniform(low=0, high=255, size=(2,2)).astype(int)\n",
    "plt.imshow(image, cmap='gray')\n",
    "plt.title('Image')\n",
    "plt.show()"
   ]
  },
  {
   "cell_type": "markdown",
   "id": "aff8c902",
   "metadata": {},
   "source": [
    "Step 2: flattening image into vector (for convenience). Calculation of sufficient nuber of qubits."
   ]
  },
  {
   "cell_type": "code",
   "execution_count": 44,
   "id": "22f64980",
   "metadata": {},
   "outputs": [],
   "source": [
    "input_im = image.copy().flatten()\n",
    "input_im = np.interp(input_im, (0, 255), (0, np.pi/2))\n",
    "coord_q_num = int(np.ceil(math.log(len(input_im), 2)))"
   ]
  },
  {
   "cell_type": "markdown",
   "id": "bc1a14d4",
   "metadata": {},
   "source": [
    "Step 3: quantum circuit building."
   ]
  },
  {
   "cell_type": "code",
   "execution_count": 45,
   "id": "cbefa9b0",
   "metadata": {},
   "outputs": [
    {
     "data": {
      "text/plain": [
       "<qiskit.circuit.instructionset.InstructionSet at 0x26e1cb590d0>"
      ]
     },
     "execution_count": 45,
     "metadata": {},
     "output_type": "execute_result"
    }
   ],
   "source": [
    "color = QuantumRegister(1, 'color')\n",
    "coordinate = QuantumRegister(coord_q_num, 'coordinate')\n",
    "cr = ClassicalRegister(coord_q_num+1, 'c')\n",
    "qc = QuantumCircuit(coordinate,color, cr)\n",
    "qc.h(coordinate)\n",
    "for i, pixel in enumerate(input_im):\n",
    "    to_not = \"{0:b}\".format(i).zfill(2)\n",
    "    for j, bit in enumerate(to_not):\n",
    "        if int(bit):\n",
    "            qc.x(j)\n",
    "    qc.cry(pixel,0,2)\n",
    "    qc.cx(0,1)\n",
    "    qc.cry(-pixel,1,2)\n",
    "    qc.cx(0,1)\n",
    "    qc.cry(pixel,1,2)\n",
    "    if i!=len(input_im)-1:\n",
    "        for j, bit in enumerate(to_not):\n",
    "            if int(bit):\n",
    "                qc.x(j)\n",
    "        qc.barrier()\n",
    "qc.swap(0,1)\n",
    "qc.measure(list(range(qc.num_qubits)), list(range(cr.size)))"
   ]
  },
  {
   "cell_type": "markdown",
   "id": "424cbb8f-b8ac-4db1-944c-9669ed786c78",
   "metadata": {},
   "source": [
    "Metrics\n",
    "\n",
    "| Image size  | Depth measure | # of utilized qubits\n",
    "| ------------- | ------------- | -------------------|\n",
    "| 2  | 26  | 3 |\n",
    "| 4  | 107  | 5 |\n",
    "| 8  | 431  | 7 |\n",
    "| 16  | 1727  | 9 |\n",
    "| 32  | 6911  | 11|\n",
    "| 64  | 27647  | 13 |\n",
    "| 128  | 110591  | 15 |\n",
    "| 256  | 442367  | 17 |"
   ]
  },
  {
   "cell_type": "code",
   "execution_count": 46,
   "id": "918c10fc-60e3-4269-9c98-ab58edcb4cde",
   "metadata": {},
   "outputs": [
    {
     "name": "stdout",
     "output_type": "stream",
     "text": [
      "depth is 26, # of qubits is 3\n"
     ]
    }
   ],
   "source": [
    "print(\"depth is {}, # of qubits is {}\".format(qc.depth(), qc.num_qubits))"
   ]
  },
  {
   "cell_type": "markdown",
   "id": "e403eb3e",
   "metadata": {},
   "source": [
    "Circuit drawing"
   ]
  },
  {
   "cell_type": "code",
   "execution_count": 1,
   "id": "c819b196",
   "metadata": {},
   "outputs": [],
   "source": [
    "# qc.draw()"
   ]
  },
  {
   "cell_type": "markdown",
   "id": "a2171dc8",
   "metadata": {},
   "source": [
    "Step 4: quantum circuit execution, measurments' interpretation"
   ]
  },
  {
   "cell_type": "code",
   "execution_count": 22,
   "id": "0f921c53",
   "metadata": {},
   "outputs": [],
   "source": [
    "def simulate(qc, input_im, shots=10000, print_data=True):    \n",
    "    aer_sim = Aer.get_backend('aer_simulator')\n",
    "    t_qc = transpile(qc, aer_sim)\n",
    "    qobj = assemble(t_qc, shots=shots)\n",
    "    result = aer_sim.run(qobj).result()\n",
    "    counts = result.get_counts(qc)\n",
    "    if print_data:\n",
    "        print(counts)\n",
    "        plot_histogram(counts)\n",
    "        plt.show()\n",
    "    nums = []\n",
    "    for iter in range(len(input_im)):\n",
    "        num = []\n",
    "        for item in counts.items():\n",
    "            if int(item[0][1:], 2)==iter:\n",
    "                num.append((int(item[0][0], 2), item[1]))\n",
    "        nums.append(num)\n",
    "    colors = []\n",
    "    for num in nums:\n",
    "        if len(num)==2:\n",
    "            if num[0][0] == 0:\n",
    "                color = np.arccos((num[0][1]/(num[0][1]+num[1][1]))**(1/2))\n",
    "                colors.append(color)\n",
    "            else:\n",
    "                color = np.arccos((num[1][1]/(num[0][1]+num[1][1]))**(1/2))\n",
    "                colors.append(color)\n",
    "        else:\n",
    "            if num[0][0] == 0:\n",
    "                colors.append(0)\n",
    "            else:\n",
    "                colors.append(np.pi/2)\n",
    "    output_im = np.interp(colors, (0, np.pi/2), (0, 255)).astype(int)\n",
    "    print(output_im, '\\n', image.copy().flatten())\n",
    "    return output_im"
   ]
  },
  {
   "cell_type": "markdown",
   "id": "38bcf4bf",
   "metadata": {},
   "source": [
    "Input and measured images comparison"
   ]
  },
  {
   "cell_type": "code",
   "execution_count": 23,
   "id": "484b27ca",
   "metadata": {},
   "outputs": [],
   "source": [
    "def plot_to_compare(output_im, input_im):\n",
    "    plt.imshow(output_im.reshape(2,2), cmap = 'gray')\n",
    "    plt.title('measured image')\n",
    "    plt.show()\n",
    "    plt.imshow(input_im.reshape(2,2), cmap = 'gray')\n",
    "    plt.title('real image')\n",
    "    plt.show()"
   ]
  },
  {
   "cell_type": "code",
   "execution_count": 24,
   "id": "bb8a7151",
   "metadata": {},
   "outputs": [
    {
     "name": "stdout",
     "output_type": "stream",
     "text": [
      "[ 13  57 158  47] \n",
      " [ 14  55 160  51]\n"
     ]
    },
    {
     "data": {
      "image/png": "[encoded data removed]",
      "text/plain": [
       "<Figure size 432x288 with 1 Axes>"
      ]
     },
     "metadata": {},
     "output_type": "display_data"
    },
    {
     "data": {
      "image/png": "[encoded data removed]",
      "text/plain": [
       "<Figure size 432x288 with 1 Axes>"
      ]
     },
     "metadata": {},
     "output_type": "display_data"
    }
   ],
   "source": [
    "output_im = simulate(qc, input_im, print_data=False)\n",
    "plot_to_compare(output_im, input_im)"
   ]
  }
 ],
 "metadata": {
  "kernelspec": {
   "display_name": "Python 3 (ipykernel)",
   "language": "python",
   "name": "python3"
  },
  "language_info": {
   "codemirror_mode": {
    "name": "ipython",
    "version": 3
   },
   "file_extension": ".py",
   "mimetype": "text/x-python",
   "name": "python",
   "nbconvert_exporter": "python",
   "pygments_lexer": "ipython3",
   "version": "3.8.12"
  }
 },
 "nbformat": 4,
 "nbformat_minor": 5
}
