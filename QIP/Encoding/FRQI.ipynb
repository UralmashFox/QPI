{
 "cells": [
  {
   "cell_type": "markdown",
   "metadata": {},
   "source": [
    "# Flexible representation of quantum images - [FRQI](https://link.springer.com/content/pdf/10.1007/s11128-010-0177-y.pdf)"
   ]
  },
  {
   "cell_type": "markdown",
   "metadata": {},
   "source": [
    "## Representation equation $| I(\\theta)\\rangle = \\frac{1}{2^n}\\sum_{i=0}^{2^{2n}-1}(cos\\theta_i | 0 \\rangle + sin\\theta_i | 1 \\rangle) \\bigotimes | i \\rangle$, where\n",
    "\n",
    "$\\theta_i$ - continuous representation of the inensity,\n",
    "\n",
    "$i$ - binary expansion of the pixel coordinate."
   ]
  },
  {
   "cell_type": "markdown",
   "metadata": {},
   "source": [
    "Step 0: dependencies import"
   ]
  },
  {
   "cell_type": "code",
   "execution_count": 17,
   "metadata": {},
   "outputs": [],
   "source": [
    "from qiskit import QuantumRegister, ClassicalRegister\n",
    "from qiskit import QuantumCircuit, Aer\n",
    "from qiskit import transpile, assemble\n",
    "from qiskit.visualization import plot_histogram\n",
    "import matplotlib.pyplot as plt\n",
    "import numpy as np\n",
    "import math"
   ]
  },
  {
   "cell_type": "markdown",
   "metadata": {},
   "source": [
    "Step 1: image generation"
   ]
  },
  {
   "cell_type": "code",
   "execution_count": 18,
   "metadata": {},
   "outputs": [
    {
     "data": {
      "image/png": "[encoded data removed]",
      "text/plain": [
       "<Figure size 432x288 with 1 Axes>"
      ]
     },
     "metadata": {},
     "output_type": "display_data"
    }
   ],
   "source": [
    "image = image = np.random.uniform(low=0, high=255, size=(2,2)).astype(int)\n",
    "plt.imshow(image, cmap='gray')\n",
    "plt.title('Image')\n",
    "plt.show()"
   ]
  },
  {
   "cell_type": "markdown",
   "metadata": {},
   "source": [
    "Step 2: flattening image into vector (for convenience). Calculation of sufficient nuber of qubits."
   ]
  },
  {
   "cell_type": "code",
   "execution_count": 19,
   "metadata": {},
   "outputs": [],
   "source": [
    "input_im = image.copy().flatten()\n",
    "input_im = np.interp(input_im, (0, 255), (0, np.pi/2))\n",
    "coord_q_num = int(np.ceil(math.log(len(input_im), 2)))"
   ]
  },
  {
   "cell_type": "markdown",
   "metadata": {},
   "source": [
    "Step 3: quantum circuit building."
   ]
  },
  {
   "cell_type": "code",
   "execution_count": 20,
   "metadata": {},
   "outputs": [
    {
     "data": {
      "text/plain": [
       "<qiskit.circuit.instructionset.InstructionSet at 0x27b91bf9d00>"
      ]
     },
     "execution_count": 20,
     "metadata": {},
     "output_type": "execute_result"
    }
   ],
   "source": [
    "color = QuantumRegister(1, 'color')\n",
    "coordinate = QuantumRegister(coord_q_num, 'coordinate')\n",
    "cr = ClassicalRegister(3, 'c')\n",
    "qc = QuantumCircuit(coordinate,color, cr)\n",
    "qc.h(coordinate)\n",
    "for i, pixel in enumerate(input_im):\n",
    "    to_not = \"{0:b}\".format(i).zfill(2)\n",
    "    for j, bit in enumerate(to_not):\n",
    "        if int(bit):\n",
    "            qc.x(j)\n",
    "    qc.cry(pixel,0,2)\n",
    "    qc.cx(0,1)\n",
    "    qc.cry(-pixel,1,2)\n",
    "    qc.cx(0,1)\n",
    "    qc.cry(pixel,1,2)\n",
    "    if i!=len(input_im)-1:\n",
    "        for j, bit in enumerate(to_not):\n",
    "            if int(bit):\n",
    "                qc.x(j)\n",
    "        qc.barrier()\n",
    "qc.swap(0,1)\n",
    "qc.measure(list(range(qc.num_qubits)), list(range(cr.size)))"
   ]
  },
  {
   "cell_type": "markdown",
   "metadata": {},
   "source": [
    "Circuit drawing"
   ]
  },
  {
   "cell_type": "code",
   "execution_count": 21,
   "metadata": {},
   "outputs": [
    {
     "data": {
      "text/html": [
       "<pre style=\"word-wrap: normal;white-space: pre;background: #fff0;line-height: 1.1;font-family: &quot;Courier New&quot;,Courier,monospace\">              ┌───┐                                                         ░ »\n",
       "coordinate_0: ┤ H ├───────■─────────■────────────────────■──────────────────░─»\n",
       "              ├───┤       │       ┌─┴─┐                ┌─┴─┐                ░ »\n",
       "coordinate_1: ┤ H ├───────┼───────┤ X ├───────■────────┤ X ├───────■────────░─»\n",
       "              └───┘┌──────┴──────┐└───┘┌──────┴───────┐└───┘┌──────┴──────┐ ░ »\n",
       "     color_0: ─────┤ Ry(0.08624) ├─────┤ Ry(-0.08624) ├─────┤ Ry(0.08624) ├─░─»\n",
       "                   └─────────────┘     └──────────────┘     └─────────────┘ ░ »\n",
       "         c: 3/════════════════════════════════════════════════════════════════»\n",
       "                                                                              »\n",
       "«                                                                             »\n",
       "«coordinate_0: ───────────■─────────■───────────────────■─────────────────────»\n",
       "«              ┌───┐      │       ┌─┴─┐               ┌─┴─┐              ┌───┐»\n",
       "«coordinate_1: ┤ X ├──────┼───────┤ X ├───────■───────┤ X ├──────■───────┤ X ├»\n",
       "«              └───┘┌─────┴──────┐└───┘┌──────┴──────┐└───┘┌─────┴──────┐└───┘»\n",
       "«     color_0: ─────┤ Ry(0.3388) ├─────┤ Ry(-0.3388) ├─────┤ Ry(0.3388) ├─────»\n",
       "«                   └────────────┘     └─────────────┘     └────────────┘     »\n",
       "«         c: 3/═══════════════════════════════════════════════════════════════»\n",
       "«                                                                             »\n",
       "«               ░ ┌───┐                                           ┌───┐      ░ »\n",
       "«coordinate_0: ─░─┤ X ├──────■─────────■───────────────────■──────┤ X ├──────░─»\n",
       "«               ░ └───┘      │       ┌─┴─┐               ┌─┴─┐    └───┘      ░ »\n",
       "«coordinate_1: ─░────────────┼───────┤ X ├───────■───────┤ X ├──────■────────░─»\n",
       "«               ░      ┌─────┴──────┐└───┘┌──────┴──────┐└───┘┌─────┴──────┐ ░ »\n",
       "«     color_0: ─░──────┤ Ry(0.9856) ├─────┤ Ry(-0.9856) ├─────┤ Ry(0.9856) ├─░─»\n",
       "«               ░      └────────────┘     └─────────────┘     └────────────┘ ░ »\n",
       "«         c: 3/════════════════════════════════════════════════════════════════»\n",
       "«                                                                              »\n",
       "«              ┌───┐                                                  ┌─┐   \n",
       "«coordinate_0: ┤ X ├─────■────────■─────────────────■───────────────X─┤M├───\n",
       "«              ├───┤     │      ┌─┴─┐             ┌─┴─┐             │ └╥┘┌─┐\n",
       "«coordinate_1: ┤ X ├─────┼──────┤ X ├──────■──────┤ X ├─────■───────X──╫─┤M├\n",
       "«              └───┘┌────┴─────┐└───┘┌─────┴─────┐└───┘┌────┴─────┐┌─┐ ║ └╥┘\n",
       "«     color_0: ─────┤ Ry(π/10) ├─────┤ Ry(-π/10) ├─────┤ Ry(π/10) ├┤M├─╫──╫─\n",
       "«                   └──────────┘     └───────────┘     └──────────┘└╥┘ ║  ║ \n",
       "«         c: 3/═════════════════════════════════════════════════════╩══╩══╩═\n",
       "«                                                                   2  0  1 </pre>"
      ],
      "text/plain": [
       "<pre style=\"word-wrap: normal;white-space: pre;background: #fff0;line-height: 1.1;font-family: &quot;Courier New&quot;,Courier,monospace\">              ┌───┐                                                         ░ »\n",
       "coordinate_0: ┤ H ├───────■─────────■────────────────────■──────────────────░─»\n",
       "              ├───┤       │       ┌─┴─┐                ┌─┴─┐                ░ »\n",
       "coordinate_1: ┤ H ├───────┼───────┤ X ├───────■────────┤ X ├───────■────────░─»\n",
       "              └───┘┌──────┴──────┐└───┘┌──────┴───────┐└───┘┌──────┴──────┐ ░ »\n",
       "     color_0: ─────┤ Ry(0.08624) ├─────┤ Ry(-0.08624) ├─────┤ Ry(0.08624) ├─░─»\n",
       "                   └─────────────┘     └──────────────┘     └─────────────┘ ░ »\n",
       "         c: 3/════════════════════════════════════════════════════════════════»\n",
       "                                                                              »\n",
       "«                                                                             »\n",
       "«coordinate_0: ───────────■─────────■───────────────────■─────────────────────»\n",
       "«              ┌───┐      │       ┌─┴─┐               ┌─┴─┐              ┌───┐»\n",
       "«coordinate_1: ┤ X ├──────┼───────┤ X ├───────■───────┤ X ├──────■───────┤ X ├»\n",
       "«              └───┘┌─────┴──────┐└───┘┌──────┴──────┐└───┘┌─────┴──────┐└───┘»\n",
       "«     color_0: ─────┤ Ry(0.3388) ├─────┤ Ry(-0.3388) ├─────┤ Ry(0.3388) ├─────»\n",
       "«                   └────────────┘     └─────────────┘     └────────────┘     »\n",
       "«         c: 3/═══════════════════════════════════════════════════════════════»\n",
       "«                                                                             »\n",
       "«               ░ ┌───┐                                           ┌───┐      ░ »\n",
       "«coordinate_0: ─░─┤ X ├──────■─────────■───────────────────■──────┤ X ├──────░─»\n",
       "«               ░ └───┘      │       ┌─┴─┐               ┌─┴─┐    └───┘      ░ »\n",
       "«coordinate_1: ─░────────────┼───────┤ X ├───────■───────┤ X ├──────■────────░─»\n",
       "«               ░      ┌─────┴──────┐└───┘┌──────┴──────┐└───┘┌─────┴──────┐ ░ »\n",
       "«     color_0: ─░──────┤ Ry(0.9856) ├─────┤ Ry(-0.9856) ├─────┤ Ry(0.9856) ├─░─»\n",
       "«               ░      └────────────┘     └─────────────┘     └────────────┘ ░ »\n",
       "«         c: 3/════════════════════════════════════════════════════════════════»\n",
       "«                                                                              »\n",
       "«              ┌───┐                                                  ┌─┐   \n",
       "«coordinate_0: ┤ X ├─────■────────■─────────────────■───────────────X─┤M├───\n",
       "«              ├───┤     │      ┌─┴─┐             ┌─┴─┐             │ └╥┘┌─┐\n",
       "«coordinate_1: ┤ X ├─────┼──────┤ X ├──────■──────┤ X ├─────■───────X──╫─┤M├\n",
       "«              └───┘┌────┴─────┐└───┘┌─────┴─────┐└───┘┌────┴─────┐┌─┐ ║ └╥┘\n",
       "«     color_0: ─────┤ Ry(π/10) ├─────┤ Ry(-π/10) ├─────┤ Ry(π/10) ├┤M├─╫──╫─\n",
       "«                   └──────────┘     └───────────┘     └──────────┘└╥┘ ║  ║ \n",
       "«         c: 3/═════════════════════════════════════════════════════╩══╩══╩═\n",
       "«                                                                   2  0  1 </pre>"
      ]
     },
     "execution_count": 21,
     "metadata": {},
     "output_type": "execute_result"
    }
   ],
   "source": [
    "qc.draw()"
   ]
  },
  {
   "cell_type": "markdown",
   "metadata": {},
   "source": [
    "Step 4: quantum circuit execution, measurments' interpretation"
   ]
  },
  {
   "cell_type": "code",
   "execution_count": 22,
   "metadata": {},
   "outputs": [],
   "source": [
    "def simulate(qc, input_im, shots=10000, print_data=True):    \n",
    "    aer_sim = Aer.get_backend('aer_simulator')\n",
    "    t_qc = transpile(qc, aer_sim)\n",
    "    qobj = assemble(t_qc, shots=shots)\n",
    "    result = aer_sim.run(qobj).result()\n",
    "    counts = result.get_counts(qc)\n",
    "    if print_data:\n",
    "        print(counts)\n",
    "        plot_histogram(counts)\n",
    "        plt.show()\n",
    "    nums = []\n",
    "    for iter in range(len(input_im)):\n",
    "        num = []\n",
    "        for item in counts.items():\n",
    "            if int(item[0][1:], 2)==iter:\n",
    "                num.append((int(item[0][0], 2), item[1]))\n",
    "        nums.append(num)\n",
    "    colors = []\n",
    "    for num in nums:\n",
    "        if len(num)==2:\n",
    "            if num[0][0] == 0:\n",
    "                color = np.arccos((num[0][1]/(num[0][1]+num[1][1]))**(1/2))\n",
    "                colors.append(color)\n",
    "            else:\n",
    "                color = np.arccos((num[1][1]/(num[0][1]+num[1][1]))**(1/2))\n",
    "                colors.append(color)\n",
    "        else:\n",
    "            if num[0][0] == 0:\n",
    "                colors.append(0)\n",
    "            else:\n",
    "                colors.append(np.pi/2)\n",
    "    output_im = np.interp(colors, (0, np.pi/2), (0, 255)).astype(int)\n",
    "    print(output_im, '\\n', image.copy().flatten())\n",
    "    return output_im"
   ]
  },
  {
   "cell_type": "markdown",
   "metadata": {},
   "source": [
    "Input and measured images comparison"
   ]
  },
  {
   "cell_type": "code",
   "execution_count": 23,
   "metadata": {},
   "outputs": [],
   "source": [
    "def plot_to_compare(output_im, input_im):\n",
    "    plt.imshow(output_im.reshape(2,2), cmap = 'gray')\n",
    "    plt.title('measured image')\n",
    "    plt.show()\n",
    "    plt.imshow(input_im.reshape(2,2), cmap = 'gray')\n",
    "    plt.title('real image')\n",
    "    plt.show()"
   ]
  },
  {
   "cell_type": "code",
   "execution_count": 24,
   "metadata": {},
   "outputs": [
    {
     "name": "stdout",
     "output_type": "stream",
     "text": [
      "[ 13  57 158  47] \n [ 14  55 160  51]\n"
     ]
    },
    {
     "data": {
      "image/png": "[encoded data removed]",
      "text/plain": [
       "<Figure size 432x288 with 1 Axes>"
      ]
     },
     "metadata": {},
     "output_type": "display_data"
    },
    {
     "data": {
      "image/png": "[encoded data removed]",
      "text/plain": [
       "<Figure size 432x288 with 1 Axes>"
      ]
     },
     "metadata": {},
     "output_type": "display_data"
    }
   ],
   "source": [
    "output_im = simulate(qc, input_im, print_data=False)\n",
    "plot_to_compare(output_im, input_im)"
   ]
  }
 ],
 "metadata": {
  "kernelspec": {
   "display_name": "Python 3 (ipykernel)",
   "language": "python",
   "name": "python3"
  },
  "language_info": {
   "codemirror_mode": {
    "name": "ipython",
    "version": 3
   },
   "file_extension": ".py",
   "mimetype": "text/x-python",
   "name": "python",
   "nbconvert_exporter": "python",
   "pygments_lexer": "ipython3",
   "version": "3.8.12"
  }
 },
 "nbformat": 4,
 "nbformat_minor": 5
}
