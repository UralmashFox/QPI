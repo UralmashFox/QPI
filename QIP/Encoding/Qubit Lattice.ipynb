{
 "cells": [
  {
   "cell_type": "code",
   "execution_count": 1,
   "id": "bd77bbe0-a90c-434e-b1f4-ecd3bdea612a",
   "metadata": {},
   "outputs": [],
   "source": [
    "import qiskit\n",
    "from qiskit import QuantumRegister, ClassicalRegister\n",
    "import qiskit as qk\n",
    "from qiskit import QuantumCircuit, Aer, IBMQ, execute\n",
    "from qiskit import transpile, assemble\n",
    "from qiskit.tools.jupyter import *\n",
    "from qiskit.visualization import plot_histogram\n",
    "import matplotlib.pyplot as plt\n",
    "import numpy as np\n",
    "from qiskit.extensions import XGate\n",
    "import math\n",
    "from math import pi"
   ]
  },
  {
   "cell_type": "code",
   "execution_count": 61,
   "id": "bc5ded80-debd-4e52-8d5f-3424d48f3bfa",
   "metadata": {},
   "outputs": [
    {
     "data": {
      "image/png": "[encoded data removed]",
      "text/plain": [
       "<Figure size 432x288 with 1 Axes>"
      ]
     },
     "metadata": {
      "needs_background": "light"
     },
     "output_type": "display_data"
    }
   ],
   "source": [
    "image = np.random.uniform(low=0, high=255, size=(2,2)).astype(int)\n",
    "plt.imshow(image, cmap = 'gray')\n",
    "signal = image.flatten()\n",
    "signal = np.interp(signal, (0, 255), (0, np.pi))"
   ]
  },
  {
   "cell_type": "code",
   "execution_count": 62,
   "id": "60468605-35fc-4fbc-9fc9-fdbfa3e0ca22",
   "metadata": {},
   "outputs": [
    {
     "data": {
      "text/plain": [
       "<qiskit.circuit.instructionset.InstructionSet at 0x195176953a0>"
      ]
     },
     "execution_count": 62,
     "metadata": {},
     "output_type": "execute_result"
    }
   ],
   "source": [
    "color = QuantumRegister(len(signal), 'color')\n",
    "classic = ClassicalRegister(color.size, 'classic')\n",
    "\n",
    "qc = QuantumCircuit(color, classic)\n",
    "\n",
    "for i, ang in enumerate(signal):\n",
    "    qc.ry(ang, i)\n",
    "\n",
    "qc.measure(list(reversed(range(len(signal)))), range(len(signal)))\n"
   ]
  },
  {
   "cell_type": "markdown",
   "id": "9fee41ea-2ed1-4571-b466-6a122aa8f93e",
   "metadata": {},
   "source": [
    "Metrics\n",
    "\n",
    "| Image size  | Depth measure | # of utilized qubits\n",
    "| ------------- | ------------- | -------------------|\n",
    "| 2  | 2  | 4 |\n",
    "| 4  | 2  | 16 |\n",
    "| 8  | 2  | 64 |\n",
    "| 16  | 2  | 256 |\n",
    "| 32  | 2  | 1024|\n",
    "| 64  | 2  | 4096 |\n",
    "| 128  | 2  | 16384 |\n",
    "| 256  | 2  | 65536 |"
   ]
  },
  {
   "cell_type": "code",
   "execution_count": 63,
   "id": "5d186fe1-668f-4dd0-8280-d5df5fc97530",
   "metadata": {},
   "outputs": [
    {
     "name": "stdout",
     "output_type": "stream",
     "text": [
      "depth is 2, # of qubits is 4\n"
     ]
    }
   ],
   "source": [
    "print(\"depth is {}, # of qubits is {}\".format(qc.depth(), qc.num_qubits))"
   ]
  },
  {
   "cell_type": "code",
   "execution_count": 64,
   "id": "e586186c-135f-4881-b273-19acd569fa4f",
   "metadata": {},
   "outputs": [],
   "source": [
    "# qc.draw()"
   ]
  },
  {
   "cell_type": "code",
   "execution_count": 65,
   "id": "4fcad9da-2afa-4ea2-aa63-b8c2f150ae49",
   "metadata": {},
   "outputs": [],
   "source": [
    "shots = 1000000\n",
    "aer_sim = Aer.get_backend('aer_simulator')\n",
    "t_qc_image = transpile(qc, aer_sim)\n",
    "qobj = assemble(t_qc_image, shots=shots)\n",
    "job_neqr = aer_sim.run(qobj)\n",
    "result_neqr = job_neqr.result()\n",
    "counts_neqr = result_neqr.get_counts()"
   ]
  },
  {
   "cell_type": "code",
   "execution_count": 66,
   "id": "bd6db348-7218-4747-96bf-68110d339cae",
   "metadata": {},
   "outputs": [],
   "source": [
    "pixels = np.zeros((len(signal)))\n",
    "for item in counts_neqr:\n",
    "    for i, bit in enumerate(item):\n",
    "        if bit=='0':\n",
    "            pixels[i]+=counts_neqr[item]"
   ]
  },
  {
   "cell_type": "code",
   "execution_count": 67,
   "id": "457901d8-32eb-41d9-bec9-af724a70b50e",
   "metadata": {},
   "outputs": [
    {
     "name": "stdout",
     "output_type": "stream",
     "text": [
      "reconstructed pixel value = 0.024166680027404103, real = 0.024639942381096416\n",
      "reconstructed pixel value = 2.933235198611909, real = 2.9321531433504737\n",
      "reconstructed pixel value = 3.131009598957555, real = 3.129272682399245\n",
      "reconstructed pixel value = 1.3795588067265072, real = 1.3798367733413994\n"
     ]
    }
   ],
   "source": [
    "reconstruct = []\n",
    "for pixel in pixels:\n",
    "    color = 2*np.arccos((pixel/shots)**(1/2))\n",
    "    reconstruct.append(color)\n",
    "    \n",
    "for rec, real in zip(reconstruct, signal):\n",
    "    print(\"reconstructed pixel value = {}, real = {}\".format(rec, real))"
   ]
  }
 ],
 "metadata": {
  "kernelspec": {
   "display_name": "Python 3 (ipykernel)",
   "language": "python",
   "name": "python3"
  },
  "language_info": {
   "codemirror_mode": {
    "name": "ipython",
    "version": 3
   },
   "file_extension": ".py",
   "mimetype": "text/x-python",
   "name": "python",
   "nbconvert_exporter": "python",
   "pygments_lexer": "ipython3",
   "version": "3.8.12"
  }
 },
 "nbformat": 4,
 "nbformat_minor": 5
}
