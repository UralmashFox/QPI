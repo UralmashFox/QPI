{
 "cells": [
  {
   "cell_type": "markdown",
   "metadata": {},
   "source": [
    "# Novel enhanced quantum representation of digital images - [NEQR](https://www.overleaf.com/project/61911febed45e965f929d7c0#cite.zhang2013neqr)\n",
    "\n",
    "$| I \\rangle = \\frac{1}{2^n}\\sum_{Y=0}^{2^n-1}\\sum_{X=0}^{2^n-1}\\bigotimes_{i=0}^{q-1} | C_{YX}^{i}\\rangle | YX \\rangle$, where\n",
    "\n",
    "$| C_{YX}^{i}\\rangle$ and $| YX \\rangle$ are pixel intensity and coordinate expansion respectively"
   ]
  },
  {
   "cell_type": "markdown",
   "metadata": {},
   "source": [
    "Step 0: dependencies import"
   ]
  },
  {
   "cell_type": "code",
   "execution_count": 2,
   "metadata": {},
   "outputs": [],
   "source": [
    "from qiskit import QuantumRegister, ClassicalRegister\n",
    "from qiskit import QuantumCircuit, Aer\n",
    "from qiskit import transpile, assemble\n",
    "from qiskit.visualization import plot_histogram\n",
    "import matplotlib.pyplot as plt\n",
    "import numpy as np"
   ]
  },
  {
   "cell_type": "markdown",
   "metadata": {},
   "source": [
    "Step 1: image generation"
   ]
  },
  {
   "cell_type": "code",
   "execution_count": 3,
   "metadata": {},
   "outputs": [
    {
     "data": {
      "image/png": "[encoded data removed]",
      "text/plain": [
       "<Figure size 432x288 with 1 Axes>"
      ]
     },
     "metadata": {},
     "output_type": "display_data"
    }
   ],
   "source": [
    "image = np.random.uniform(low=0, high=255, size=(2,2)).astype(int)\n",
    "plt.imshow(image, cmap='gray')\n",
    "plt.title('Image')\n",
    "plt.show()"
   ]
  },
  {
   "cell_type": "markdown",
   "metadata": {},
   "source": [
    "Step 2: NEQR image encoding"
   ]
  },
  {
   "cell_type": "code",
   "execution_count": 5,
   "metadata": {
    "tags": []
   },
   "outputs": [
    {
     "data": {
      "text/plain": [
       "<qiskit.circuit.instructionset.InstructionSet at 0x28be061c100>"
      ]
     },
     "execution_count": 5,
     "metadata": {},
     "output_type": "execute_result"
    }
   ],
   "source": [
    "idx = QuantumRegister(2, 'idx')\n",
    "intensity = QuantumRegister(8,'intensity')\n",
    "cr = ClassicalRegister(10, 'cr')\n",
    "qc_image = QuantumCircuit(intensity, idx, cr)\n",
    "num_qubits = qc_image.num_qubits\n",
    "input_im = image.copy().flatten()\n",
    "for idx in range(intensity.size):\n",
    "    qc_image.i(idx)\n",
    "qc_image.h(8)\n",
    "qc_image.h(9)\n",
    "for i, pixel in enumerate(input_im):\n",
    "    pixel_bin = \"{0:b}\".format(pixel).zfill(8)\n",
    "    position = \"{0:b}\".format(i).zfill(2)\n",
    "    for j, coord in enumerate(position):\n",
    "        if int(coord):\n",
    "            qc_image.x(qc_image.num_qubits-j-1)\n",
    "    for idx, px_value in enumerate(pixel_bin[::-1]):\n",
    "        if(px_value=='1'):\n",
    "            qc_image.ccx(num_qubits-1, num_qubits-2, idx)\n",
    "    if i!=len(input_im) - 1:\n",
    "        for j, coord in enumerate(position):\n",
    "            if int(coord):\n",
    "                qc_image.x(qc_image.num_qubits-j-1)\n",
    "    qc_image.barrier()\n",
    "qc_image.measure(range(10),range(10))"
   ]
  },
  {
   "cell_type": "markdown",
   "metadata": {},
   "source": [
    "Circuit visualization"
   ]
  },
  {
   "cell_type": "code",
   "execution_count": 6,
   "metadata": {},
   "outputs": [
    {
     "data": {
      "text/html": [
       "<pre style=\"word-wrap: normal;white-space: pre;background: #fff0;line-height: 1.1;font-family: &quot;Courier New&quot;,Courier,monospace\">             ┌───┐                     ░                                     ░ »\n",
       "intensity_0: ┤ I ├─────────────────────░─────────────────────────────────────░─»\n",
       "             ├───┤┌───┐                ░      ┌───┐                          ░ »\n",
       "intensity_1: ┤ I ├┤ X ├────────────────░──────┤ X ├──────────────────────────░─»\n",
       "             ├───┤└─┬─┘┌───┐           ░      └─┬─┘┌───┐                     ░ »\n",
       "intensity_2: ┤ I ├──┼──┤ X ├───────────░────────┼──┤ X ├─────────────────────░─»\n",
       "             ├───┤  │  └─┬─┘┌───┐      ░        │  └─┬─┘                     ░ »\n",
       "intensity_3: ┤ I ├──┼────┼──┤ X ├──────░────────┼────┼───────────────────────░─»\n",
       "             ├───┤  │    │  └─┬─┘┌───┐ ░        │    │  ┌───┐                ░ »\n",
       "intensity_4: ┤ I ├──┼────┼────┼──┤ X ├─░────────┼────┼──┤ X ├────────────────░─»\n",
       "             ├───┤  │    │    │  └─┬─┘ ░        │    │  └─┬─┘┌───┐           ░ »\n",
       "intensity_5: ┤ I ├──┼────┼────┼────┼───░────────┼────┼────┼──┤ X ├───────────░─»\n",
       "             ├───┤  │    │    │    │   ░        │    │    │  └─┬─┘           ░ »\n",
       "intensity_6: ┤ I ├──┼────┼────┼────┼───░────────┼────┼────┼────┼─────────────░─»\n",
       "             ├───┤  │    │    │    │   ░        │    │    │    │  ┌───┐      ░ »\n",
       "intensity_7: ┤ I ├──┼────┼────┼────┼───░────────┼────┼────┼────┼──┤ X ├──────░─»\n",
       "             ├───┤  │    │    │    │   ░ ┌───┐  │    │    │    │  └─┬─┘┌───┐ ░ »\n",
       "      idx_0: ┤ H ├──■────■────■────■───░─┤ X ├──■────■────■────■────■──┤ X ├─░─»\n",
       "             ├───┤  │    │    │    │   ░ └───┘  │    │    │    │    │  └───┘ ░ »\n",
       "      idx_1: ┤ H ├──■────■────■────■───░────────■────■────■────■────■────────░─»\n",
       "             └───┘                     ░                                     ░ »\n",
       "      cr: 10/══════════════════════════════════════════════════════════════════»\n",
       "                                                                               »\n",
       "«                                            ░      ┌───┐                ░ ┌─┐»\n",
       "«intensity_0: ───────────────────────────────░──────┤ X ├────────────────░─┤M├»\n",
       "«                  ┌───┐                     ░      └─┬─┘                ░ └╥┘»\n",
       "«intensity_1: ─────┤ X ├─────────────────────░────────┼──────────────────░──╫─»\n",
       "«                  └─┬─┘                     ░        │  ┌───┐           ░  ║ »\n",
       "«intensity_2: ───────┼───────────────────────░────────┼──┤ X ├───────────░──╫─»\n",
       "«                    │  ┌───┐                ░        │  └─┬─┘           ░  ║ »\n",
       "«intensity_3: ───────┼──┤ X ├────────────────░────────┼────┼─────────────░──╫─»\n",
       "«                    │  └─┬─┘┌───┐           ░        │    │             ░  ║ »\n",
       "«intensity_4: ───────┼────┼──┤ X ├───────────░────────┼────┼─────────────░──╫─»\n",
       "«                    │    │  └─┬─┘           ░        │    │  ┌───┐      ░  ║ »\n",
       "«intensity_5: ───────┼────┼────┼─────────────░────────┼────┼──┤ X ├──────░──╫─»\n",
       "«                    │    │    │             ░        │    │  └─┬─┘┌───┐ ░  ║ »\n",
       "«intensity_6: ───────┼────┼────┼─────────────░────────┼────┼────┼──┤ X ├─░──╫─»\n",
       "«                    │    │    │  ┌───┐      ░        │    │    │  └─┬─┘ ░  ║ »\n",
       "«intensity_7: ───────┼────┼────┼──┤ X ├──────░────────┼────┼────┼────┼───░──╫─»\n",
       "«                    │    │    │  └─┬─┘      ░ ┌───┐  │    │    │    │   ░  ║ »\n",
       "«      idx_0: ───────■────■────■────■────────░─┤ X ├──■────■────■────■───░──╫─»\n",
       "«             ┌───┐  │    │    │    │  ┌───┐ ░ ├───┤  │    │    │    │   ░  ║ »\n",
       "«      idx_1: ┤ X ├──■────■────■────■──┤ X ├─░─┤ X ├──■────■────■────■───░──╫─»\n",
       "«             └───┘                    └───┘ ░ └───┘                     ░  ║ »\n",
       "«      cr: 10/══════════════════════════════════════════════════════════════╩═»\n",
       "«                                                                           0 »\n",
       "«                                        \n",
       "«intensity_0: ───────────────────────────\n",
       "«             ┌─┐                        \n",
       "«intensity_1: ┤M├────────────────────────\n",
       "«             └╥┘┌─┐                     \n",
       "«intensity_2: ─╫─┤M├─────────────────────\n",
       "«              ║ └╥┘┌─┐                  \n",
       "«intensity_3: ─╫──╫─┤M├──────────────────\n",
       "«              ║  ║ └╥┘┌─┐               \n",
       "«intensity_4: ─╫──╫──╫─┤M├───────────────\n",
       "«              ║  ║  ║ └╥┘┌─┐            \n",
       "«intensity_5: ─╫──╫──╫──╫─┤M├────────────\n",
       "«              ║  ║  ║  ║ └╥┘┌─┐         \n",
       "«intensity_6: ─╫──╫──╫──╫──╫─┤M├─────────\n",
       "«              ║  ║  ║  ║  ║ └╥┘┌─┐      \n",
       "«intensity_7: ─╫──╫──╫──╫──╫──╫─┤M├──────\n",
       "«              ║  ║  ║  ║  ║  ║ └╥┘┌─┐   \n",
       "«      idx_0: ─╫──╫──╫──╫──╫──╫──╫─┤M├───\n",
       "«              ║  ║  ║  ║  ║  ║  ║ └╥┘┌─┐\n",
       "«      idx_1: ─╫──╫──╫──╫──╫──╫──╫──╫─┤M├\n",
       "«              ║  ║  ║  ║  ║  ║  ║  ║ └╥┘\n",
       "«      cr: 10/═╩══╩══╩══╩══╩══╩══╩══╩══╩═\n",
       "«              1  2  3  4  5  6  7  8  9 </pre>"
      ],
      "text/plain": [
       "<pre style=\"word-wrap: normal;white-space: pre;background: #fff0;line-height: 1.1;font-family: &quot;Courier New&quot;,Courier,monospace\">             ┌───┐                     ░                                     ░ »\n",
       "intensity_0: ┤ I ├─────────────────────░─────────────────────────────────────░─»\n",
       "             ├───┤┌───┐                ░      ┌───┐                          ░ »\n",
       "intensity_1: ┤ I ├┤ X ├────────────────░──────┤ X ├──────────────────────────░─»\n",
       "             ├───┤└─┬─┘┌───┐           ░      └─┬─┘┌───┐                     ░ »\n",
       "intensity_2: ┤ I ├──┼──┤ X ├───────────░────────┼──┤ X ├─────────────────────░─»\n",
       "             ├───┤  │  └─┬─┘┌───┐      ░        │  └─┬─┘                     ░ »\n",
       "intensity_3: ┤ I ├──┼────┼──┤ X ├──────░────────┼────┼───────────────────────░─»\n",
       "             ├───┤  │    │  └─┬─┘┌───┐ ░        │    │  ┌───┐                ░ »\n",
       "intensity_4: ┤ I ├──┼────┼────┼──┤ X ├─░────────┼────┼──┤ X ├────────────────░─»\n",
       "             ├───┤  │    │    │  └─┬─┘ ░        │    │  └─┬─┘┌───┐           ░ »\n",
       "intensity_5: ┤ I ├──┼────┼────┼────┼───░────────┼────┼────┼──┤ X ├───────────░─»\n",
       "             ├───┤  │    │    │    │   ░        │    │    │  └─┬─┘           ░ »\n",
       "intensity_6: ┤ I ├──┼────┼────┼────┼───░────────┼────┼────┼────┼─────────────░─»\n",
       "             ├───┤  │    │    │    │   ░        │    │    │    │  ┌───┐      ░ »\n",
       "intensity_7: ┤ I ├──┼────┼────┼────┼───░────────┼────┼────┼────┼──┤ X ├──────░─»\n",
       "             ├───┤  │    │    │    │   ░ ┌───┐  │    │    │    │  └─┬─┘┌───┐ ░ »\n",
       "      idx_0: ┤ H ├──■────■────■────■───░─┤ X ├──■────■────■────■────■──┤ X ├─░─»\n",
       "             ├───┤  │    │    │    │   ░ └───┘  │    │    │    │    │  └───┘ ░ »\n",
       "      idx_1: ┤ H ├──■────■────■────■───░────────■────■────■────■────■────────░─»\n",
       "             └───┘                     ░                                     ░ »\n",
       "      cr: 10/══════════════════════════════════════════════════════════════════»\n",
       "                                                                               »\n",
       "«                                            ░      ┌───┐                ░ ┌─┐»\n",
       "«intensity_0: ───────────────────────────────░──────┤ X ├────────────────░─┤M├»\n",
       "«                  ┌───┐                     ░      └─┬─┘                ░ └╥┘»\n",
       "«intensity_1: ─────┤ X ├─────────────────────░────────┼──────────────────░──╫─»\n",
       "«                  └─┬─┘                     ░        │  ┌───┐           ░  ║ »\n",
       "«intensity_2: ───────┼───────────────────────░────────┼──┤ X ├───────────░──╫─»\n",
       "«                    │  ┌───┐                ░        │  └─┬─┘           ░  ║ »\n",
       "«intensity_3: ───────┼──┤ X ├────────────────░────────┼────┼─────────────░──╫─»\n",
       "«                    │  └─┬─┘┌───┐           ░        │    │             ░  ║ »\n",
       "«intensity_4: ───────┼────┼──┤ X ├───────────░────────┼────┼─────────────░──╫─»\n",
       "«                    │    │  └─┬─┘           ░        │    │  ┌───┐      ░  ║ »\n",
       "«intensity_5: ───────┼────┼────┼─────────────░────────┼────┼──┤ X ├──────░──╫─»\n",
       "«                    │    │    │             ░        │    │  └─┬─┘┌───┐ ░  ║ »\n",
       "«intensity_6: ───────┼────┼────┼─────────────░────────┼────┼────┼──┤ X ├─░──╫─»\n",
       "«                    │    │    │  ┌───┐      ░        │    │    │  └─┬─┘ ░  ║ »\n",
       "«intensity_7: ───────┼────┼────┼──┤ X ├──────░────────┼────┼────┼────┼───░──╫─»\n",
       "«                    │    │    │  └─┬─┘      ░ ┌───┐  │    │    │    │   ░  ║ »\n",
       "«      idx_0: ───────■────■────■────■────────░─┤ X ├──■────■────■────■───░──╫─»\n",
       "«             ┌───┐  │    │    │    │  ┌───┐ ░ ├───┤  │    │    │    │   ░  ║ »\n",
       "«      idx_1: ┤ X ├──■────■────■────■──┤ X ├─░─┤ X ├──■────■────■────■───░──╫─»\n",
       "«             └───┘                    └───┘ ░ └───┘                     ░  ║ »\n",
       "«      cr: 10/══════════════════════════════════════════════════════════════╩═»\n",
       "«                                                                           0 »\n",
       "«                                        \n",
       "«intensity_0: ───────────────────────────\n",
       "«             ┌─┐                        \n",
       "«intensity_1: ┤M├────────────────────────\n",
       "«             └╥┘┌─┐                     \n",
       "«intensity_2: ─╫─┤M├─────────────────────\n",
       "«              ║ └╥┘┌─┐                  \n",
       "«intensity_3: ─╫──╫─┤M├──────────────────\n",
       "«              ║  ║ └╥┘┌─┐               \n",
       "«intensity_4: ─╫──╫──╫─┤M├───────────────\n",
       "«              ║  ║  ║ └╥┘┌─┐            \n",
       "«intensity_5: ─╫──╫──╫──╫─┤M├────────────\n",
       "«              ║  ║  ║  ║ └╥┘┌─┐         \n",
       "«intensity_6: ─╫──╫──╫──╫──╫─┤M├─────────\n",
       "«              ║  ║  ║  ║  ║ └╥┘┌─┐      \n",
       "«intensity_7: ─╫──╫──╫──╫──╫──╫─┤M├──────\n",
       "«              ║  ║  ║  ║  ║  ║ └╥┘┌─┐   \n",
       "«      idx_0: ─╫──╫──╫──╫──╫──╫──╫─┤M├───\n",
       "«              ║  ║  ║  ║  ║  ║  ║ └╥┘┌─┐\n",
       "«      idx_1: ─╫──╫──╫──╫──╫──╫──╫──╫─┤M├\n",
       "«              ║  ║  ║  ║  ║  ║  ║  ║ └╥┘\n",
       "«      cr: 10/═╩══╩══╩══╩══╩══╩══╩══╩══╩═\n",
       "«              1  2  3  4  5  6  7  8  9 </pre>"
      ]
     },
     "execution_count": 6,
     "metadata": {},
     "output_type": "execute_result"
    }
   ],
   "source": [
    "qc_image.draw()"
   ]
  },
  {
   "cell_type": "markdown",
   "metadata": {},
   "source": [
    "Step 3: circuit execution"
   ]
  },
  {
   "cell_type": "code",
   "execution_count": 7,
   "metadata": {},
   "outputs": [
    {
     "data": {
      "image/png": "[encoded data removed]",
      "text/plain": [
       "<Figure size 432x288 with 1 Axes>"
      ]
     },
     "metadata": {},
     "output_type": "display_data"
    },
    {
     "data": {
      "image/png": "[encoded data removed]",
      "text/plain": [
       "<Figure size 432x288 with 1 Axes>"
      ]
     },
     "metadata": {},
     "output_type": "display_data"
    },
    {
     "name": "stdout",
     "output_type": "stream",
     "text": [
      "[ 30. 182. 154. 101.] \n [ 30 182 154 101]\n"
     ]
    }
   ],
   "source": [
    "aer_sim = Aer.get_backend('aer_simulator')\n",
    "t_qc_image = transpile(qc_image, aer_sim)\n",
    "qobj = assemble(t_qc_image, shots=8192)\n",
    "job_neqr = aer_sim.run(qobj)\n",
    "result_neqr = job_neqr.result()\n",
    "counts_neqr = result_neqr.get_counts()\n",
    "out_pixels = []\n",
    "for item in counts_neqr:\n",
    "    out_pixels.append((int(item[0:2], 2), int(item[2:],2)))\n",
    "out_image = np.zeros((1, len(input_im)))\n",
    "for pixel in out_pixels:\n",
    "    out_image[0][pixel[0]] = pixel[1]\n",
    "out_image = np.reshape(out_image, (image.shape))\n",
    "plt.imshow(out_image, cmap='gray')\n",
    "plt.title('Reconstructed image')\n",
    "plt.show()\n",
    "plt.imshow(image, cmap='gray')\n",
    "plt.title('Original image')\n",
    "plt.show()\n",
    "print(out_image.flatten(), '\\n', image.flatten())"
   ]
  }
 ],
 "metadata": {
  "kernelspec": {
   "display_name": "Python 3 (ipykernel)",
   "language": "python",
   "name": "python3"
  },
  "language_info": {
   "codemirror_mode": {
    "name": "ipython",
    "version": 3
   },
   "file_extension": ".py",
   "mimetype": "text/x-python",
   "name": "python",
   "nbconvert_exporter": "python",
   "pygments_lexer": "ipython3",
   "version": "3.8.12"
  }
 },
 "nbformat": 4,
 "nbformat_minor": 5
}
