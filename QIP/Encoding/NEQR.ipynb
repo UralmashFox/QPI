{
 "cells": [
  {
   "cell_type": "markdown",
   "id": "abddd810",
   "metadata": {},
   "source": [
    "# Novel enhanced quantum representation of digital images - [NEQR](https://www.overleaf.com/project/61911febed45e965f929d7c0#cite.zhang2013neqr)\n",
    "\n",
    "$| I \\rangle = \\frac{1}{2^n}\\sum_{Y=0}^{2^n-1}\\sum_{X=0}^{2^n-1}\\bigotimes_{i=0}^{q-1} | C_{YX}^{i}\\rangle | YX \\rangle$, where\n",
    "\n",
    "$| C_{YX}^{i}\\rangle$ and $| YX \\rangle$ are pixel intensity and coordinate expansion respectively"
   ]
  },
  {
   "cell_type": "markdown",
   "id": "3289aff6",
   "metadata": {},
   "source": [
    "Step 0: dependencies import"
   ]
  },
  {
   "cell_type": "code",
   "execution_count": 1,
   "id": "5834d3db",
   "metadata": {},
   "outputs": [],
   "source": [
    "from qiskit import QuantumRegister, ClassicalRegister\n",
    "from qiskit import QuantumCircuit, Aer\n",
    "from qiskit import transpile, assemble\n",
    "from qiskit.visualization import plot_histogram\n",
    "import matplotlib.pyplot as plt\n",
    "import numpy as np\n",
    "import math\n",
    "from qiskit.extensions import XGate"
   ]
  },
  {
   "cell_type": "markdown",
   "id": "53aca68c",
   "metadata": {},
   "source": [
    "Step 1: image generation"
   ]
  },
  {
   "cell_type": "code",
   "execution_count": 2,
   "id": "8f8309b5",
   "metadata": {},
   "outputs": [
    {
     "data": {
      "image/png": "[encoded data removed]",
      "text/plain": [
       "<Figure size 432x288 with 1 Axes>"
      ]
     },
     "metadata": {
      "needs_background": "light"
     },
     "output_type": "display_data"
    }
   ],
   "source": [
    "image = np.random.uniform(low=0, high=255, size=(2,2)).astype(int)\n",
    "plt.imshow(image, cmap='gray')\n",
    "plt.title('Image')\n",
    "plt.show()\n",
    "\n",
    "w_bits = int(np.ceil(math.log(image.shape[1],2)))\n",
    "h_bits = int(np.ceil(math.log(image.shape[0],2)))\n",
    "if not w_bits: w_bits = 1\n",
    "if not h_bits: h_bits = 1"
   ]
  },
  {
   "cell_type": "markdown",
   "id": "89fd1d9f",
   "metadata": {},
   "source": [
    "Step 2: NEQR image encoding"
   ]
  },
  {
   "cell_type": "code",
   "execution_count": 3,
   "id": "7f05b54d",
   "metadata": {
    "tags": []
   },
   "outputs": [
    {
     "data": {
      "text/plain": [
       "<qiskit.circuit.instructionset.InstructionSet at 0x280faa83040>"
      ]
     },
     "execution_count": 3,
     "metadata": {},
     "output_type": "execute_result"
    }
   ],
   "source": [
    "indx = QuantumRegister(w_bits+h_bits, 'indx')\n",
    "intensity = QuantumRegister(8,'intensity')\n",
    "cr = ClassicalRegister(len(indx)+len(intensity), 'cr')\n",
    "qc_image = QuantumCircuit(intensity, indx, cr)\n",
    "num_qubits = qc_image.num_qubits\n",
    "input_im = image.copy().flatten()\n",
    "# for indx in range(intensity.size):\n",
    "qc_image.i(intensity)\n",
    "qc_image.h(indx)\n",
    "# qc_image.h(9)\n",
    "for i, pixel in enumerate(input_im):\n",
    "    pixel_bin = \"{0:b}\".format(pixel).zfill(len(intensity))\n",
    "    position = \"{0:b}\".format(i).zfill(len(indx))\n",
    "    for j, coord in enumerate(position):\n",
    "        if int(coord):\n",
    "            qc_image.x(qc_image.num_qubits-j-1)\n",
    "    for idx, px_value in enumerate(pixel_bin[::-1]):\n",
    "        if(px_value=='1'):\n",
    "            \n",
    "#             controls = list(range(0, 2))\n",
    "#             xg = XGate(None).control(8)\n",
    "#             controls.append(idx)\n",
    "#             qc_image.append(xg, controls)\n",
    "            control_qubits = list(range(intensity.size, intensity.size + indx.size))\n",
    "            target_qubit = intensity[idx]\n",
    "            qc_image.mcx(control_qubits, target_qubit)\n",
    "                \n",
    "#             qc_image.ccx(num_qubits-1, num_qubits-2, idx)\n",
    "    if i!=len(input_im) - 1:\n",
    "        for j, coord in enumerate(position):\n",
    "            if int(coord):\n",
    "                qc_image.x(qc_image.num_qubits-j-1)\n",
    "    qc_image.barrier()\n",
    "qc_image.measure(range(qc_image.num_qubits),range(cr.size))"
   ]
  },
  {
   "cell_type": "markdown",
   "id": "dca1a1cf-5575-47d0-b0d6-7cba23fad1c8",
   "metadata": {},
   "source": [
    "Metrics\n",
    "\n",
    "| Image size  | Depth measure | # of utilized qubits\n",
    "| ------------- | ------------- | -------------------|\n",
    "| 2  | 22  | 10 |\n",
    "| 4  | 88  | 12 |\n",
    "| 8  | 375  |14 |\n",
    "| 16  | 1513  | 16 |\n",
    "| 32  | 6075  | 18 |\n",
    "| 64  | 24410  | 20 |\n",
    "| 128  | 97923  | 22 |\n",
    "| 256  | 392281  | 24 |"
   ]
  },
  {
   "cell_type": "code",
   "execution_count": 4,
   "id": "c889b5f6-5b0e-464a-aef2-770557cf86dd",
   "metadata": {},
   "outputs": [
    {
     "name": "stdout",
     "output_type": "stream",
     "text": [
      "depth is 16, # of qubits is 10\n"
     ]
    }
   ],
   "source": [
    "print(\"depth is {}, # of qubits is {}\".format(qc_image.depth(), qc_image.num_qubits))"
   ]
  },
  {
   "cell_type": "markdown",
   "id": "01bed650",
   "metadata": {},
   "source": [
    "Circuit visualization"
   ]
  },
  {
   "cell_type": "code",
   "execution_count": 5,
   "id": "71229a58",
   "metadata": {
    "tags": []
   },
   "outputs": [],
   "source": [
    "# qc_image.draw()"
   ]
  },
  {
   "cell_type": "markdown",
   "id": "b538bd05",
   "metadata": {},
   "source": [
    "Step 3: circuit execution"
   ]
  },
  {
   "cell_type": "code",
   "execution_count": 6,
   "id": "a03fcd68",
   "metadata": {},
   "outputs": [
    {
     "data": {
      "image/png": "[encoded data removed]",
      "text/plain": [
       "<Figure size 432x288 with 1 Axes>"
      ]
     },
     "metadata": {
      "needs_background": "light"
     },
     "output_type": "display_data"
    },
    {
     "data": {
      "image/png": "[encoded data removed]",
      "text/plain": [
       "<Figure size 432x288 with 1 Axes>"
      ]
     },
     "metadata": {
      "needs_background": "light"
     },
     "output_type": "display_data"
    },
    {
     "name": "stdout",
     "output_type": "stream",
     "text": [
      "[ 27.  22. 136.   0.] \n",
      " [ 27  22 136   0]\n"
     ]
    }
   ],
   "source": [
    "aer_sim = Aer.get_backend('aer_simulator')\n",
    "t_qc_image = transpile(qc_image, aer_sim)\n",
    "qobj = assemble(t_qc_image, shots=8192)\n",
    "job_neqr = aer_sim.run(qobj)\n",
    "result_neqr = job_neqr.result()\n",
    "counts_neqr = result_neqr.get_counts()\n",
    "out_pixels = []\n",
    "for item in counts_neqr:\n",
    "    out_pixels.append((int(item[0:w_bits+h_bits], 2), int(item[w_bits+h_bits:],2)))\n",
    "out_image = np.zeros((1, len(input_im)))\n",
    "for pixel in out_pixels:\n",
    "    out_image[0][pixel[0]] = pixel[1]\n",
    "out_image = np.reshape(out_image, (image.shape))\n",
    "plt.imshow(out_image, cmap='gray')\n",
    "plt.title('Reconstructed image')\n",
    "plt.show()\n",
    "plt.imshow(image, cmap='gray')\n",
    "plt.title('Original image')\n",
    "plt.show()\n",
    "print(out_image.flatten(), '\\n', image.flatten())"
   ]
  }
 ],
 "metadata": {
  "kernelspec": {
   "display_name": "Python 3 (ipykernel)",
   "language": "python",
   "name": "python3"
  },
  "language_info": {
   "codemirror_mode": {
    "name": "ipython",
    "version": 3
   },
   "file_extension": ".py",
   "mimetype": "text/x-python",
   "name": "python",
   "nbconvert_exporter": "python",
   "pygments_lexer": "ipython3",
   "version": "3.8.12"
  }
 },
 "nbformat": 4,
 "nbformat_minor": 5
}
