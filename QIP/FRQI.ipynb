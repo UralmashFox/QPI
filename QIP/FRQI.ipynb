{
 "cells": [
  {
   "cell_type": "markdown",
   "id": "6f03bafc-6591-4016-8b87-0cf9cc28b11d",
   "metadata": {},
   "source": [
    "# Only for 2x2 images"
   ]
  },
  {
   "cell_type": "code",
   "execution_count": 1,
   "id": "b5486176-8d6f-4a14-b86f-e2b8ff31e00c",
   "metadata": {},
   "outputs": [],
   "source": [
    "import qiskit\n",
    "from qiskit import QuantumRegister, ClassicalRegister\n",
    "import qiskit as qk\n",
    "from qiskit import QuantumCircuit, Aer, IBMQ, execute\n",
    "from qiskit import transpile, assemble\n",
    "from qiskit.tools.jupyter import *\n",
    "from qiskit.visualization import plot_histogram\n",
    "import matplotlib.pyplot as plt\n",
    "import numpy as np\n",
    "import math"
   ]
  },
  {
   "cell_type": "code",
   "execution_count": 13,
   "id": "ceced0b2-2831-418d-90f2-0ea6e02e9163",
   "metadata": {},
   "outputs": [
    {
     "data": {
      "image/png": "[encoded data removed]",
      "text/plain": [
       "<Figure size 432x288 with 1 Axes>"
      ]
     },
     "metadata": {
      "needs_background": "light"
     },
     "output_type": "display_data"
    }
   ],
   "source": [
    "image = image = np.random.uniform(low=0, high=255, size=(2,2)).astype(int)\n",
    "plt.imshow(image, cmap='gray')\n",
    "plt.title('Image')\n",
    "plt.show()"
   ]
  },
  {
   "cell_type": "code",
   "execution_count": 14,
   "id": "37ed73e5-3b5c-4893-ba01-96ea9b8182ed",
   "metadata": {},
   "outputs": [],
   "source": [
    "input_im = image.copy().flatten()\n",
    "input_im = np.interp(input_im, (0, 255), (0, np.pi/2))\n",
    "coord_q_num = int(np.ceil(math.log(len(input_im), 2)))"
   ]
  },
  {
   "cell_type": "code",
   "execution_count": 15,
   "id": "e725e4d1-8adc-4700-8be6-652da007692b",
   "metadata": {},
   "outputs": [
    {
     "data": {
      "text/plain": [
       "<qiskit.circuit.instructionset.InstructionSet at 0x23c19d2d490>"
      ]
     },
     "execution_count": 15,
     "metadata": {},
     "output_type": "execute_result"
    }
   ],
   "source": [
    "color = QuantumRegister(1, 'color')\n",
    "coordinate = QuantumRegister(coord_q_num, 'coordinate')\n",
    "cr = ClassicalRegister(3, 'c')\n",
    "qc = QuantumCircuit(coordinate,color, cr)\n",
    "qc.h(coordinate)\n",
    "for i, pixel in enumerate(input_im):\n",
    "    to_not = \"{0:b}\".format(i).zfill(2)\n",
    "    for j, bit in enumerate(to_not):\n",
    "        if int(bit):\n",
    "            qc.x(j)\n",
    "    qc.cry(pixel,0,2)\n",
    "    qc.cx(0,1)\n",
    "    qc.cry(-pixel,1,2)\n",
    "    qc.cx(0,1)\n",
    "    qc.cry(pixel,1,2)\n",
    "    if i!=len(input_im)-1:\n",
    "        for j, bit in enumerate(to_not):\n",
    "            if int(bit):\n",
    "                qc.x(j)\n",
    "        qc.barrier()\n",
    "qc.swap(0,1)\n",
    "qc.measure(list(range(qc.num_qubits)), list(range(cr.size)))    \n",
    "# qc.draw()"
   ]
  },
  {
   "cell_type": "code",
   "execution_count": 16,
   "id": "0ffb8d62-3246-4d50-b4c3-550e5a4a8ac7",
   "metadata": {},
   "outputs": [],
   "source": [
    "def simulate(qc, input_im, shots=10000, print_data=True):    \n",
    "    aer_sim = Aer.get_backend('aer_simulator')\n",
    "    t_qc = transpile(qc, aer_sim)\n",
    "    qobj = assemble(t_qc, shots=shots)\n",
    "    result = aer_sim.run(qobj).result()\n",
    "    counts = result.get_counts(qc)\n",
    "    if print_data:\n",
    "        print(counts)\n",
    "        plot_histogram(counts)\n",
    "        plt.show()\n",
    "    nums = []\n",
    "    for iter in range(len(input_im)):\n",
    "        flag = 0\n",
    "        num = []\n",
    "        for item in counts.items():\n",
    "            if int(item[0][1:], 2)==iter:\n",
    "                num.append((int(item[0][0], 2), item[1]))\n",
    "        nums.append(num)\n",
    "    colors = []\n",
    "    for num in nums:\n",
    "        if len(num)==2:\n",
    "            if num[0][0] == 0:\n",
    "                color = np.arccos((num[0][1]/(num[0][1]+num[1][1]))**(1/2))\n",
    "                colors.append(color)\n",
    "            else:\n",
    "                color = np.arccos((num[1][1]/(num[0][1]+num[1][1]))**(1/2))\n",
    "                colors.append(color)\n",
    "        else:\n",
    "            if num[0][0] == 0:\n",
    "                colors.append(0)\n",
    "            else:\n",
    "                colors.append(np.pi/2)\n",
    "    output_im = np.interp(colors, (0, np.pi/2), (0, 255)).astype(int)\n",
    "    print(output_im, '\\n', image.copy().flatten())\n",
    "    return output_im"
   ]
  },
  {
   "cell_type": "code",
   "execution_count": 17,
   "id": "79166be3-cff0-4cdb-8ed1-cc01b02632ce",
   "metadata": {},
   "outputs": [],
   "source": [
    "def plot_to_compare(output_im, input_im):\n",
    "    plt.imshow(output_im.reshape(2,2), cmap = 'gray')\n",
    "    plt.title('measured image')\n",
    "    plt.show()\n",
    "    plt.imshow(input_im.reshape(2,2), cmap = 'gray')\n",
    "    plt.title('real image')\n",
    "    plt.show()"
   ]
  },
  {
   "cell_type": "code",
   "execution_count": 18,
   "id": "b20fd3ee-b320-4c90-9e77-3b0eac34d455",
   "metadata": {},
   "outputs": [
    {
     "name": "stdout",
     "output_type": "stream",
     "text": [
      "[150  70  29 106] \n",
      " [152  71  28 105]\n"
     ]
    },
    {
     "data": {
      "image/png": "[encoded data removed]",
      "text/plain": [
       "<Figure size 432x288 with 1 Axes>"
      ]
     },
     "metadata": {
      "needs_background": "light"
     },
     "output_type": "display_data"
    },
    {
     "data": {
      "image/png": "[encoded data removed]",
      "text/plain": [
       "<Figure size 432x288 with 1 Axes>"
      ]
     },
     "metadata": {
      "needs_background": "light"
     },
     "output_type": "display_data"
    }
   ],
   "source": [
    "output_im = simulate(qc, input_im, print_data=False)\n",
    "plot_to_compare(output_im, input_im)"
   ]
  },
  {
   "cell_type": "markdown",
   "id": "3e1fdd0d-65a8-415e-bf8d-b09561342ee9",
   "metadata": {},
   "source": [
    "# Flip Horizontal"
   ]
  },
  {
   "cell_type": "code",
   "execution_count": 19,
   "id": "32037425-7264-4e9e-a6cf-c31d8a5c6d5e",
   "metadata": {},
   "outputs": [],
   "source": [
    "color = QuantumRegister(1, 'color')\n",
    "coordinate = QuantumRegister(2, 'coordinate')\n",
    "cr = ClassicalRegister(3, 'c')\n",
    "qc = QuantumCircuit(coordinate,color, cr)\n",
    "qc.h(0)\n",
    "qc.h(1)\n",
    "qc.swap(0,1)\n",
    "for i, pixel in enumerate(input_im):\n",
    "    to_not = \"{0:b}\".format(i).zfill(2)\n",
    "    for j, bit in enumerate(to_not):\n",
    "        if int(bit):\n",
    "            qc.x(j)\n",
    "    if to_not[0]:\n",
    "        qc.x(0)\n",
    "    qc.cry(pixel,0,2)\n",
    "    qc.cx(0,1)\n",
    "    qc.cry(-pixel,1,2)\n",
    "    qc.cx(0,1)\n",
    "    qc.cry(pixel,1,2)\n",
    "    for j, bit in enumerate(to_not):\n",
    "        if int(bit):\n",
    "            qc.x(j)\n",
    "    if to_not[0]:\n",
    "        qc.x(0)\n",
    "        qc.barrier()\n",
    "qc.swap(0,1)\n",
    "for i in range(len(input_im)-1):\n",
    "    qc.measure(i, i)\n",
    "# qc.draw()"
   ]
  },
  {
   "cell_type": "code",
   "execution_count": 20,
   "id": "82cb9129-52c2-4f2e-835c-287a1f298f10",
   "metadata": {},
   "outputs": [
    {
     "name": "stdout",
     "output_type": "stream",
     "text": [
      "{'010': 1617, '111': 89, '000': 2022, '011': 2413, '110': 911, '001': 894, '101': 1595, '100': 459}\n"
     ]
    },
    {
     "data": {
      "image/png": "[encoded data removed]",
      "text/plain": [
       "<Figure size 504x360 with 1 Axes>"
      ]
     },
     "metadata": {
      "needs_background": "light"
     },
     "output_type": "display_data"
    },
    {
     "name": "stdout",
     "output_type": "stream",
     "text": [
      "[ 72 150 104  30] \n",
      " [152  71  28 105]\n"
     ]
    },
    {
     "data": {
      "image/png": "[encoded data removed]",
      "text/plain": [
       "<Figure size 432x288 with 1 Axes>"
      ]
     },
     "metadata": {
      "needs_background": "light"
     },
     "output_type": "display_data"
    },
    {
     "data": {
      "image/png": "[encoded data removed]",
      "text/plain": [
       "<Figure size 432x288 with 1 Axes>"
      ]
     },
     "metadata": {
      "needs_background": "light"
     },
     "output_type": "display_data"
    }
   ],
   "source": [
    "output_im = simulate(qc, input_im)\n",
    "plot_to_compare(output_im, input_im)"
   ]
  },
  {
   "cell_type": "markdown",
   "id": "b7a08e28-a975-4e9b-a809-7651846aecc3",
   "metadata": {},
   "source": [
    "# Flip vertical"
   ]
  },
  {
   "cell_type": "code",
   "execution_count": 21,
   "id": "3f3f92ae-f669-46da-aa0d-74baa6dfd786",
   "metadata": {},
   "outputs": [],
   "source": [
    "color = QuantumRegister(1, 'color')\n",
    "coordinate = QuantumRegister(2, 'coordinate')\n",
    "cr = ClassicalRegister(3, 'c')\n",
    "qc = QuantumCircuit(coordinate,color, cr)\n",
    "qc.h(0)\n",
    "qc.h(1)\n",
    "qc.swap(0,1)\n",
    "for i, pixel in enumerate(input_im):\n",
    "    to_not = \"{0:b}\".format(i).zfill(2)\n",
    "    for j, bit in enumerate(to_not):\n",
    "        if int(bit):\n",
    "            qc.x(j)\n",
    "    if to_not[1]:\n",
    "        qc.x(1)\n",
    "    qc.cry(pixel,0,2)\n",
    "    qc.cx(0,1)\n",
    "    qc.cry(-pixel,1,2)\n",
    "    qc.cx(0,1)\n",
    "    qc.cry(pixel,1,2)\n",
    "    for j, bit in enumerate(to_not):\n",
    "        if int(bit):\n",
    "            qc.x(j)\n",
    "    if to_not[1]:\n",
    "        qc.x(1)\n",
    "        qc.barrier()\n",
    "qc.swap(0,1)\n",
    "for i in range(len(input_im)-1):\n",
    "    qc.measure(i, i)\n"
   ]
  },
  {
   "cell_type": "code",
   "execution_count": 22,
   "id": "7e5d06fd-2937-4ce2-b32c-e9db651d6c20",
   "metadata": {},
   "outputs": [
    {
     "name": "stdout",
     "output_type": "stream",
     "text": [
      "{'001': 1577, '010': 867, '000': 2436, '011': 2135, '110': 1577, '111': 452, '101': 881, '100': 75}\n"
     ]
    },
    {
     "data": {
      "image/png": "[encoded data removed]",
      "text/plain": [
       "<Figure size 504x360 with 1 Axes>"
      ]
     },
     "metadata": {
      "needs_background": "light"
     },
     "output_type": "display_data"
    },
    {
     "name": "stdout",
     "output_type": "stream",
     "text": [
      "[ 28 104 151  70] \n",
      " [152  71  28 105]\n"
     ]
    },
    {
     "data": {
      "image/png": "[encoded data removed]",
      "text/plain": [
       "<Figure size 432x288 with 1 Axes>"
      ]
     },
     "metadata": {
      "needs_background": "light"
     },
     "output_type": "display_data"
    },
    {
     "data": {
      "image/png": "[encoded data removed]",
      "text/plain": [
       "<Figure size 432x288 with 1 Axes>"
      ]
     },
     "metadata": {
      "needs_background": "light"
     },
     "output_type": "display_data"
    }
   ],
   "source": [
    "output_im = simulate(qc, input_im, 10000)\n",
    "plot_to_compare(output_im, input_im)"
   ]
  },
  {
   "cell_type": "markdown",
   "id": "ea4691ff-639f-43cb-814d-0c250e6173f6",
   "metadata": {},
   "source": [
    "# 4x4image (multicontrol rotation from https://arxiv.org/pdf/quant-ph/9503016.pdf\n",
    "# workable solution is from https://github.com/Qiskit/qiskit-terra/issues/5810)"
   ]
  },
  {
   "cell_type": "code",
   "execution_count": 23,
   "id": "85fa9f58-2acb-4de9-9e3d-af7ecf793b11",
   "metadata": {},
   "outputs": [
    {
     "data": {
      "image/png": "[encoded data removed]",
      "text/plain": [
       "<Figure size 432x288 with 1 Axes>"
      ]
     },
     "metadata": {
      "needs_background": "light"
     },
     "output_type": "display_data"
    }
   ],
   "source": [
    "image = np.array([0, 0, 0, 0,\n",
    "                  0, 100, 150, 0,\n",
    "                  0, 0, 200, 0,\n",
    "                  0, 0, 0, 0]).reshape(4,4)\n",
    "plt.imshow(image, cmap='gray')\n",
    "plt.title('Image')\n",
    "plt.show()\n",
    "input_im = image.flatten()\n",
    "input_im = np.interp(input_im, (0, 255), (0, np.pi/2))"
   ]
  },
  {
   "cell_type": "code",
   "execution_count": 24,
   "id": "023b88e1-4d0b-41e6-9d58-69048b5a216a",
   "metadata": {
    "tags": []
   },
   "outputs": [],
   "source": [
    "from qiskit.circuit.library.standard_gates.ry import RYGate\n",
    "qr = QuantumRegister(5)\n",
    "color = qr[4]\n",
    "coordinate = qr[:4]\n",
    "cr = ClassicalRegister(5, 'c')\n",
    "qc = QuantumCircuit(qr, cr)\n",
    "\n",
    "# qc.swap(0,3)\n",
    "# qc.swap(1,2)\n",
    "\n",
    "for i in range(4):\n",
    "    qc.h(i)\n",
    "for i, pixel in enumerate(input_im):\n",
    "    to_not = \"{0:b}\".format(i).zfill(4)\n",
    "    for j, bit in enumerate(to_not):\n",
    "        if int(bit):\n",
    "            qc.x(j)\n",
    "    qc.barrier()\n",
    "# either this rotation:\n",
    "#     qc.mcry(2*pixel, coordinate, color)\n",
    "# or this:\n",
    "#------------------------------------\n",
    "    c3ry = RYGate(2*pixel).control(4)\n",
    "    qc.append(c3ry, [0, 1, 2, 3, 4])\n",
    "#------------------------------------\n",
    "# PROBLEM: why pixel-angle is not pi/2 but has to be pi/2? The power of amount coordinate-qubits?\n",
    "# PROBLEM: why in both built-in funtionss we have to double anlge?\n",
    "\n",
    "# the following does not work, IDK why...\n",
    "#     pixel = pixel/8\n",
    "#     qc.cry(pixel,3,4)\n",
    "#     qc.cx(3,2)\n",
    "#     qc.cry(-pixel,2,4)\n",
    "#     qc.cx(3,2)\n",
    "#     qc.cry(pixel,2,4)\n",
    "#     qc.cx(2,1)\n",
    "#     qc.cry(-pixel,1,4)\n",
    "#     qc.cx(3,1)\n",
    "#     qc.cry(pixel,1,4)\n",
    "#     qc.cx(2,1)\n",
    "#     qc.cry(-pixel,1,4)\n",
    "#     qc.cx(3,1)\n",
    "#     qc.cry(pixel,1,4)\n",
    "#     qc.cx(1,0)\n",
    "#     qc.cry(-pixel,0,4)\n",
    "#     qc.cx(3,0)\n",
    "#     qc.cry(pixel,0,4)\n",
    "#     qc.cx(2,0)\n",
    "#     qc.cry(-pixel,0,4)\n",
    "#     qc.cx(3,0)\n",
    "#     qc.cry(pixel,0,4)\n",
    "#     qc.cx(1,0)\n",
    "#     qc.cry(-pixel,0,4)\n",
    "#     qc.cx(3,0)\n",
    "#     qc.cry(pixel,0,4)\n",
    "#     qc.cx(2,0)\n",
    "#     qc.cry(-pixel,0,4)\n",
    "#     qc.cx(3,0)\n",
    "#     qc.cry(pixel,0,4)\n",
    "#     qc.barrier()\n",
    "#     qc.cx(2,0)\n",
    "#     qc.cry(pixel,3,4)\n",
    "#     qc.cx(0,3)\n",
    "#     qc.cry(-pixel,3,4)\n",
    "#     qc.cx(1,3)\n",
    "#     qc.cry(pixel,3,4)\n",
    "#     qc.cx(2,3)\n",
    "#     qc.cry(-pixel,3,4)\n",
    "#     qc.cx(0,3)\n",
    "#     qc.cry(pixel,3,4)\n",
    "    \n",
    "    \n",
    "    if i!=len(input_im)-1:\n",
    "        for j, bit in enumerate(to_not):\n",
    "            if int(bit):\n",
    "                qc.x(j)\n",
    "        qc.barrier()\n",
    "                    \n",
    "qc.swap(0,3)\n",
    "qc.swap(1,2)\n",
    "        \n",
    "for i in range(5):\n",
    "    qc.measure(i, i)\n",
    "\n",
    "# qc.draw()"
   ]
  },
  {
   "cell_type": "code",
   "execution_count": 25,
   "id": "34ce9295-b5a7-4286-9c95-54fe3fd3bc74",
   "metadata": {},
   "outputs": [],
   "source": [
    "def plot_to_compare(output_im, input_im):\n",
    "    plt.imshow(output_im.reshape(4,4), cmap = 'gray')\n",
    "    plt.title('measured image')\n",
    "    plt.show()\n",
    "    plt.imshow(input_im.reshape(4,4), cmap = 'gray')\n",
    "    plt.title('real image')\n",
    "    plt.show()"
   ]
  },
  {
   "cell_type": "code",
   "execution_count": 27,
   "id": "2f726763-be2a-4ca2-b23a-cfb6ff78ea3c",
   "metadata": {
    "tags": []
   },
   "outputs": [
    {
     "name": "stdout",
     "output_type": "stream",
     "text": [
      "[  0   0   0   0   0 101 149   0   0   0 199   0   0   0   0   0] \n",
      " [  0   0   0   0   0 100 150   0   0   0 200   0   0   0   0   0]\n"
     ]
    },
    {
     "data": {
      "image/png": "[encoded data removed]",
      "text/plain": [
       "<Figure size 432x288 with 1 Axes>"
      ]
     },
     "metadata": {
      "needs_background": "light"
     },
     "output_type": "display_data"
    },
    {
     "data": {
      "image/png": "[encoded data removed]",
      "text/plain": [
       "<Figure size 432x288 with 1 Axes>"
      ]
     },
     "metadata": {
      "needs_background": "light"
     },
     "output_type": "display_data"
    }
   ],
   "source": [
    "output_im = simulate(qc, input_im, 100000, print_data=False)\n",
    "plot_to_compare(output_im, input_im)"
   ]
  },
  {
   "cell_type": "markdown",
   "id": "04682039-884b-445e-b3bf-112137a1af18",
   "metadata": {
    "tags": []
   },
   "source": [
    "# Flipping coordinate"
   ]
  },
  {
   "cell_type": "code",
   "execution_count": 28,
   "id": "36ffaf0d-fb57-4776-93bd-18e5ac9a0b9d",
   "metadata": {},
   "outputs": [],
   "source": [
    "from qiskit.circuit.library.standard_gates.ry import RYGate\n",
    "qr = QuantumRegister(5)\n",
    "color = qr[4]\n",
    "coordinate = qr[:4]\n",
    "cr = ClassicalRegister(5, 'c')\n",
    "qc = QuantumCircuit(qr, cr)\n",
    "\n",
    "# first swap to get normal normal in the end\n",
    "qc.swap(0,3)\n",
    "qc.swap(1,2)\n",
    "#second swap to flip image coordinates\n",
    "qc.swap(0,2)\n",
    "qc.swap(1,3)\n",
    "\n",
    "for i in range(4):\n",
    "    qc.h(i)\n",
    "for i, pixel in enumerate(input_im):\n",
    "    to_not = \"{0:b}\".format(i).zfill(4)\n",
    "    for j, bit in enumerate(to_not):\n",
    "        if int(bit):\n",
    "            qc.x(j)\n",
    "    qc.barrier()\n",
    "\n",
    "    c3ry = RYGate(2*pixel).control(4)\n",
    "    qc.append(c3ry, [0, 1, 2, 3, 4])    \n",
    "    \n",
    "    if i!=len(input_im)-1:\n",
    "        for j, bit in enumerate(to_not):\n",
    "            if int(bit):\n",
    "                qc.x(j)\n",
    "        qc.barrier()\n",
    "\n",
    "# revert SECOND swap\n",
    "qc.swap(1,3)\n",
    "qc.swap(0,2)\n",
    "# revert FIRST swap\n",
    "qc.swap(0,3)\n",
    "qc.swap(1,2)\n",
    "# if we change order if revert will anything change? In this example NO, but, who knows?..\n",
    "        \n",
    "for i in range(5):\n",
    "    qc.measure(i, i)\n"
   ]
  },
  {
   "cell_type": "code",
   "execution_count": 29,
   "id": "e6e86e8d-228c-42ad-88d1-90d4479182d7",
   "metadata": {
    "tags": []
   },
   "outputs": [
    {
     "name": "stdout",
     "output_type": "stream",
     "text": [
      "[  0   0   0   0   0 100   0   0   0 150 199   0   0   0   0   0] \n",
      " [  0   0   0   0   0 100 150   0   0   0 200   0   0   0   0   0]\n"
     ]
    },
    {
     "data": {
      "image/png": "[encoded data removed]",
      "text/plain": [
       "<Figure size 432x288 with 1 Axes>"
      ]
     },
     "metadata": {
      "needs_background": "light"
     },
     "output_type": "display_data"
    },
    {
     "data": {
      "image/png": "[encoded data removed]",
      "text/plain": [
       "<Figure size 432x288 with 1 Axes>"
      ]
     },
     "metadata": {
      "needs_background": "light"
     },
     "output_type": "display_data"
    }
   ],
   "source": [
    "output_im = simulate(qc, input_im, 100000, print_data=False)\n",
    "plot_to_compare(output_im, input_im)"
   ]
  },
  {
   "cell_type": "markdown",
   "id": "949f6d6a-d372-4fdd-a3e9-733db8307565",
   "metadata": {},
   "source": [
    "# Rotations"
   ]
  },
  {
   "cell_type": "code",
   "execution_count": 30,
   "id": "77d9af46-1746-4702-a0fd-74bf1bcb327e",
   "metadata": {},
   "outputs": [
    {
     "data": {
      "image/png": "[encoded data removed]",
      "text/plain": [
       "<Figure size 432x288 with 1 Axes>"
      ]
     },
     "metadata": {
      "needs_background": "light"
     },
     "output_type": "display_data"
    }
   ],
   "source": [
    "image = np.array([0, 0, 0, 0,\n",
    "                  250, 200, 150, 100,\n",
    "                  0, 0, 50, 0,\n",
    "                  0, 0, 0, 0]).reshape(4,4)\n",
    "plt.imshow(image, cmap='gray')\n",
    "plt.title('Image')\n",
    "plt.show()\n",
    "input_im = image.flatten()\n",
    "input_im = np.interp(input_im, (0, 255), (0, np.pi/2))"
   ]
  },
  {
   "cell_type": "code",
   "execution_count": 31,
   "id": "331f6646-d7fb-44d6-8f0f-1c8a760177c1",
   "metadata": {},
   "outputs": [],
   "source": [
    "from qiskit.circuit.library.standard_gates.ry import RYGate\n",
    "def rotate_circ(rot_ang=None):\n",
    "    qr = QuantumRegister(5)\n",
    "    color = qr[4]\n",
    "    coordinate = qr[:4]\n",
    "    cr = ClassicalRegister(5, 'c')\n",
    "    qc = QuantumCircuit(qr, cr)\n",
    "            \n",
    "    qc.swap(0,3)\n",
    "    qc.swap(1,2)\n",
    "\n",
    "    for i in range(4):\n",
    "        qc.h(i)\n",
    "        \n",
    "    for i, pixel in enumerate(input_im):\n",
    "        to_not = \"{0:b}\".format(i).zfill(4)\n",
    "        for j, bit in enumerate(to_not):\n",
    "            if int(bit):\n",
    "                qc.x(j)\n",
    "        qc.barrier()\n",
    "        \n",
    "        c3ry = RYGate(2*pixel).control(4)\n",
    "        qc.append(c3ry, [0, 1, 2, 3, 4])    \n",
    "\n",
    "        if i!=len(input_im)-1:\n",
    "            for j, bit in enumerate(to_not):\n",
    "                if int(bit):\n",
    "                    qc.x(j)\n",
    "            qc.barrier()\n",
    "\n",
    "    qc.swap(0,3)\n",
    "    qc.swap(1,2)\n",
    "    \n",
    "    if rot_ang == 90:\n",
    "        qc.x(2)\n",
    "        qc.x(3)\n",
    "        qc.swap(0,3)\n",
    "        qc.swap(1,2)\n",
    "        \n",
    "    if rot_ang == 180:\n",
    "        qc.x(0)\n",
    "        qc.x(1)\n",
    "        qc.x(2)\n",
    "        qc.x(3)\n",
    "              \n",
    "    if rot_ang == 270:\n",
    "        qc.swap(0,3)\n",
    "        qc.swap(1,2)\n",
    "        qc.x(2)\n",
    "        qc.x(3)\n",
    "        \n",
    "    for i in range(5):\n",
    "        qc.measure(i, i)\n",
    "        \n",
    "    return qc"
   ]
  },
  {
   "cell_type": "code",
   "execution_count": 32,
   "id": "a6ce9c2e-62e6-4921-bfaa-e7cc2a150188",
   "metadata": {},
   "outputs": [
    {
     "name": "stdout",
     "output_type": "stream",
     "text": [
      "ROTATION FOR 90 DEGREES\n",
      "[  0 249   0   0   0 149  47   0   0 197   0   0   0  99   0   0] \n",
      " [  0   0   0   0 250 200 150 100   0   0  50   0   0   0   0   0]\n"
     ]
    },
    {
     "data": {
      "image/png": "[encoded data removed]",
      "text/plain": [
       "<Figure size 432x288 with 1 Axes>"
      ]
     },
     "metadata": {
      "needs_background": "light"
     },
     "output_type": "display_data"
    },
    {
     "data": {
      "image/png": "[encoded data removed]",
      "text/plain": [
       "<Figure size 432x288 with 1 Axes>"
      ]
     },
     "metadata": {
      "needs_background": "light"
     },
     "output_type": "display_data"
    },
    {
     "name": "stdout",
     "output_type": "stream",
     "text": [
      "ROTATION FOR 180 DEGREES\n",
      "[  0   0   0   0   0  48   0   0 100 150 199 252   0   0   0   0] \n",
      " [  0   0   0   0 250 200 150 100   0   0  50   0   0   0   0   0]\n"
     ]
    },
    {
     "data": {
      "image/png": "[encoded data removed]",
      "text/plain": [
       "<Figure size 432x288 with 1 Axes>"
      ]
     },
     "metadata": {
      "needs_background": "light"
     },
     "output_type": "display_data"
    },
    {
     "data": {
      "image/png": "[encoded data removed]",
      "text/plain": [
       "<Figure size 432x288 with 1 Axes>"
      ]
     },
     "metadata": {
      "needs_background": "light"
     },
     "output_type": "display_data"
    },
    {
     "name": "stdout",
     "output_type": "stream",
     "text": [
      "ROTATION FOR 270 DEGREES\n",
      "[  0   0  98   0   0   0 201   0   0  49 151   0   0   0 249   0] \n",
      " [  0   0   0   0 250 200 150 100   0   0  50   0   0   0   0   0]\n"
     ]
    },
    {
     "data": {
      "image/png": "[encoded data removed]",
      "text/plain": [
       "<Figure size 432x288 with 1 Axes>"
      ]
     },
     "metadata": {
      "needs_background": "light"
     },
     "output_type": "display_data"
    },
    {
     "data": {
      "image/png": "[encoded data removed]",
      "text/plain": [
       "<Figure size 432x288 with 1 Axes>"
      ]
     },
     "metadata": {
      "needs_background": "light"
     },
     "output_type": "display_data"
    }
   ],
   "source": [
    "for theta in [90, 180, 270]:\n",
    "    print('ROTATION FOR {} DEGREES'.format(theta))\n",
    "    qc = rotate_circ(theta)\n",
    "    output_im = simulate(qc, input_im, 100000, 0)\n",
    "    plot_to_compare(output_im, input_im)"
   ]
  },
  {
   "cell_type": "markdown",
   "id": "ee13e961-35b8-4284-8a71-5a3878f3a14f",
   "metadata": {},
   "source": [
    "# Multi-Channel Representation for Quantum Images"
   ]
  },
  {
   "cell_type": "code",
   "execution_count": 33,
   "id": "47777621-6cc5-42ba-a2a1-84c32ddee7d5",
   "metadata": {},
   "outputs": [
    {
     "name": "stderr",
     "output_type": "stream",
     "text": [
      "Clipping input data to the valid range for imshow with RGB data ([0..1] for floats or [0..255] for integers).\n"
     ]
    },
    {
     "data": {
      "image/png": "[encoded data removed]",
      "text/plain": [
       "<Figure size 432x288 with 1 Axes>"
      ]
     },
     "metadata": {
      "needs_background": "light"
     },
     "output_type": "display_data"
    }
   ],
   "source": [
    "image = np.zeros((8,8,3))\n",
    "image[:,:,0] = np.array(\n",
    "           [255, 255, 255, 255, 255, 255, 255, 255,\n",
    "            255,   0, 255, 255, 255, 255,   0, 255,\n",
    "            255,   0, 255, 255, 255, 255,   0, 255,\n",
    "            255, 255, 255, 255, 255, 255, 255, 255,\n",
    "              0, 255, 255, 255, 255, 255, 255,   0,\n",
    "            255,   0, 255, 255, 255, 255,   0, 255,\n",
    "            255, 255, 0,   0,   0,   0, 255, 255,\n",
    "            255, 255, 255, 255, 255, 255, 255, 255]).reshape(8,8)\n",
    "\n",
    "image[:,:,1] = np.array(\n",
    "           [255, 255, 255, 255, 255, 255, 255, 255,\n",
    "            255, 255, 255, 255, 255, 255, 255, 255,\n",
    "            255, 255, 255, 255, 255, 255, 255, 255,\n",
    "            255, 255, 255, 255, 255, 255, 255, 255,\n",
    "              0, 255, 255,   0,   0, 255, 255,   0,\n",
    "            255,   0, 255, 255, 255, 255,   0, 255,\n",
    "            255, 255, 0,   0,   0,   0,255, 255,\n",
    "            255, 255, 255, 255, 255, 255, 255, 255]).reshape(8,8)\n",
    "\n",
    "image[:,:,2] = np.array(\n",
    "           [255, 255, 255, 255, 255, 255, 255, 255,\n",
    "            255,   0, 255, 255, 255, 255,   0, 255,\n",
    "            255,   0, 255, 255, 255, 255,   0, 255,\n",
    "            255, 255, 255, 255, 255, 255, 255, 255,\n",
    "            255, 255, 255,   0,   0, 255, 255, 255,\n",
    "            255, 255, 255, 255, 255, 255, 255, 255,\n",
    "            255, 255, 255, 255, 255, 255, 255, 255,\n",
    "            255, 255, 255, 255, 255, 255, 255, 255]).reshape(8,8)\n",
    "\n",
    "plt.imshow(image.reshape(8,8,3))\n",
    "plt.title('Classical clown')\n",
    "plt.show()\n",
    "            "
   ]
  },
  {
   "cell_type": "code",
   "execution_count": 34,
   "id": "148be87e-3c31-46f4-a899-dab5873f07b1",
   "metadata": {},
   "outputs": [],
   "source": [
    "import math\n",
    "def params(image):\n",
    "    xqbits = math.log(image.shape[0],2)\n",
    "    yqbits = math.log(image.shape[1],2)\n",
    "    return int(xqbits), int(yqbits)\n",
    "    \n",
    "def rgb_circ(image):\n",
    "    xqbit, yqbit = params(image)\n",
    "    qr = QuantumRegister(xqbit + yqbit + 3) #3 stands for RGB qubits\n",
    "    color = qr[xqbit + yqbit:]\n",
    "    coordinate = qr[:xqbit + yqbit]\n",
    "    cr = ClassicalRegister(xqbit + yqbit + 3, 'c')\n",
    "    qc = QuantumCircuit(qr, cr)\n",
    "    \n",
    "    for k in range(int(np.floor((xqbit + yqbit)/2))):\n",
    "        qc.swap(k,xqbit + yqbit - 1 - k)\n",
    "        \n",
    "    for i in range(xqbit + yqbit):\n",
    "        qc.h(i)\n",
    "    \n",
    "    for layer_num, input_im in enumerate(image.T):\n",
    "        input_im = input_im.flatten()\n",
    "        input_im = np.interp(input_im, (0, 255), (0, np.pi/2))\n",
    "        \n",
    "        for i, pixel in enumerate(input_im):\n",
    "            arr = list(range(xqbit + yqbit))\n",
    "            arr.append(int(xqbit + yqbit + layer_num))\n",
    "            cMry = RYGate(2*pixel).control(xqbit + yqbit)\n",
    "            \n",
    "            to_not = \"{0:b}\".format(i).zfill(xqbit + yqbit)\n",
    "            for j, bit in enumerate(to_not):\n",
    "                if int(bit):\n",
    "                    qc.x(j)\n",
    "            qc.barrier()\n",
    "            qc.append(cMry, arr)  \n",
    "\n",
    "            if i!=len(input_im)-1 or layer_num!=2:\n",
    "                for j, bit in enumerate(to_not):\n",
    "                    if int(bit):\n",
    "                        qc.x(j)\n",
    "                qc.barrier()\n",
    "    \n",
    "    for k in range(int(np.floor((xqbit + yqbit)/2))):\n",
    "        qc.swap(k, xqbit + yqbit - 1 - k)\n",
    "    \n",
    "    qc.swap(-1, -3)\n",
    "\n",
    "    qc.barrier()\n",
    "    for i in range(xqbit + yqbit + 3):\n",
    "        qc.measure(i, i)\n",
    "    \n",
    "    return qc"
   ]
  },
  {
   "cell_type": "code",
   "execution_count": 35,
   "id": "fb6273ac-9ad2-4c27-848b-c537845a193e",
   "metadata": {},
   "outputs": [],
   "source": [
    "def run_qc(qc, shots = 1000):    \n",
    "    aer_sim = Aer.get_backend('aer_simulator')\n",
    "    t_qc = transpile(qc, aer_sim)\n",
    "    qobj = assemble(t_qc, shots=shots)\n",
    "    result = aer_sim.run(qobj).result()\n",
    "    counts = result.get_counts(qc)\n",
    "    return counts"
   ]
  },
  {
   "cell_type": "code",
   "execution_count": 36,
   "id": "e0336e80-993e-4d99-a78f-1f26cd80b471",
   "metadata": {},
   "outputs": [],
   "source": [
    "qc = rgb_circ(image)\n",
    "counts = run_qc(qc)"
   ]
  },
  {
   "cell_type": "code",
   "execution_count": 37,
   "id": "b133c021-5158-4f44-adef-61cf6964c384",
   "metadata": {},
   "outputs": [],
   "source": [
    "def reconstruct_rgb(image, counts, to_print = True):\n",
    "    output_ims = []\n",
    "    for layer_num, input_im in enumerate(image.T):\n",
    "        input_im = input_im.flatten()\n",
    "        nums = []\n",
    "        for iter in range(len(input_im)):\n",
    "            flag = 0\n",
    "            num = []\n",
    "            for item in counts.items():\n",
    "                if int(item[0][3:], 2)==iter:\n",
    "                    num.append((int(item[0][layer_num], 2), item[1]))\n",
    "            nums.append(num)\n",
    "        for l, num in enumerate(nums):\n",
    "            my_set = {x[0] for x in num}\n",
    "            nums[l] = [(i,sum(x[1] for x in num if x[0] == i)) for i in my_set]\n",
    "        colors = []\n",
    "    #     print(nums)\n",
    "        for num in nums:\n",
    "            if len(num)==2:\n",
    "                if num[0][0] == 0:\n",
    "                    color = np.arccos((num[0][1]/(num[0][1]+num[1][1]))**(1/2))\n",
    "                    colors.append(color)\n",
    "                else:\n",
    "                    color = np.arccos((num[1][1]/(num[0][1]+num[1][1]))**(1/2))\n",
    "                    colors.append(color)\n",
    "            else:\n",
    "                if num[0][0] == 0:\n",
    "                    colors.append(0)\n",
    "                else:\n",
    "                    colors.append(np.pi/2)\n",
    "        output_im = np.interp(colors, (0, np.pi/2), (0, 255)).astype(int)\n",
    "        if to_print:\n",
    "            print(output_im, '\\n', (image.T)[layer_num].copy().flatten())\n",
    "        output_ims.append(output_im.reshape(image[:,:,0].shape))\n",
    "    \n",
    "    return np.array(output_ims).T"
   ]
  },
  {
   "cell_type": "code",
   "execution_count": 38,
   "id": "ae8e675b-b1e3-452e-9fdb-c17236709dd4",
   "metadata": {},
   "outputs": [
    {
     "data": {
      "image/png": "[encoded data removed]",
      "text/plain": [
       "<Figure size 432x288 with 1 Axes>"
      ]
     },
     "metadata": {
      "needs_background": "light"
     },
     "output_type": "display_data"
    },
    {
     "name": "stderr",
     "output_type": "stream",
     "text": [
      "Clipping input data to the valid range for imshow with RGB data ([0..1] for floats or [0..255] for integers).\n"
     ]
    },
    {
     "data": {
      "image/png": "[encoded data removed]",
      "text/plain": [
       "<Figure size 432x288 with 1 Axes>"
      ]
     },
     "metadata": {
      "needs_background": "light"
     },
     "output_type": "display_data"
    }
   ],
   "source": [
    "output_ims = reconstruct_rgb(image, counts, to_print = False)\n",
    "plt.imshow(output_ims)\n",
    "plt.title('Quantum clown')\n",
    "plt.show()\n",
    "plt.title('Classical clown')\n",
    "plt.imshow(image)\n",
    "plt.show()"
   ]
  },
  {
   "cell_type": "markdown",
   "id": "5d7bea25-c033-4aac-910b-49a78efdb196",
   "metadata": {},
   "source": [
    "# with mixed colors"
   ]
  },
  {
   "cell_type": "code",
   "execution_count": 40,
   "id": "1ea44c9f-5a81-440b-af09-78b31e385680",
   "metadata": {},
   "outputs": [
    {
     "name": "stderr",
     "output_type": "stream",
     "text": [
      "Clipping input data to the valid range for imshow with RGB data ([0..1] for floats or [0..255] for integers).\n"
     ]
    },
    {
     "data": {
      "image/png": "[encoded data removed]",
      "text/plain": [
       "<Figure size 432x288 with 1 Axes>"
      ]
     },
     "metadata": {
      "needs_background": "light"
     },
     "output_type": "display_data"
    }
   ],
   "source": [
    "image = np.zeros((2,2,3))\n",
    "image[:,:,0] = np.array(\n",
    "           [255, 10,\n",
    "            250,   0]).reshape(2,2)\n",
    "\n",
    "image[:,:,1] = np.array(\n",
    "           [0, 100,\n",
    "            150, 255]).reshape(2,2)\n",
    "\n",
    "image[:,:,2] = np.array(\n",
    "           [255, 200,\n",
    "            10,   0]).reshape(2,2)\n",
    "\n",
    "plt.imshow(image.reshape(2,2,3))\n",
    "plt.title('Classical image')\n",
    "plt.show()"
   ]
  },
  {
   "cell_type": "code",
   "execution_count": 41,
   "id": "50f0d6ab-e9d3-46a9-a6a1-82a1592b128a",
   "metadata": {},
   "outputs": [
    {
     "data": {
      "image/png": "[encoded data removed]",
      "text/plain": [
       "<Figure size 504x360 with 1 Axes>"
      ]
     },
     "metadata": {
      "needs_background": "light"
     },
     "output_type": "display_data"
    },
    {
     "name": "stdout",
     "output_type": "stream",
     "text": [
      "[255 249   8   0] \n",
      " [255. 250.  10.   0.]\n",
      "[  0 149  99 255] \n",
      " [  0. 150. 100. 255.]\n",
      "[255  10 199   0] \n",
      " [255.  10. 200.   0.]\n"
     ]
    },
    {
     "data": {
      "image/png": "[encoded data removed]",
      "text/plain": [
       "<Figure size 432x288 with 1 Axes>"
      ]
     },
     "metadata": {
      "needs_background": "light"
     },
     "output_type": "display_data"
    },
    {
     "name": "stderr",
     "output_type": "stream",
     "text": [
      "Clipping input data to the valid range for imshow with RGB data ([0..1] for floats or [0..255] for integers).\n"
     ]
    },
    {
     "data": {
      "image/png": "[encoded data removed]",
      "text/plain": [
       "<Figure size 432x288 with 1 Axes>"
      ]
     },
     "metadata": {
      "needs_background": "light"
     },
     "output_type": "display_data"
    }
   ],
   "source": [
    "qc = rgb_circ(image)\n",
    "counts = run_qc(qc, shots = 100000)\n",
    "plot_histogram(counts)\n",
    "plt.show()\n",
    "output_ims = reconstruct_rgb(image, counts, to_print = True)\n",
    "plt.imshow(output_ims)\n",
    "plt.title('Quantum clown')\n",
    "plt.show()\n",
    "plt.title('Classical clown')\n",
    "plt.imshow(image)\n",
    "plt.show()"
   ]
  },
  {
   "cell_type": "markdown",
   "id": "b5accd7c-1f63-4135-b7a4-fc0ef515f114",
   "metadata": {},
   "source": [
    "# Blending 2 images (49/177)"
   ]
  },
  {
   "cell_type": "markdown",
   "id": "5474c7fc-5f09-4703-b7d1-43c284c7cee2",
   "metadata": {},
   "source": [
    "# Image comparison (52/177)"
   ]
  }
 ],
 "metadata": {
  "kernelspec": {
   "display_name": "Python 3 (ipykernel)",
   "language": "python",
   "name": "python3"
  },
  "language_info": {
   "codemirror_mode": {
    "name": "ipython",
    "version": 3
   },
   "file_extension": ".py",
   "mimetype": "text/x-python",
   "name": "python",
   "nbconvert_exporter": "python",
   "pygments_lexer": "ipython3",
   "version": "3.8.12"
  }
 },
 "nbformat": 4,
 "nbformat_minor": 5
}
