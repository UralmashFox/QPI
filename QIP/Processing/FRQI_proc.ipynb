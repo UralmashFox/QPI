{
 "cells": [
  {
   "cell_type": "markdown",
   "metadata": {},
   "source": [
    "# Horizontal flip, vertical flip, coordinate flip, rotation."
   ]
  },
  {
   "cell_type": "code",
   "execution_count": 1,
   "metadata": {
    "collapsed": true
   },
   "outputs": [],
   "source": [
    "from qiskit import QuantumRegister, ClassicalRegister\n",
    "from qiskit import QuantumCircuit, Aer\n",
    "from qiskit import transpile, assemble\n",
    "from qiskit.visualization import plot_histogram\n",
    "import matplotlib.pyplot as plt\n",
    "import numpy as np\n",
    "import math"
   ]
  },
  {
   "cell_type": "markdown",
   "metadata": {},
   "source": [
    "### Image generating"
   ]
  },
  {
   "cell_type": "code",
   "execution_count": 24,
   "metadata": {},
   "outputs": [],
   "source": [
    "image = np.random.uniform(low=0, high=255, size=(2,2)).astype(int)\n",
    "input_im = image.copy().flatten()\n",
    "input_im = np.interp(input_im, (0, 255), (0, np.pi/2))\n",
    "coord_q_num = int(np.ceil(math.log(len(input_im), 2)))"
   ]
  },
  {
   "cell_type": "code",
   "execution_count": 25,
   "metadata": {},
   "outputs": [],
   "source": [
    "def simulate(qc, input_im, shots=10000, print_data=True):    \n",
    "    aer_sim = Aer.get_backend('aer_simulator')\n",
    "    t_qc = transpile(qc, aer_sim)\n",
    "    qobj = assemble(t_qc, shots=shots)\n",
    "    result = aer_sim.run(qobj).result()\n",
    "    counts = result.get_counts(qc)\n",
    "    if print_data:\n",
    "        print(counts)\n",
    "        plot_histogram(counts)\n",
    "        plt.show()\n",
    "    nums = []\n",
    "    for iter in range(len(input_im)):\n",
    "        num = []\n",
    "        for item in counts.items():\n",
    "            if int(item[0][1:], 2)==iter:\n",
    "                num.append((int(item[0][0], 2), item[1]))\n",
    "        nums.append(num)\n",
    "    colors = []\n",
    "    for num in nums:\n",
    "        if len(num)==2:\n",
    "            if num[0][0] == 0:\n",
    "                color = np.arccos((num[0][1]/(num[0][1]+num[1][1]))**(1/2))\n",
    "                colors.append(color)\n",
    "            else:\n",
    "                color = np.arccos((num[1][1]/(num[0][1]+num[1][1]))**(1/2))\n",
    "                colors.append(color)\n",
    "        else:\n",
    "            if num[0][0] == 0:\n",
    "                colors.append(0)\n",
    "            else:\n",
    "                colors.append(np.pi/2)\n",
    "    output_im = np.interp(colors, (0, np.pi/2), (0, 255)).astype(int)\n",
    "    print(output_im, '\\n', image.copy().flatten())\n",
    "    return output_im\n",
    "\n",
    "def plot_to_compare(output_im, input_im):\n",
    "    plt.imshow(output_im.reshape(2,2), cmap = 'gray')\n",
    "    plt.title('measured image')\n",
    "    plt.show()\n",
    "    plt.imshow(input_im.reshape(2,2), cmap = 'gray')\n",
    "    plt.title('real image')\n",
    "    plt.show()"
   ]
  },
  {
   "cell_type": "markdown",
   "metadata": {},
   "source": [
    "### Vertical flipping"
   ]
  },
  {
   "cell_type": "code",
   "execution_count": 26,
   "metadata": {},
   "outputs": [],
   "source": [
    "color = QuantumRegister(1, 'color')\n",
    "coordinate = QuantumRegister(2, 'coordinate')\n",
    "cr = ClassicalRegister(3, 'c')\n",
    "qc = QuantumCircuit(coordinate,color, cr)\n",
    "qc.h(0)\n",
    "qc.h(1)\n",
    "qc.swap(0,1)\n",
    "for i, pixel in enumerate(input_im):\n",
    "    to_not = \"{0:b}\".format(i).zfill(2)\n",
    "    for j, bit in enumerate(to_not):\n",
    "        if int(bit):\n",
    "            qc.x(j)\n",
    "    if to_not[0]:\n",
    "        qc.x(0)\n",
    "    qc.cry(pixel,0,2)\n",
    "    qc.cx(0,1)\n",
    "    qc.cry(-pixel,1,2)\n",
    "    qc.cx(0,1)\n",
    "    qc.cry(pixel,1,2)\n",
    "    for j, bit in enumerate(to_not):\n",
    "        if int(bit):\n",
    "            qc.x(j)\n",
    "    if to_not[0]:\n",
    "        qc.x(0)\n",
    "        qc.barrier()\n",
    "qc.swap(0,1)\n",
    "for i in range(len(input_im)-1):\n",
    "    qc.measure(i, i)"
   ]
  },
  {
   "cell_type": "markdown",
   "metadata": {},
   "source": [
    "The operation flips pixels along Y-axis. Certain values of the each pixel of classical and quantum flipped representation are in the vector"
   ]
  },
  {
   "cell_type": "code",
   "execution_count": 27,
   "metadata": {
    "collapsed": false
   },
   "outputs": [
    {
     "name": "stdout",
     "output_type": "stream",
     "text": [
      "[255 131 168  74] \n [131 254  77 168]\n"
     ]
    },
    {
     "data": {
      "image/png": "[encoded data removed]",
      "text/plain": [
       "<Figure size 432x288 with 1 Axes>"
      ]
     },
     "metadata": {},
     "output_type": "display_data"
    },
    {
     "data": {
      "image/png": "[encoded data removed]",
      "text/plain": [
       "<Figure size 432x288 with 1 Axes>"
      ]
     },
     "metadata": {},
     "output_type": "display_data"
    }
   ],
   "source": [
    "output_im = simulate(qc, input_im, print_data=False)\n",
    "plot_to_compare(output_im, input_im)"
   ]
  },
  {
   "cell_type": "markdown",
   "metadata": {},
   "source": [
    "### Horizontal flip"
   ]
  },
  {
   "cell_type": "code",
   "execution_count": 28,
   "metadata": {},
   "outputs": [],
   "source": [
    "color = QuantumRegister(1, 'color')\n",
    "coordinate = QuantumRegister(2, 'coordinate')\n",
    "cr = ClassicalRegister(3, 'c')\n",
    "qc = QuantumCircuit(coordinate,color, cr)\n",
    "qc.h(0)\n",
    "qc.h(1)\n",
    "qc.swap(0,1)\n",
    "for i, pixel in enumerate(input_im):\n",
    "    to_not = \"{0:b}\".format(i).zfill(2)\n",
    "    for j, bit in enumerate(to_not):\n",
    "        if int(bit):\n",
    "            qc.x(j)\n",
    "    if to_not[1]:\n",
    "        qc.x(1)\n",
    "    qc.cry(pixel,0,2)\n",
    "    qc.cx(0,1)\n",
    "    qc.cry(-pixel,1,2)\n",
    "    qc.cx(0,1)\n",
    "    qc.cry(pixel,1,2)\n",
    "    for j, bit in enumerate(to_not):\n",
    "        if int(bit):\n",
    "            qc.x(j)\n",
    "    if to_not[1]:\n",
    "        qc.x(1)\n",
    "        qc.barrier()\n",
    "qc.swap(0,1)\n",
    "for i in range(len(input_im)-1):\n",
    "    qc.measure(i, i)"
   ]
  },
  {
   "cell_type": "markdown",
   "metadata": {},
   "source": [
    "The operation flips pixels along X-axis. Certain values of the each pixel of classical and quantum flipped representation are in the vector"
   ]
  },
  {
   "cell_type": "code",
   "execution_count": 29,
   "metadata": {},
   "outputs": [
    {
     "name": "stdout",
     "output_type": "stream",
     "text": [
      "[ 77 167 129 255] \n [131 254  77 168]\n"
     ]
    },
    {
     "data": {
      "image/png": "[encoded data removed]",
      "text/plain": [
       "<Figure size 432x288 with 1 Axes>"
      ]
     },
     "metadata": {},
     "output_type": "display_data"
    },
    {
     "data": {
      "image/png": "[encoded data removed]",
      "text/plain": [
       "<Figure size 432x288 with 1 Axes>"
      ]
     },
     "metadata": {},
     "output_type": "display_data"
    }
   ],
   "source": [
    "output_im = simulate(qc, input_im, 10000, print_data=False)\n",
    "plot_to_compare(output_im, input_im)"
   ]
  },
  {
   "cell_type": "markdown",
   "metadata": {},
   "source": [
    "### Let me take bigger image for the next processing operation\n",
    "multicontrol rotation from https://arxiv.org/pdf/quant-ph/9503016.pdf\n",
    "\n",
    "workable solution is from https://github.com/Qiskit/qiskit-terra/issues/5810"
   ]
  },
  {
   "cell_type": "code",
   "execution_count": 30,
   "metadata": {},
   "outputs": [],
   "source": [
    "image = np.array([0, 0, 0, 0,\n",
    "                  250, 200, 150, 100,\n",
    "                  0, 0, 50, 0,\n",
    "                  0, 0, 0, 0]).reshape(4,4)\n",
    "input_im = image.flatten()\n",
    "input_im = np.interp(input_im, (0, 255), (0, np.pi/2))"
   ]
  },
  {
   "cell_type": "code",
   "execution_count": 31,
   "metadata": {},
   "outputs": [],
   "source": [
    "def plot_to_compare(output_im, input_im):\n",
    "    plt.imshow(output_im.reshape(4,4), cmap = 'gray')\n",
    "    plt.title('measured image')\n",
    "    plt.show()\n",
    "    plt.imshow(input_im.reshape(4,4), cmap = 'gray')\n",
    "    plt.title('real image')\n",
    "    plt.show()"
   ]
  },
  {
   "cell_type": "markdown",
   "metadata": {},
   "source": [
    "Rotation circuit"
   ]
  },
  {
   "cell_type": "code",
   "execution_count": 32,
   "metadata": {},
   "outputs": [],
   "source": [
    "from qiskit.circuit.library.standard_gates.ry import RYGate\n",
    "def rotate_circ(rot_ang=None):\n",
    "    qr = QuantumRegister(5)\n",
    "    cr = ClassicalRegister(5, 'c')\n",
    "    qc = QuantumCircuit(qr, cr)\n",
    "            \n",
    "    qc.swap(0,3)\n",
    "    qc.swap(1,2)\n",
    "\n",
    "    for i in range(4):\n",
    "        qc.h(i)\n",
    "        \n",
    "    for i, pixel in enumerate(input_im):\n",
    "        to_not = \"{0:b}\".format(i).zfill(4)\n",
    "        for j, bit in enumerate(to_not):\n",
    "            if int(bit):\n",
    "                qc.x(j)\n",
    "        qc.barrier()\n",
    "        \n",
    "        c3ry = RYGate(2*pixel).control(4)\n",
    "        qc.append(c3ry, [0, 1, 2, 3, 4])    \n",
    "\n",
    "        if i!=len(input_im)-1:\n",
    "            for j, bit in enumerate(to_not):\n",
    "                if int(bit):\n",
    "                    qc.x(j)\n",
    "            qc.barrier()\n",
    "\n",
    "    qc.swap(0,3)\n",
    "    qc.swap(1,2)\n",
    "    \n",
    "    if rot_ang == 90:\n",
    "        qc.x(2)\n",
    "        qc.x(3)\n",
    "        qc.swap(0,3)\n",
    "        qc.swap(1,2)\n",
    "        \n",
    "    if rot_ang == 180:\n",
    "        qc.x(0)\n",
    "        qc.x(1)\n",
    "        qc.x(2)\n",
    "        qc.x(3)\n",
    "              \n",
    "    if rot_ang == 270:\n",
    "        qc.swap(0,3)\n",
    "        qc.swap(1,2)\n",
    "        qc.x(2)\n",
    "        qc.x(3)\n",
    "        \n",
    "    for i in range(5):\n",
    "        qc.measure(i, i)\n",
    "        \n",
    "    return qc"
   ]
  },
  {
   "cell_type": "markdown",
   "metadata": {},
   "source": [
    "We can realize rotation of 3 different angles. Let us try each of them:"
   ]
  },
  {
   "cell_type": "code",
   "execution_count": 34,
   "metadata": {},
   "outputs": [
    {
     "name": "stdout",
     "output_type": "stream",
     "text": [
      "ROTATION FOR 90 DEGREES\n"
     ]
    },
    {
     "name": "stdout",
     "output_type": "stream",
     "text": [
      "[  0 249   0   0   0 151  52   0   0 201   0   0   0 100   0   0] \n [  0   0   0   0 250 200 150 100   0   0  50   0   0   0   0   0]\n"
     ]
    },
    {
     "data": {
      "image/png": "[encoded data removed]",
      "text/plain": [
       "<Figure size 432x288 with 1 Axes>"
      ]
     },
     "metadata": {},
     "output_type": "display_data"
    },
    {
     "data": {
      "image/png": "[encoded data removed]",
      "text/plain": [
       "<Figure size 432x288 with 1 Axes>"
      ]
     },
     "metadata": {},
     "output_type": "display_data"
    },
    {
     "name": "stdout",
     "output_type": "stream",
     "text": [
      "ROTATION FOR 180 DEGREES\n"
     ]
    },
    {
     "name": "stdout",
     "output_type": "stream",
     "text": [
      "[  0   0   0   0   0  50   0   0  98 150 199 251   0   0   0   0] \n [  0   0   0   0 250 200 150 100   0   0  50   0   0   0   0   0]\n"
     ]
    },
    {
     "data": {
      "image/png": "[encoded data removed]",
      "text/plain": [
       "<Figure size 432x288 with 1 Axes>"
      ]
     },
     "metadata": {},
     "output_type": "display_data"
    },
    {
     "data": {
      "image/png": "[encoded data removed]",
      "text/plain": [
       "<Figure size 432x288 with 1 Axes>"
      ]
     },
     "metadata": {},
     "output_type": "display_data"
    },
    {
     "name": "stdout",
     "output_type": "stream",
     "text": [
      "ROTATION FOR 270 DEGREES\n"
     ]
    },
    {
     "name": "stdout",
     "output_type": "stream",
     "text": [
      "[  0   0  99   0   0   0 200   0   0  49 151   0   0   0 251   0] \n [  0   0   0   0 250 200 150 100   0   0  50   0   0   0   0   0]\n"
     ]
    },
    {
     "data": {
      "image/png": "[encoded data removed]",
      "text/plain": [
       "<Figure size 432x288 with 1 Axes>"
      ]
     },
     "metadata": {},
     "output_type": "display_data"
    },
    {
     "data": {
      "image/png": "[encoded data removed]",
      "text/plain": [
       "<Figure size 432x288 with 1 Axes>"
      ]
     },
     "metadata": {},
     "output_type": "display_data"
    }
   ],
   "source": [
    "for theta in [90, 180, 270]:\n",
    "    print('ROTATION FOR {} DEGREES'.format(theta))\n",
    "    qc = rotate_circ(theta)\n",
    "    output_im = simulate(qc, input_im, 100000, 0)\n",
    "    plot_to_compare(output_im, input_im)"
   ]
  }
 ],
 "metadata": {
  "kernelspec": {
   "display_name": "Python 2",
   "language": "python",
   "name": "python2"
  },
  "language_info": {
   "codemirror_mode": {
    "name": "ipython",
    "version": 2
   },
   "file_extension": ".py",
   "mimetype": "text/x-python",
   "name": "python",
   "nbconvert_exporter": "python",
   "pygments_lexer": "ipython2",
   "version": "2.7.6"
  }
 },
 "nbformat": 4,
 "nbformat_minor": 0
}
