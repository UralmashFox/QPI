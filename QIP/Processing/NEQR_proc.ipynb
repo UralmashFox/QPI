{
 "cells": [
  {
   "cell_type": "markdown",
   "metadata": {
    "collapsed": true
   },
   "source": [
    "Complement Color Transformation. Converts each intensity value into 255-intencity value."
   ]
  },
  {
   "cell_type": "code",
   "execution_count": 1,
   "metadata": {},
   "outputs": [],
   "source": [
    "from qiskit import QuantumRegister, ClassicalRegister\n",
    "from qiskit import QuantumCircuit, Aer\n",
    "from qiskit import transpile, assemble\n",
    "from qiskit.visualization import plot_histogram\n",
    "import matplotlib.pyplot as plt\n",
    "import numpy as np"
   ]
  },
  {
   "cell_type": "code",
   "execution_count": 2,
   "metadata": {},
   "outputs": [],
   "source": [
    "image = np.random.uniform(low=0, high=255, size=(2,2)).astype(int)"
   ]
  },
  {
   "cell_type": "code",
   "execution_count": 4,
   "metadata": {},
   "outputs": [
    {
     "data": {
      "text/plain": [
       "<qiskit.circuit.instructionset.InstructionSet at 0x146e6702070>"
      ]
     },
     "execution_count": 4,
     "metadata": {},
     "output_type": "execute_result"
    }
   ],
   "source": [
    "idx = QuantumRegister(2, 'idx')\n",
    "intensity = QuantumRegister(8,'intensity')\n",
    "cr = ClassicalRegister(10, 'cr')\n",
    "qc_image = QuantumCircuit(intensity, idx, cr)\n",
    "num_qubits = qc_image.num_qubits\n",
    "input_im = image.copy().flatten()\n",
    "for idx in range(intensity.size):\n",
    "    qc_image.x(idx)\n",
    "qc_image.h(8)\n",
    "qc_image.h(9)\n",
    "for i, pixel in enumerate(input_im):\n",
    "    pixel_bin = \"{0:b}\".format(pixel).zfill(8)\n",
    "    position = \"{0:b}\".format(i).zfill(2)\n",
    "    for j, coord in enumerate(position):\n",
    "        if int(coord):\n",
    "            qc_image.x(qc_image.num_qubits-j-1)\n",
    "    for idx, px_value in enumerate(pixel_bin[::-1]):\n",
    "        if(px_value=='1'):\n",
    "            qc_image.ccx(num_qubits-1, num_qubits-2, idx)\n",
    "    if i!=len(input_im) - 1:\n",
    "        for j, coord in enumerate(position):\n",
    "            if int(coord):\n",
    "                qc_image.x(qc_image.num_qubits-j-1)\n",
    "    qc_image.barrier()\n",
    "qc_image.measure(range(10),range(10))"
   ]
  },
  {
   "cell_type": "code",
   "execution_count": 5,
   "metadata": {},
   "outputs": [
    {
     "data": {
      "image/png": "[encoded data removed]",
      "text/plain": [
       "<Figure size 432x288 with 1 Axes>"
      ]
     },
     "metadata": {},
     "output_type": "display_data"
    },
    {
     "data": {
      "image/png": "[encoded data removed]",
      "text/plain": [
       "<Figure size 432x288 with 1 Axes>"
      ]
     },
     "metadata": {},
     "output_type": "display_data"
    }
   ],
   "source": [
    "aer_sim = Aer.get_backend('aer_simulator')\n",
    "t_qc_image = transpile(qc_image, aer_sim)\n",
    "qobj = assemble(t_qc_image, shots=8192)\n",
    "job_neqr = aer_sim.run(qobj)\n",
    "result_neqr = job_neqr.result()\n",
    "counts_neqr = result_neqr.get_counts()\n",
    "out_pixels = []\n",
    "for item in counts_neqr:\n",
    "    out_pixels.append((int(item[0:2], 2), int(item[2:],2)))\n",
    "out_image = np.zeros((1, len(input_im)))\n",
    "for pixel in out_pixels:\n",
    "    out_image[0][pixel[0]] = pixel[1]\n",
    "out_image = np.reshape(out_image, (image.shape))\n",
    "plt.imshow(out_image, cmap = 'gray')\n",
    "plt.title('Reconstructed image')\n",
    "plt.show()\n",
    "plt.imshow(image, cmap = 'gray')\n",
    "plt.title('Original image')\n",
    "plt.show()"
   ]
  }
 ],
 "metadata": {
  "kernelspec": {
   "display_name": "Python 2",
   "language": "python",
   "name": "python2"
  },
  "language_info": {
   "codemirror_mode": {
    "name": "ipython",
    "version": 2
   },
   "file_extension": ".py",
   "mimetype": "text/x-python",
   "name": "python",
   "nbconvert_exporter": "python",
   "pygments_lexer": "ipython2",
   "version": "2.7.6"
  }
 },
 "nbformat": 4,
 "nbformat_minor": 0
}
