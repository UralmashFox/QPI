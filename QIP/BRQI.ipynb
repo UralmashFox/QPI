{
 "cells": [
  {
   "cell_type": "markdown",
   "id": "a788ac85-f188-43a8-838d-3e7fe29e6d14",
   "metadata": {},
   "source": [
    "# Only for square images in my case"
   ]
  },
  {
   "cell_type": "code",
   "execution_count": 1,
   "id": "7491fce1-5620-4559-9d2e-55d777c9e975",
   "metadata": {},
   "outputs": [],
   "source": [
    "import qiskit\n",
    "from qiskit import QuantumRegister, ClassicalRegister\n",
    "import qiskit as qk\n",
    "from qiskit import QuantumCircuit, Aer, IBMQ, execute\n",
    "from qiskit import transpile, assemble\n",
    "from qiskit.tools.jupyter import *\n",
    "from qiskit.visualization import plot_histogram\n",
    "import matplotlib.pyplot as plt\n",
    "import numpy as np\n",
    "from qiskit.extensions import XGate\n",
    "import math"
   ]
  },
  {
   "cell_type": "code",
   "execution_count": 39,
   "id": "baccfcae-7091-488f-8116-09a5b73c6336",
   "metadata": {},
   "outputs": [
    {
     "data": {
      "image/png": "[encoded data removed]",
      "text/plain": [
       "<Figure size 432x288 with 1 Axes>"
      ]
     },
     "metadata": {
      "needs_background": "light"
     },
     "output_type": "display_data"
    },
    {
     "name": "stdout",
     "output_type": "stream",
     "text": [
      "[[ 92 113 176   4  49]\n",
      " [122 139  56 205   1]\n",
      " [171 196 194 207  51]\n",
      " [ 61 199 120  25  40]\n",
      " [ 23  93 239 240 234]]\n"
     ]
    }
   ],
   "source": [
    "image = np.random.uniform(low=0, high=255, size=(5,5)).astype(int)\n",
    "\n",
    "plt.imshow(image, cmap = 'gray')\n",
    "plt.show()\n",
    "print(image)"
   ]
  },
  {
   "cell_type": "code",
   "execution_count": 40,
   "id": "98477d1f-1f3f-4191-ab66-7610107fda12",
   "metadata": {},
   "outputs": [
    {
     "name": "stdout",
     "output_type": "stream",
     "text": [
      "3 3\n"
     ]
    }
   ],
   "source": [
    "w_bits = int(np.ceil(math.log(image.shape[1],2)))\n",
    "h_bits = int(np.ceil(math.log(image.shape[0],2)))\n",
    "if not w_bits: w_bits = 1\n",
    "if not h_bits: h_bits = 1\n",
    "color_n_b = 8\n",
    "color_n_b = int(np.ceil(math.log(color_n_b,2)))\n",
    "print(w_bits, h_bits)"
   ]
  },
  {
   "cell_type": "code",
   "execution_count": 41,
   "id": "fc28546a-368b-4234-852d-6fc4e5acd51a",
   "metadata": {
    "tags": []
   },
   "outputs": [
    {
     "data": {
      "text/plain": [
       "<qiskit.circuit.instructionset.InstructionSet at 0x1c57d628af0>"
      ]
     },
     "execution_count": 41,
     "metadata": {},
     "output_type": "execute_result"
    }
   ],
   "source": [
    "color = QuantumRegister(1, 'color')\n",
    "y_ax = QuantumRegister(w_bits, 'y axis')\n",
    "x_ax = QuantumRegister(h_bits, 'x axis')\n",
    "bitplane_q = QuantumRegister(color_n_b, 'bitplanes')\n",
    "classic = ClassicalRegister(1+w_bits+h_bits+color_n_b, 'classic')\n",
    "qc = QuantumCircuit(color, y_ax, x_ax, bitplane_q, classic)\n",
    "\n",
    "qc.i(color)\n",
    "qc.h(x_ax)\n",
    "qc.h(y_ax)\n",
    "qc.h(bitplane_q)\n",
    "\n",
    "qc.barrier()\n",
    "\n",
    "for bitplane in range(8):\n",
    "    bit_bitplane = \"{0:b}\".format(bitplane).zfill(color_n_b)\n",
    "    for n, bit in enumerate(bit_bitplane):\n",
    "        if bit!='1':\n",
    "            qc.x(bitplane_q[n])\n",
    "    for i in range(image.shape[0]):\n",
    "        for j in range(image.shape[1]):\n",
    "            pixel = \"{0:b}\".format(image[i,j]).zfill(8)\n",
    "            if pixel[bitplane]=='1':\n",
    "                i_bit = \"{0:b}\".format(i).zfill(h_bits)\n",
    "                for i_n, ibit in enumerate(i_bit):\n",
    "                    if ibit!='1':\n",
    "                        qc.x(x_ax[i_n])\n",
    "                    j_bit = \"{0:b}\".format(j).zfill(w_bits)\n",
    "                for j_n, jbit in enumerate(j_bit):\n",
    "                    if jbit!='1':\n",
    "                        qc.x(y_ax[j_n])\n",
    "                qc.barrier()\n",
    "\n",
    "                controls = list(range(color.size,\n",
    "                                      qc.num_qubits))\n",
    "                xg = XGate(None).control(len(controls))\n",
    "                controls.append(color)\n",
    "                qc.append(xg, controls)\n",
    "\n",
    "                for j_n, jbit in enumerate(j_bit):\n",
    "                    if jbit!='1':\n",
    "                        qc.x(y_ax[j_n])\n",
    "\n",
    "                for i_n, ibit in enumerate(i_bit):\n",
    "                        if ibit!='1':\n",
    "                            qc.x(x_ax[i_n])\n",
    "                qc.barrier()\n",
    "\n",
    "    for n, bit in enumerate(bit_bitplane):\n",
    "        if bit!='1':\n",
    "            qc.x(bitplane_q[n])\n",
    "qc.barrier()\n",
    "qc.measure(list(reversed(range(qc.num_qubits))), list(range(classic.size)))           \n",
    "# qc.draw()"
   ]
  },
  {
   "cell_type": "code",
   "execution_count": 42,
   "id": "9242cca5-12b5-40d9-ba15-b1f427cf4a98",
   "metadata": {},
   "outputs": [],
   "source": [
    "aer_sim = Aer.get_backend('aer_simulator')\n",
    "t_qc_image = transpile(qc, aer_sim)\n",
    "qobj = assemble(t_qc_image, shots=1000000)\n",
    "job_neqr = aer_sim.run(qobj)\n",
    "result_neqr = job_neqr.result()\n",
    "counts_neqr = result_neqr.get_counts()"
   ]
  },
  {
   "cell_type": "code",
   "execution_count": 43,
   "id": "4a946ee2-3c56-4eef-90a1-e647eece8bb8",
   "metadata": {
    "tags": []
   },
   "outputs": [
    {
     "data": {
      "image/png": "[encoded data removed]",
      "text/plain": [
       "<Figure size 432x288 with 1 Axes>"
      ]
     },
     "metadata": {
      "needs_background": "light"
     },
     "output_type": "display_data"
    },
    {
     "data": {
      "image/png": "[encoded data removed]",
      "text/plain": [
       "<Figure size 432x288 with 1 Axes>"
      ]
     },
     "metadata": {
      "needs_background": "light"
     },
     "output_type": "display_data"
    },
    {
     "name": "stdout",
     "output_type": "stream",
     "text": [
      "[[ 92 113 176   4  49]\n",
      " [122 139  56 205   1]\n",
      " [171 196 194 207  51]\n",
      " [ 61 199 120  25  40]\n",
      " [ 23  93 239 240 234]]\n",
      "[[ 92 113 176   4  49]\n",
      " [122 139  56 205   1]\n",
      " [171 196 194 207  51]\n",
      " [ 61 199 120  25  40]\n",
      " [ 23  93 239 240 234]]\n"
     ]
    }
   ],
   "source": [
    "out_pixels = []\n",
    "for item in counts_neqr:\n",
    "    out_pixels.append((int(item[0:color.size], 2),\n",
    "                       int(item[color.size:color.size+x_ax.size],2),\n",
    "                       int(item[color.size+x_ax.size:color.size+x_ax.size+y_ax.size],2),\n",
    "                       int(item[color.size+x_ax.size+y_ax.size:qc.num_qubits],2)\n",
    "                     ))\n",
    "# print(out_pixels)\n",
    "out_image = []\n",
    "for k in range(image.shape[0]):\n",
    "    for j in range(image.shape[1]):\n",
    "        bits = [i for i in range(len(out_pixels)) if out_pixels[i][1] == k and out_pixels[i][2] == j]\n",
    "        pixel = np.zeros((8,))\n",
    "        for bit in bits:\n",
    "            pixel[out_pixels[bit][3]] = int(out_pixels[bit][0])\n",
    "        mystring = \"\".join([str(int(a)) for a in pixel])\n",
    "#         print(mystring)\n",
    "        out_image.append(int(mystring, 2))\n",
    "out_image = np.array(out_image).reshape(image.shape[1], image.shape[0])\n",
    "plt.imshow(out_image.T, cmap = 'gray')\n",
    "plt.show()\n",
    "plt.imshow(image, cmap = 'gray')\n",
    "plt.show()\n",
    "\n",
    "print(out_image.T)\n",
    "print(image)"
   ]
  }
 ],
 "metadata": {
  "kernelspec": {
   "display_name": "Python 3 (ipykernel)",
   "language": "python",
   "name": "python3"
  },
  "language_info": {
   "codemirror_mode": {
    "name": "ipython",
    "version": 3
   },
   "file_extension": ".py",
   "mimetype": "text/x-python",
   "name": "python",
   "nbconvert_exporter": "python",
   "pygments_lexer": "ipython3",
   "version": "3.8.12"
  }
 },
 "nbformat": 4,
 "nbformat_minor": 5
}
