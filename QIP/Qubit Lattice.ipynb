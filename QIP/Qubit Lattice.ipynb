{
 "cells": [
  {
   "cell_type": "code",
   "execution_count": 1,
   "id": "bd77bbe0-a90c-434e-b1f4-ecd3bdea612a",
   "metadata": {},
   "outputs": [],
   "source": [
    "import qiskit\n",
    "from qiskit import QuantumRegister, ClassicalRegister\n",
    "import qiskit as qk\n",
    "from qiskit import QuantumCircuit, Aer, IBMQ, execute\n",
    "from qiskit import transpile, assemble\n",
    "from qiskit.tools.jupyter import *\n",
    "from qiskit.visualization import plot_histogram\n",
    "import matplotlib.pyplot as plt\n",
    "import numpy as np\n",
    "from qiskit.extensions import XGate\n",
    "import math\n",
    "from math import pi"
   ]
  },
  {
   "cell_type": "code",
   "execution_count": 2,
   "id": "bc5ded80-debd-4e52-8d5f-3424d48f3bfa",
   "metadata": {},
   "outputs": [
    {
     "data": {
      "image/png": "[encoded data removed]",
      "text/plain": [
       "<Figure size 432x288 with 1 Axes>"
      ]
     },
     "metadata": {
      "needs_background": "light"
     },
     "output_type": "display_data"
    }
   ],
   "source": [
    "image = np.random.uniform(low=0, high=255, size=(4,4)).astype(int)\n",
    "plt.imshow(image, cmap = 'gray')\n",
    "signal = image.flatten()\n",
    "signal = np.interp(signal, (0, 255), (0, np.pi))"
   ]
  },
  {
   "cell_type": "code",
   "execution_count": 3,
   "id": "60468605-35fc-4fbc-9fc9-fdbfa3e0ca22",
   "metadata": {},
   "outputs": [
    {
     "data": {
      "text/plain": [
       "<qiskit.circuit.instructionset.InstructionSet at 0x2ba47dc93a0>"
      ]
     },
     "execution_count": 3,
     "metadata": {},
     "output_type": "execute_result"
    }
   ],
   "source": [
    "color = QuantumRegister(len(signal), 'color')\n",
    "classic = ClassicalRegister(color.size, 'classic')\n",
    "\n",
    "qc = QuantumCircuit(color, classic)\n",
    "\n",
    "for i, ang in enumerate(signal):\n",
    "    qc.ry(ang, i)\n",
    "\n",
    "qc.measure(list(reversed(range(len(signal)))), range(len(signal)))\n",
    "# qc.draw()"
   ]
  },
  {
   "cell_type": "code",
   "execution_count": 4,
   "id": "4fcad9da-2afa-4ea2-aa63-b8c2f150ae49",
   "metadata": {},
   "outputs": [],
   "source": [
    "shots = 1000000\n",
    "aer_sim = Aer.get_backend('aer_simulator')\n",
    "t_qc_image = transpile(qc, aer_sim)\n",
    "qobj = assemble(t_qc_image, shots=shots)\n",
    "job_neqr = aer_sim.run(qobj)\n",
    "result_neqr = job_neqr.result()\n",
    "counts_neqr = result_neqr.get_counts()"
   ]
  },
  {
   "cell_type": "code",
   "execution_count": 5,
   "id": "bd6db348-7218-4747-96bf-68110d339cae",
   "metadata": {},
   "outputs": [],
   "source": [
    "pixels = np.zeros((len(signal)))\n",
    "for item in counts_neqr:\n",
    "    for i, bit in enumerate(item):\n",
    "        if bit=='0':\n",
    "            pixels[i]+=counts_neqr[item]"
   ]
  },
  {
   "cell_type": "code",
   "execution_count": 6,
   "id": "457901d8-32eb-41d9-bec9-af724a70b50e",
   "metadata": {},
   "outputs": [
    {
     "name": "stdout",
     "output_type": "stream",
     "text": [
      "reconstructed pixel value = 3.12993068371497, real = 3.129272682399245\n",
      "reconstructed pixel value = 1.1221125148240427, real = 1.121117378339887\n",
      "reconstructed pixel value = 1.7257638380954494, real = 1.7247959666767492\n",
      "reconstructed pixel value = 1.194719835524715, real = 1.1950372054831762\n",
      "reconstructed pixel value = 2.044148020750257, real = 2.0451152176310026\n",
      "reconstructed pixel value = 1.6884395010256692, real = 1.6878360531051044\n",
      "reconstructed pixel value = 1.292516561046804, real = 1.2935969750075618\n",
      "reconstructed pixel value = 3.1297604250015763, real = 3.129272682399245\n",
      "reconstructed pixel value = 0.8734888489608865, real = 0.8747179545289228\n",
      "reconstructed pixel value = 1.6008208376304625, real = 1.601596254771267\n",
      "reconstructed pixel value = 0.20954337865246617, real = 0.20943951023931953\n",
      "reconstructed pixel value = 0.20910063833824138, real = 0.20943951023931953\n",
      "reconstructed pixel value = 1.2925498412017975, real = 1.2935969750075618\n",
      "reconstructed pixel value = 3.115823743162953, real = 3.1169527112086968\n",
      "reconstructed pixel value = 1.3178867842496056, real = 1.3182369173886583\n",
      "reconstructed pixel value = 0.1746581513370385, real = 0.17247959666767493\n"
     ]
    }
   ],
   "source": [
    "reconstruct = []\n",
    "for pixel in pixels:\n",
    "    color = 2*np.arccos((pixel/shots)**(1/2))\n",
    "    reconstruct.append(color)\n",
    "    \n",
    "for rec, real in zip(reconstruct, signal):\n",
    "    print(\"reconstructed pixel value = {}, real = {}\".format(rec, real))"
   ]
  }
 ],
 "metadata": {
  "kernelspec": {
   "display_name": "Python 3 (ipykernel)",
   "language": "python",
   "name": "python3"
  },
  "language_info": {
   "codemirror_mode": {
    "name": "ipython",
    "version": 3
   },
   "file_extension": ".py",
   "mimetype": "text/x-python",
   "name": "python",
   "nbconvert_exporter": "python",
   "pygments_lexer": "ipython3",
   "version": "3.8.12"
  }
 },
 "nbformat": 4,
 "nbformat_minor": 5
}
