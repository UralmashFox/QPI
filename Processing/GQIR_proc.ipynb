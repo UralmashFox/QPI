{
 "cells": [
  {
   "cell_type": "code",
   "execution_count": 1,
   "metadata": {
    "collapsed": true
   },
   "outputs": [],
   "source": [
    "from qiskit import QuantumRegister, ClassicalRegister\n",
    "from qiskit import QuantumCircuit, Aer\n",
    "from qiskit import transpile, assemble\n",
    "from qiskit.visualization import plot_histogram\n",
    "import matplotlib.pyplot as plt\n",
    "import numpy as np\n",
    "from qiskit.extensions import XGate"
   ]
  },
  {
   "cell_type": "markdown",
   "metadata": {},
   "source": [
    "# [Rescaling](https://link.springer.com/content/pdf/10.1007/s11128-015-1099-5.pdf)"
   ]
  },
  {
   "cell_type": "code",
   "execution_count": 2,
   "metadata": {},
   "outputs": [
    {
     "data": {
      "image/png": "[encoded data removed]",
      "text/plain": [
       "<Figure size 432x288 with 1 Axes>"
      ]
     },
     "metadata": {},
     "output_type": "display_data"
    }
   ],
   "source": [
    "image = np.array([0,1]).reshape(1,2)\n",
    "color_bit_range = 1\n",
    "plt.imshow(image, cmap = 'gray')\n",
    "plt.show()"
   ]
  },
  {
   "cell_type": "code",
   "execution_count": 3,
   "metadata": {},
   "outputs": [
    {
     "name": "stdout",
     "output_type": "stream",
     "text": [
      "3 3\nfrom (1, 2) to (5, 6)\nfor each 1x1 pixel shape is 5x3\n"
     ]
    }
   ],
   "source": [
    "import math\n",
    "ry = 5\n",
    "rx = 3\n",
    "h_prime = int(np.ceil(math.log(ry*image.shape[0],2)))\n",
    "w_prime = int(np.ceil(math.log(rx*image.shape[1],2)))\n",
    "print(h_prime, w_prime)\n",
    "h = int(np.ceil(math.log(image.shape[0],2)))\n",
    "if not h: h = 1\n",
    "w = int(np.ceil(math.log(image.shape[1],2)))\n",
    "print('from {} to {}'.format((image.shape),(image.shape[0]*ry, image.shape[1]*rx)))\n",
    "print('for each 1x1 pixel shape is {}x{}'.format(ry, rx))"
   ]
  },
  {
   "cell_type": "code",
   "execution_count": 4,
   "metadata": {},
   "outputs": [
    {
     "data": {
      "text/plain": [
       "<qiskit.circuit.instructionset.InstructionSet at 0x2451e9f4f40>"
      ]
     },
     "execution_count": 4,
     "metadata": {},
     "output_type": "execute_result"
    }
   ],
   "source": [
    "indx = QuantumRegister(h+w, 'idx')\n",
    "indx_prime = QuantumRegister(h_prime+w_prime, 'idx_prime')\n",
    "intensity = QuantumRegister(color_bit_range,'intensity')\n",
    "intensity_prime = QuantumRegister(color_bit_range,'intensity_prime')\n",
    "cr = ClassicalRegister(intensity_prime.size + indx_prime.size, 'cr')\n",
    "qc_image = QuantumCircuit(intensity, indx, intensity_prime, indx_prime, cr)\n",
    "num_qubits = qc_image.num_qubits\n",
    "input_im = image.copy().flatten()\n",
    "\n",
    "#how many bits is used for coding classical position? h and w\n",
    "    \n",
    "for idx in range(indx_prime.size):\n",
    "    qc_image.h(indx.size + intensity.size + intensity_prime.size + idx)\n",
    "  \n",
    "qc_image.barrier()\n",
    "    \n",
    "for i, pixel in enumerate(input_im):\n",
    "    pixel_bin = \"{0:b}\".format(pixel).zfill(color_bit_range)\n",
    "    for j, intens in enumerate(pixel_bin):\n",
    "        if not int(intens):\n",
    "            qc_image.x(intensity[j])\n",
    "    position_bin = \"{0:b}\".format(i).zfill(h+w)\n",
    "    for j, coord in enumerate(position_bin):\n",
    "        if not int(coord):\n",
    "            qc_image.x(indx[j])\n",
    "                        \n",
    "    for x_pos in range(ry):\n",
    "        for y_pos in range(rx*(i), rx*(1+i)):\n",
    "            x_pos_bit = \"{0:b}\".format(x_pos).zfill(h_prime)\n",
    "            for j, coord in enumerate(x_pos_bit):\n",
    "                if not int(coord):\n",
    "                    qc_image.x(indx_prime[j])\n",
    "            y_pos_bit = \"{0:b}\".format(y_pos).zfill(w_prime)\n",
    "            for j, coord in enumerate(y_pos_bit):\n",
    "                if not int(coord):\n",
    "                    qc_image.x(indx_prime[h_prime+j])\n",
    "            controls = list(range(intensity.size+indx.size))\n",
    "            controls.extend(list(range(intensity.size+indx.size+1, num_qubits)))\n",
    "            xg = XGate(None).control(len(controls))\n",
    "            controls.append(indx.size + intensity.size)\n",
    "            qc_image.append(xg, controls)\n",
    "            \n",
    "            for j, coord in enumerate(x_pos_bit):\n",
    "                if not int(coord):\n",
    "                    qc_image.x(indx_prime[j])\n",
    "            for j, coord in enumerate(y_pos_bit):\n",
    "                if not int(coord):\n",
    "                    qc_image.x(indx_prime[h_prime+j])\n",
    "            qc_image.barrier()\n",
    "    \n",
    "    for j, intens in enumerate(pixel_bin):\n",
    "        if not int(intens):\n",
    "            qc_image.x(intensity[j])\n",
    "    for j, coord in enumerate(position_bin):\n",
    "        if not int(coord):\n",
    "            qc_image.x(indx[j])     \n",
    "    \n",
    "    qc_image.barrier()\n",
    "    \n",
    "qc_image.measure(list(reversed(range(intensity.size+indx.size, intensity.size+indx.size+intensity_prime.size+indx_prime.size))),\n",
    "                 range(intensity_prime.size+indx_prime.size))\n",
    "# qc_image.draw()"
   ]
  },
  {
   "cell_type": "code",
   "execution_count": 5,
   "metadata": {},
   "outputs": [],
   "source": [
    "aer_sim = Aer.get_backend('aer_simulator')\n",
    "t_qc_image = transpile(qc_image, aer_sim)\n",
    "qobj = assemble(t_qc_image, shots=10000)\n",
    "job_neqr = aer_sim.run(qobj)\n",
    "result_neqr = job_neqr.result()\n",
    "counts_neqr = result_neqr.get_counts()\n",
    "# plot_histogram(counts_neqr)\n",
    "# plt.show()\n",
    "# print(counts_neqr)"
   ]
  },
  {
   "cell_type": "code",
   "execution_count": 6,
   "metadata": {},
   "outputs": [
    {
     "data": {
      "image/png": "[encoded data removed]",
      "text/plain": [
       "<Figure size 432x288 with 1 Axes>"
      ]
     },
     "metadata": {},
     "output_type": "display_data"
    },
    {
     "data": {
      "image/png": "[encoded data removed]",
      "text/plain": [
       "<Figure size 432x288 with 1 Axes>"
      ]
     },
     "metadata": {},
     "output_type": "display_data"
    },
    {
     "data": {
      "image/png": "[encoded data removed]",
      "text/plain": [
       "<Figure size 432x288 with 1 Axes>"
      ]
     },
     "metadata": {},
     "output_type": "display_data"
    },
    {
     "name": "stdout",
     "output_type": "stream",
     "text": [
      "[[1. 1. 1. 0. 0. 0.]\n [1. 1. 1. 0. 0. 0.]\n [1. 1. 1. 0. 0. 0.]\n [1. 1. 1. 0. 0. 0.]\n [1. 1. 1. 0. 0. 0.]]\n"
     ]
    }
   ],
   "source": [
    "out_pixels = []\n",
    "for item in counts_neqr:\n",
    "    out_pixels.append((int(item[0:intensity.size], 2), int(item[intensity.size:],2)))\n",
    "out_image = np.zeros((64,))\n",
    "for pixel in out_pixels:\n",
    "    if pixel[1]<out_image.shape[0]:\n",
    "        out_image[pixel[1]] = pixel[0]\n",
    "out_image = np.reshape(out_image, (8,8))\n",
    "plt.imshow(out_image, cmap = 'gray')\n",
    "plt.title('Reconstructed image')\n",
    "plt.show()\n",
    "out_image = out_image[0:5, 0:6]\n",
    "plt.imshow(out_image, cmap = 'gray')\n",
    "plt.title('Reconstructed image')\n",
    "plt.show()\n",
    "plt.imshow(image, cmap = 'gray')\n",
    "plt.title('Original image')\n",
    "plt.show()\n",
    "print(out_image)"
   ]
  },
  {
   "cell_type": "code",
   "execution_count": 7,
   "metadata": {},
   "outputs": [
    {
     "data": {
      "image/png": "[encoded data removed]",
      "text/plain": [
       "<Figure size 432x288 with 1 Axes>"
      ]
     },
     "metadata": {},
     "output_type": "display_data"
    }
   ],
   "source": [
    "image = np.array([0,1,1,1,1,1,0,0,0,0,1,1,1]).reshape(1,13)\n",
    "color_bit_range = 1\n",
    "plt.imshow(image, cmap = 'gray')\n",
    "plt.show()"
   ]
  },
  {
   "cell_type": "code",
   "execution_count": 8,
   "metadata": {},
   "outputs": [
    {
     "name": "stdout",
     "output_type": "stream",
     "text": [
      "2 7\nfrom (1, 13) to (3, 65)\nfor each 1x1 pixel shape is 3x5\n"
     ]
    }
   ],
   "source": [
    "import math\n",
    "ry = 3\n",
    "rx = 5\n",
    "h_prime = int(np.ceil(math.log(ry*image.shape[0],2)))\n",
    "w_prime = int(np.ceil(math.log(rx*image.shape[1],2)))\n",
    "print(h_prime, w_prime)\n",
    "h = int(np.ceil(math.log(image.shape[0],2)))\n",
    "if not h: h = 1\n",
    "w = int(np.ceil(math.log(image.shape[1],2)))\n",
    "print('from {} to {}'.format((image.shape),(image.shape[0]*ry, image.shape[1]*rx)))\n",
    "print('for each 1x1 pixel shape is {}x{}'.format(ry, rx))"
   ]
  },
  {
   "cell_type": "code",
   "execution_count": 9,
   "metadata": {},
   "outputs": [
    {
     "data": {
      "text/plain": [
       "<qiskit.circuit.instructionset.InstructionSet at 0x24579784ee0>"
      ]
     },
     "execution_count": 9,
     "metadata": {},
     "output_type": "execute_result"
    }
   ],
   "source": [
    "indx = QuantumRegister(h+w, 'idx')\n",
    "indx_prime = QuantumRegister(h_prime+w_prime, 'idx_prime')\n",
    "intensity = QuantumRegister(color_bit_range,'intensity')\n",
    "intensity_prime = QuantumRegister(color_bit_range,'intensity_prime')\n",
    "cr = ClassicalRegister(intensity_prime.size + indx_prime.size, 'cr')\n",
    "qc_image = QuantumCircuit(intensity, indx, intensity_prime, indx_prime, cr)\n",
    "num_qubits = qc_image.num_qubits\n",
    "input_im = image.copy().flatten()\n",
    "\n",
    "#how many bits is used for coding classical position? h and w\n",
    "\n",
    "for idx in range(indx.size + intensity.size + intensity_prime.size):\n",
    "    qc_image.i(idx)\n",
    "for idx in range(indx_prime.size):\n",
    "    qc_image.h(indx.size + intensity.size + intensity_prime.size + idx)\n",
    "  \n",
    "qc_image.barrier()\n",
    "    \n",
    "for i, pixel in enumerate(input_im):\n",
    "    pixel_bin = \"{0:b}\".format(pixel).zfill(color_bit_range)\n",
    "    if pixel_bin!='0':\n",
    "        for j, intens in enumerate(pixel_bin):\n",
    "            if not int(intens):\n",
    "                qc_image.x(intensity[j])\n",
    "        position_bin = \"{0:b}\".format(i).zfill(h+w)\n",
    "        for j, coord in enumerate(position_bin):\n",
    "            if not int(coord):\n",
    "                qc_image.x(indx[j])\n",
    "\n",
    "        for x_pos in range(ry):\n",
    "            for y_pos in range(rx*(i), rx*(1+i)):\n",
    "                x_pos_bit = \"{0:b}\".format(x_pos).zfill(h_prime)\n",
    "                for j, coord in enumerate(x_pos_bit):\n",
    "                    if not int(coord):\n",
    "                        qc_image.x(indx_prime[j])\n",
    "                y_pos_bit = \"{0:b}\".format(y_pos).zfill(w_prime)\n",
    "                for j, coord in enumerate(y_pos_bit):\n",
    "                    if not int(coord):\n",
    "                        qc_image.x(indx_prime[h_prime+j])\n",
    "                        \n",
    "                qc_image.cx(intensity, intensity_prime)\n",
    "                controls = list(range(intensity_prime.size+indx.size+1,\n",
    "                                      intensity_prime.size+indx.size+1+indx_prime.size))\n",
    "                xg = XGate(None).control(len(controls))\n",
    "                controls.append(intensity_prime)\n",
    "                qc_image.append(xg, controls)\n",
    "\n",
    "                for j, coord in enumerate(x_pos_bit):\n",
    "                    if not int(coord):\n",
    "                        qc_image.x(indx_prime[j])\n",
    "                for j, coord in enumerate(y_pos_bit):\n",
    "                    if not int(coord):\n",
    "                        qc_image.x(indx_prime[h_prime+j])\n",
    "                qc_image.barrier()\n",
    "\n",
    "        for j, intens in enumerate(pixel_bin):\n",
    "            if not int(intens):\n",
    "                qc_image.x(intensity[j])\n",
    "        for j, coord in enumerate(position_bin):\n",
    "            if not int(coord):\n",
    "                qc_image.x(indx[j])     \n",
    "\n",
    "        qc_image.barrier()\n",
    "    \n",
    "qc_image.measure(list(reversed(range(intensity.size+indx.size, intensity.size+indx.size+intensity_prime.size+indx_prime.size))),\n",
    "                 range(intensity_prime.size+indx_prime.size))\n",
    "# qc_image.draw()"
   ]
  },
  {
   "cell_type": "code",
   "execution_count": 10,
   "metadata": {},
   "outputs": [],
   "source": [
    "aer_sim = Aer.get_backend('aer_simulator')\n",
    "t_qc_image = transpile(qc_image, aer_sim)\n",
    "qobj = assemble(t_qc_image, shots=1000000)\n",
    "job_neqr = aer_sim.run(qobj)\n",
    "result_neqr = job_neqr.result()\n",
    "counts_neqr = result_neqr.get_counts()"
   ]
  },
  {
   "cell_type": "code",
   "execution_count": 11,
   "metadata": {},
   "outputs": [
    {
     "data": {
      "image/png": "[encoded data removed]",
      "text/plain": [
       "<Figure size 432x288 with 1 Axes>"
      ]
     },
     "metadata": {},
     "output_type": "display_data"
    },
    {
     "data": {
      "image/png": "[encoded data removed]",
      "text/plain": [
       "<Figure size 432x288 with 1 Axes>"
      ]
     },
     "metadata": {},
     "output_type": "display_data"
    },
    {
     "data": {
      "image/png": "[encoded data removed]",
      "text/plain": [
       "<Figure size 432x288 with 1 Axes>"
      ]
     },
     "metadata": {},
     "output_type": "display_data"
    }
   ],
   "source": [
    "out_pixels = []\n",
    "for item in counts_neqr:\n",
    "    out_pixels.append((int(item[0:intensity.size], 2), int(item[intensity.size:],2)))\n",
    "out_image = np.zeros((len(counts_neqr),))\n",
    "for pixel in out_pixels:\n",
    "    if pixel[1]<out_image.shape[0]:\n",
    "        out_image[pixel[1]] = pixel[0]\n",
    "out_image = np.reshape(out_image, (2**h_prime,2**w_prime))\n",
    "plt.imshow(out_image, cmap = 'gray')\n",
    "plt.title('Reconstructed image')\n",
    "plt.show()\n",
    "\n",
    "out_image = out_image[0:image.shape[0]*ry, 0:image.shape[1]*rx]\n",
    "# out_image = out_image.reshape((14, 10))\n",
    "plt.imshow(out_image, cmap = 'gray')\n",
    "plt.title('Reconstructed image')\n",
    "plt.show()\n",
    "plt.imshow(image.reshape(1,13), cmap = 'gray')\n",
    "plt.title('Original image')\n",
    "plt.show()\n",
    "# print(out_image)"
   ]
  },
  {
   "cell_type": "markdown",
   "metadata": {},
   "source": [
    "# From image"
   ]
  },
  {
   "cell_type": "code",
   "execution_count": 12,
   "metadata": {},
   "outputs": [
    {
     "data": {
      "image/png": "[encoded data removed]",
      "text/plain": [
       "<Figure size 432x288 with 1 Axes>"
      ]
     },
     "metadata": {},
     "output_type": "display_data"
    }
   ],
   "source": [
    "image = np.array([0,0,0,0,0,\n",
    "                  0,1,0,1,0,\n",
    "                  0,0,0,0,0,\n",
    "                  0,0,1,0,0,\n",
    "                  1,0,0,0,1,\n",
    "                  0,1,1,1,0,\n",
    "                  0,0,0,0,0,]).reshape(7,5)\n",
    "# image = np.array([1,0,\n",
    "#                   0,1]).reshape(2,2)\n",
    "color_bit_range = 1\n",
    "plt.imshow(image, cmap = 'gray')\n",
    "plt.show()"
   ]
  },
  {
   "cell_type": "code",
   "execution_count": 13,
   "metadata": {},
   "outputs": [
    {
     "name": "stdout",
     "output_type": "stream",
     "text": [
      "4 4\nfrom (7, 5) to (14, 10)\nfor each 1x1 pixel shape is 2x2\n"
     ]
    }
   ],
   "source": [
    "ry = 2\n",
    "rx = 2\n",
    "h_prime = int(np.ceil(math.log(ry*image.shape[0],2)))\n",
    "w_prime = int(np.ceil(math.log(rx*image.shape[1],2)))\n",
    "if not h_prime: h_prime = 1\n",
    "if not w_prime: w_prime = 1\n",
    "print(h_prime, w_prime)\n",
    "h = int(np.ceil(math.log(image.shape[0],2)))\n",
    "if not h: h = 1\n",
    "w = int(np.ceil(math.log(image.shape[1],2)))\n",
    "if not w: w = 1\n",
    "print('from {} to {}'.format((image.shape),(image.shape[0]*ry, image.shape[1]*rx)))\n",
    "print('for each 1x1 pixel shape is {}x{}'.format(ry, rx))"
   ]
  },
  {
   "cell_type": "code",
   "execution_count": 14,
   "metadata": {},
   "outputs": [
    {
     "data": {
      "text/plain": [
       "<qiskit.circuit.instructionset.InstructionSet at 0x24579593460>"
      ]
     },
     "execution_count": 14,
     "metadata": {},
     "output_type": "execute_result"
    }
   ],
   "source": [
    "x_indx = QuantumRegister(h, 'x_idx')\n",
    "y_indx = QuantumRegister(w, 'y_idx')\n",
    "x_prime = QuantumRegister(h_prime, 'x_idx_prime')\n",
    "y_prime = QuantumRegister(h_prime, 'y_idx_prime')\n",
    "\n",
    "intensity = QuantumRegister(color_bit_range,'intensity')\n",
    "intensity_prime = QuantumRegister(color_bit_range,'intensity_prime')\n",
    "\n",
    "cr = ClassicalRegister(intensity_prime.size + x_prime.size + y_prime.size, 'cr')\n",
    "# cr = ClassicalRegister(h+w+color_bit_range, 'cr')\n",
    "qc_image = QuantumCircuit(intensity, x_indx, y_indx, intensity_prime, x_prime, y_prime, cr)\n",
    "num_qubits = qc_image.num_qubits\n",
    "\n",
    "#how many bits is used for coding classical position? h and w\n",
    "\n",
    "qc_image.i(intensity)\n",
    "qc_image.i(x_indx)\n",
    "qc_image.i(y_indx)\n",
    "qc_image.i(intensity_prime)\n",
    "qc_image.h(x_prime)\n",
    "qc_image.h(y_prime)\n",
    "qc_image.barrier()\n",
    "    \n",
    "for i in range(image.shape[0]):\n",
    "    i_qbit = \"{0:b}\".format(i).zfill(h)\n",
    "    for x_in_iter, xpos in enumerate(i_qbit):\n",
    "        if xpos!='1': qc_image.x(x_indx[x_in_iter])\n",
    "    for j in range(image.shape[1]):\n",
    "        j_qbit = \"{0:b}\".format(j).zfill(w)\n",
    "        for y_in_iter, ypos in enumerate(j_qbit):\n",
    "            if ypos!='1': qc_image.x(y_indx[y_in_iter])\n",
    "        pixel = image[i,j]\n",
    "        if pixel:\n",
    "            qc_image.x(intensity)\n",
    "        for i_en in range(i*ry,(i+1)*ry):\n",
    "            for j_en in range(j*rx,(j+1)*rx): \n",
    "                \n",
    "                i_qbit_en = \"{0:b}\".format(i_en).zfill(h_prime)\n",
    "                for x_out_iter, xpos in enumerate(i_qbit_en):\n",
    "                    if xpos!='1':qc_image.x(x_prime[x_out_iter])\n",
    "                qc_image.barrier() \n",
    "                \n",
    "                j_qbit_en = \"{0:b}\".format(j_en).zfill(w_prime)\n",
    "                for y_out_iter, ypos in enumerate(j_qbit_en):\n",
    "                    if ypos!='1': qc_image.x(y_prime[y_out_iter])\n",
    "                    \n",
    "                qc_image.barrier() \n",
    "                                \n",
    "                controls = list(range(intensity.size + x_indx.size + y_indx.size + intensity_prime.size, num_qubits))\n",
    "                controls.append(0)\n",
    "                xg = XGate(None).control(len(controls))\n",
    "                controls.append(intensity_prime)\n",
    "                qc_image.append(xg, controls)\n",
    "                \n",
    "                qc_image.barrier() \n",
    "                \n",
    "                for y_out_iter, ypos in enumerate(j_qbit_en):\n",
    "                    if ypos!='1': qc_image.x(y_prime[y_out_iter])\n",
    "                    \n",
    "                qc_image.barrier() \n",
    "                \n",
    "                for x_out_iter, xpos in enumerate(i_qbit_en):\n",
    "                    if xpos!='1': qc_image.x(x_prime[x_out_iter])\n",
    "\n",
    "                qc_image.barrier() \n",
    "                \n",
    "        if pixel:\n",
    "            qc_image.x(intensity)\n",
    "        \n",
    "        for y_in_iter, ypos in enumerate(j_qbit):\n",
    "            if ypos!='1': qc_image.x(y_indx[y_in_iter])\n",
    "            \n",
    "    for x_in_iter, xpos in enumerate(i_qbit):\n",
    "        if xpos!='1': qc_image.x(x_indx[x_in_iter])\n",
    "            \n",
    "\n",
    "qc_image.measure(list(reversed(range(intensity.size+x_indx.size+y_indx.size, num_qubits))),\n",
    "                 list(range(intensity_prime.size+x_prime.size+y_prime.size)))\n",
    "# qc_image.draw()"
   ]
  },
  {
   "cell_type": "code",
   "execution_count": 15,
   "metadata": {},
   "outputs": [],
   "source": [
    "aer_sim = Aer.get_backend('aer_simulator')\n",
    "t_qc_image = transpile(qc_image, aer_sim)\n",
    "qobj = assemble(t_qc_image, shots=1000000)\n",
    "job_neqr = aer_sim.run(qobj)\n",
    "result_neqr = job_neqr.result()\n",
    "counts_neqr = result_neqr.get_counts()\n",
    "# print(counts_neqr)"
   ]
  },
  {
   "cell_type": "code",
   "execution_count": 16,
   "metadata": {},
   "outputs": [
    {
     "data": {
      "image/png": "[encoded data removed]",
      "text/plain": [
       "<Figure size 432x288 with 1 Axes>"
      ]
     },
     "metadata": {},
     "output_type": "display_data"
    },
    {
     "data": {
      "image/png": "[encoded data removed]",
      "text/plain": [
       "<Figure size 432x288 with 1 Axes>"
      ]
     },
     "metadata": {},
     "output_type": "display_data"
    },
    {
     "data": {
      "image/png": "[encoded data removed]",
      "text/plain": [
       "<Figure size 432x288 with 1 Axes>"
      ]
     },
     "metadata": {},
     "output_type": "display_data"
    }
   ],
   "source": [
    "out_pixels = []\n",
    "for item in counts_neqr:\n",
    "    out_pixels.append((int(item[0:intensity.size], 2), int(item[intensity.size:],2)))\n",
    "out_image = np.zeros((len(counts_neqr),))\n",
    "for pixel in out_pixels:\n",
    "    if pixel[1]<out_image.shape[0]:\n",
    "        out_image[pixel[1]] = pixel[0]\n",
    "out_image = np.reshape(out_image, (2**h_prime,2**w_prime))\n",
    "plt.imshow(out_image, cmap = 'gray')\n",
    "plt.title('Reconstructed image')\n",
    "plt.show()\n",
    "\n",
    "out_image = out_image[0:image.shape[0]*ry, 0:image.shape[1]*rx]\n",
    "plt.imshow(out_image, cmap = 'gray')\n",
    "plt.title('Reconstructed image')\n",
    "plt.show()\n",
    "plt.imshow(image, cmap = 'gray')\n",
    "plt.title('Original image')\n",
    "plt.show()\n",
    "# print(out_image)"
   ]
  }
 ],
 "metadata": {
  "kernelspec": {
   "display_name": "Python 2",
   "language": "python",
   "name": "python2"
  },
  "language_info": {
   "codemirror_mode": {
    "name": "ipython",
    "version": 2
   },
   "file_extension": ".py",
   "mimetype": "text/x-python",
   "name": "python",
   "nbconvert_exporter": "python",
   "pygments_lexer": "ipython2",
   "version": "2.7.6"
  }
 },
 "nbformat": 4,
 "nbformat_minor": 0
}
