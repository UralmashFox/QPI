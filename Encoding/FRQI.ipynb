{
 "cells": [
  {
   "cell_type": "markdown",
   "id": "a88c6873",
   "metadata": {},
   "source": [
    "# Flexible representation of quantum images - [FRQI](https://link.springer.com/content/pdf/10.1007/s11128-010-0177-y.pdf)"
   ]
  },
  {
   "cell_type": "markdown",
   "id": "57ccd177",
   "metadata": {},
   "source": [
    "## Representation equation $| I(\\theta)\\rangle = \\frac{1}{2^n}\\sum_{i=0}^{2^{2n}-1}(cos\\theta_i | 0 \\rangle + sin\\theta_i | 1 \\rangle) \\otimes | i \\rangle$, where\n",
    "\n",
    "$\\theta_i$ - continuous representation of the inensity,\n",
    "\n",
    "$i$ - binary expansion of the pixel coordinate."
   ]
  },
  {
   "cell_type": "markdown",
   "id": "25ee00a6",
   "metadata": {},
   "source": [
    "Step 0: dependencies import"
   ]
  },
  {
   "cell_type": "code",
   "execution_count": 1,
   "id": "a91f3aa4",
   "metadata": {},
   "outputs": [],
   "source": [
    "from qiskit import QuantumRegister, ClassicalRegister\n",
    "from qiskit import QuantumCircuit, Aer\n",
    "from qiskit import transpile, assemble\n",
    "from qiskit.visualization import plot_histogram\n",
    "import matplotlib.pyplot as plt\n",
    "import numpy as np\n",
    "import math\n",
    "from ibm_washington_config import coupling_map, basis_gates\n",
    "from ionq_config import coupling_map, basis_gates"
   ]
  },
  {
   "cell_type": "markdown",
   "id": "599f4323",
   "metadata": {},
   "source": [
    "Step 1: image generation"
   ]
  },
  {
   "cell_type": "code",
   "execution_count": 2,
   "id": "fb6abb92",
   "metadata": {},
   "outputs": [
    {
     "data": {
      "image/png": "[encoded data removed]",
      "text/plain": [
       "<Figure size 432x288 with 1 Axes>"
      ]
     },
     "metadata": {
      "needs_background": "light"
     },
     "output_type": "display_data"
    }
   ],
   "source": [
    "image = np.random.uniform(low=0, high=255, size=(16,16)).astype(int)\n",
    "plt.imshow(image, cmap='gray')\n",
    "plt.title('Image')\n",
    "plt.show()"
   ]
  },
  {
   "cell_type": "markdown",
   "id": "aff8c902",
   "metadata": {},
   "source": [
    "Step 2: flattening image into vector (for convenience). Calculation of sufficient nuber of qubits."
   ]
  },
  {
   "cell_type": "code",
   "execution_count": 3,
   "id": "22f64980",
   "metadata": {},
   "outputs": [],
   "source": [
    "input_im = image.copy().flatten()\n",
    "thetas = np.interp(input_im, (0, 256), (0, np.pi/2))\n",
    "coord_q_num = int(np.ceil(math.log(len(input_im), 2)))"
   ]
  },
  {
   "cell_type": "markdown",
   "id": "bc1a14d4",
   "metadata": {},
   "source": [
    "Step 3: quantum circuit building."
   ]
  },
  {
   "cell_type": "code",
   "execution_count": 4,
   "id": "6a1c178f-b4b3-4a82-8c57-b9baba4ebb88",
   "metadata": {},
   "outputs": [
    {
     "data": {
      "text/plain": [
       "<qiskit.circuit.instructionset.InstructionSet at 0x2738b574f80>"
      ]
     },
     "execution_count": 4,
     "metadata": {},
     "output_type": "execute_result"
    }
   ],
   "source": [
    "O = QuantumRegister(coord_q_num, 'coordinates')\n",
    "c = QuantumRegister(1,'c_reg')\n",
    "cr = ClassicalRegister(O.size+c.size, \"cl_reg\")\n",
    "\n",
    "qc_image = QuantumCircuit(c, O, cr)\n",
    "num_qubits = qc_image.num_qubits\n",
    "input_im = image.copy().flatten()\n",
    "qc_image.i(c)\n",
    "qc_image.h(O)\n",
    "\n",
    "controls_ = []\n",
    "for i, _ in enumerate(O):\n",
    "    controls_.extend([O[i]])\n",
    "\n",
    "for i, theta in enumerate(thetas):\n",
    "    qubit_index_bin = \"{0:b}\".format(i).zfill(coord_q_num)\n",
    "    \n",
    "    for k, qub_ind in enumerate(qubit_index_bin):\n",
    "        if int(qub_ind):\n",
    "            qc_image.x(O[k])\n",
    "            \n",
    "    # qc_image.barrier()\n",
    "    # for coord_or_intns in (0,1):\n",
    "    qc_image.mcry(theta=2*theta,\n",
    "                  q_controls=controls_,\n",
    "                  q_target=c[0])\n",
    "\n",
    "    # qc_image.barrier()\n",
    "    for k, qub_ind in enumerate(qubit_index_bin):\n",
    "        if int(qub_ind):\n",
    "            qc_image.x(O[k])\n",
    "           \n",
    "    # qc_image.barrier()\n",
    "\n",
    "qc_image.measure(list(reversed(range(qc_image.num_qubits))), list(range(cr.size)))"
   ]
  },
  {
   "cell_type": "markdown",
   "id": "424cbb8f-b8ac-4db1-944c-9669ed786c78",
   "metadata": {},
   "source": [
    "Metrics\n",
    "\n",
    "| Image size  | Depth measure | # of utilized qubits |Washington depth | IonQ depth |\n",
    "| ------------- | ------------- | -------------------|-----------------|------------|\n",
    "| 2  | 20  | 3 | 211| 98|\n",
    "| 4  | 467  | 5 | 2776| 962|\n",
    "| 8  | 8003  | 7 | 49404| 16130|\n",
    "| 16  | 130307  | 9 | |260351|\n",
    "| 32  | 2094083  | 11|\n",
    "| 64  | -  | 13 |\n",
    "| 128  | -  | 15 |\n",
    "| 256  | -  | 17 |"
   ]
  },
  {
   "cell_type": "code",
   "execution_count": 5,
   "id": "918c10fc-60e3-4269-9c98-ab58edcb4cde",
   "metadata": {},
   "outputs": [
    {
     "name": "stdout",
     "output_type": "stream",
     "text": [
      "depth is 130307, # of qubits is 9\n"
     ]
    }
   ],
   "source": [
    "print(\"depth is {}, # of qubits is {}\".format(qc_image.depth(), qc_image.num_qubits))"
   ]
  },
  {
   "cell_type": "code",
   "execution_count": 21,
   "id": "8994000f-ef6b-4403-be54-51c0a5662169",
   "metadata": {},
   "outputs": [
    {
     "name": "stdout",
     "output_type": "stream",
     "text": [
      "depth is 260351\n"
     ]
    }
   ],
   "source": [
    "wash_qc = transpile(circuits=qc_image, coupling_map=coupling_map, basis_gates=basis_gates)\n",
    "print(\"depth is {}\".format(wash_qc.depth()))\n",
    "# wash_qc.draw()"
   ]
  },
  {
   "cell_type": "markdown",
   "id": "e403eb3e",
   "metadata": {},
   "source": [
    "Circuit drawing"
   ]
  },
  {
   "cell_type": "markdown",
   "id": "a2171dc8",
   "metadata": {},
   "source": [
    "Step 4: quantum circuit execution, measurments' interpretation"
   ]
  },
  {
   "cell_type": "code",
   "execution_count": 6,
   "id": "216305a0-af2d-4500-9f37-27fe7d385943",
   "metadata": {},
   "outputs": [
    {
     "name": "stdout",
     "output_type": "stream",
     "text": [
      "[47, 165, 18, 156, 133, 159, 231, 81, 111, 238, 132, 205, 52, 230, 158, 209, 142, 148, 69, 256, 157, 153, 256, 128, 139, 20, 140, 237, 138, 194, 19, 166, 101, 176, 0, 39, 62, 210, 126, 189, 81, 256, 168, 121, 208, 148, 203, 66, 171, 0, 51, 159, 143, 101, 205, 182, 0, 172, 0, 0, 194, 205, 0, 111, 207, 214, 119, 154, 138, 203, 51, 149, 109, 98, 201, 212, 177, 88, 25, 48, 256, 64, 148, 32, 26, 154, 114, 229, 125, 165, 256, 78, 238, 209, 36, 214, 0, 18, 58, 125, 106, 63, 238, 231, 118, 197, 170, 220, 125, 230, 96, 76, 41, 108, 36, 256, 0, 237, 197, 0, 92, 222, 239, 222, 239, 49, 228, 82, 54, 145, 71, 150, 169, 229, 206, 132, 238, 173, 0, 0, 18, 52, 142, 143, 26, 237, 64, 147, 34, 256, 256, 19, 131, 34, 178, 212, 51, 208, 228, 181, 18, 98, 119, 0, 96, 89, 207, 183, 0, 212, 90, 130, 87, 0, 238, 0, 207, 55, 212, 134, 117, 191, 144, 212, 169, 230, 63, 107, 256, 219, 92, 46, 116, 193, 178, 158, 202, 204, 101, 59, 168, 123, 110, 147, 187, 137, 19, 167, 256, 218, 185, 114, 60, 200, 141, 155, 175, 199, 62, 235, 98, 104, 256, 43, 37, 163, 157, 202, 105, 0, 180, 54, 126, 223, 93, 235, 87, 77, 0, 201, 256, 90, 54, 173, 55, 151, 24, 211, 36, 221, 129, 196, 34, 66, 222, 125] \n",
      " [ 54 184  12 156 131 155 236  77 131 237 133 212  57 223 168 207 129 150\n",
      "  81 254 170 150 250 133 135  29 141 234 140 196  13 154 105 170   1  51\n",
      "  59 205 120 186  93 253 173 130 210 150 216  70 174   3  44 141 147 110\n",
      " 219 179   6 174  31  23 196 207  21 128 202 216 107 172 137 193  61 138\n",
      " 120 124 210 201 163  99  25  48 248  48 144  33  19 149 104 236 136 174\n",
      " 241  83 227 204  36 219   4  19  57 101  99  48 237 230 125 198 179 226\n",
      "  98 236 109  65  45 113  32 246   2 222 203   8  94 213 240 216 234  54\n",
      " 237  69  44 151  78 145 184 229 200 137 232 185   2   7  16  63 140 145\n",
      "  19 234  60 141  48 248 237  17 127  36 170 218  75 201 229 179   8  79\n",
      " 117  17 103  89 213 185  16 218  99 151  94  14 228   8 198  50 206 138\n",
      "  94 202 165 220 170 225  69 113 252 218  83  62 123 188 169 154 186 203\n",
      " 111  56 159 113 114 149 198 128  28 167 246 206 180 102  45 195 139 160\n",
      " 166 195  61 244  96  90 252  45  31 162 161 187  82   8 177  48 130 199\n",
      " 103 243  84  78   5 207 247  85  66 172  60 149  27 206  31 230 147 195\n",
      "  34  58 219 116]\n"
     ]
    }
   ],
   "source": [
    "aer_sim = Aer.get_backend('aer_simulator')\n",
    "t_qc_image = transpile(qc_image, aer_sim)\n",
    "qobj = assemble(t_qc_image, shots=20000)\n",
    "job_oqim = aer_sim.run(qobj)\n",
    "result_oqim = job_oqim.result()\n",
    "counts_oqim = result_oqim.get_counts()\n",
    "classical_colors = []\n",
    "for i in range(0, len(input_im)):\n",
    "    color_list = []\n",
    "    for item in counts_oqim.items():\n",
    "        key = item[0]\n",
    "        amount = item[1]\n",
    "        bin_coord = key[1:]\n",
    "        int_coord = int(bin_coord, 2)\n",
    "        if int_coord == i:\n",
    "            color_list.append((key[0], amount))\n",
    "    color_amount = 0\n",
    "    for color, amount in color_list:\n",
    "        if not int(color):\n",
    "            color_amount=color_amount+amount\n",
    "    try:\n",
    "        color = np.arccos((color_amount/sum(n for _, n in color_list))**(1/2))\n",
    "        classical_colors.append(color)\n",
    "    except ZeroDivisionError:\n",
    "        print(\"ZeroDivisionError\")\n",
    "classical_colors = list(reversed(np.interp(classical_colors, (0, np.pi/2), (0, 256)).astype(int)))\n",
    "print(classical_colors, '\\n', input_im)"
   ]
  },
  {
   "cell_type": "markdown",
   "id": "38bcf4bf",
   "metadata": {},
   "source": [
    "Input and measured images comparison"
   ]
  },
  {
   "cell_type": "code",
   "execution_count": 7,
   "id": "484b27ca",
   "metadata": {},
   "outputs": [],
   "source": [
    "def plot_to_compare(output_im, input_im):\n",
    "    plt.imshow(output_im, cmap = 'gray')\n",
    "    plt.title('measured image')\n",
    "    plt.show()\n",
    "    plt.imshow(input_im, cmap = 'gray')\n",
    "    plt.title('real image')\n",
    "    plt.show()"
   ]
  },
  {
   "cell_type": "code",
   "execution_count": 8,
   "id": "0c693f04-702a-43cd-acac-f2bb3b1dc580",
   "metadata": {},
   "outputs": [
    {
     "data": {
      "image/png": "[encoded data removed]",
      "text/plain": [
       "<Figure size 432x288 with 1 Axes>"
      ]
     },
     "metadata": {
      "needs_background": "light"
     },
     "output_type": "display_data"
    },
    {
     "data": {
      "image/png": "[encoded data removed]",
      "text/plain": [
       "<Figure size 432x288 with 1 Axes>"
      ]
     },
     "metadata": {
      "needs_background": "light"
     },
     "output_type": "display_data"
    }
   ],
   "source": [
    "plot_to_compare(np.array(classical_colors).reshape(image.shape), image)"
   ]
  }
 ],
 "metadata": {
  "kernelspec": {
   "display_name": "Python 3 (ipykernel)",
   "language": "python",
   "name": "python3"
  },
  "language_info": {
   "codemirror_mode": {
    "name": "ipython",
    "version": 3
   },
   "file_extension": ".py",
   "mimetype": "text/x-python",
   "name": "python",
   "nbconvert_exporter": "python",
   "pygments_lexer": "ipython3",
   "version": "3.9.7"
  }
 },
 "nbformat": 4,
 "nbformat_minor": 5
}
