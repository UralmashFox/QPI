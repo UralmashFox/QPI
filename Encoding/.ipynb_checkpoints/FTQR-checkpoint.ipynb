{
 "cells": [
  {
   "cell_type": "markdown",
   "id": "f5fe6af5-f962-4341-bccd-4ebb95f9e1ed",
   "metadata": {},
   "source": [
    "# Phase representation. FTQR"
   ]
  },
  {
   "cell_type": "code",
   "execution_count": 1,
   "id": "891eda3e-8fc9-4f46-b5d7-4c091ba82390",
   "metadata": {},
   "outputs": [],
   "source": [
    "from qiskit import QuantumRegister, ClassicalRegister\n",
    "from qiskit import QuantumCircuit, Aer\n",
    "from qiskit import transpile, assemble\n",
    "from qiskit.visualization import plot_histogram\n",
    "import matplotlib.pyplot as plt\n",
    "import numpy as np\n",
    "import math\n",
    "from qiskit.algorithms import PhaseEstimation\n",
    "# from ibm_washington_config import coupling_map, basis_gates\n",
    "from ionq_config import coupling_map, basis_gates"
   ]
  },
  {
   "cell_type": "code",
   "execution_count": 8,
   "id": "6eecbcb5-a0d6-4565-925e-f8f8a07a9f1b",
   "metadata": {},
   "outputs": [
    {
     "data": {
      "image/png": "[encoded data removed]",
      "text/plain": [
       "<Figure size 432x288 with 1 Axes>"
      ]
     },
     "metadata": {
      "needs_background": "light"
     },
     "output_type": "display_data"
    }
   ],
   "source": [
    "image = np.random.uniform(low=0, high=255, size=(2,2)).astype(int)\n",
    "plt.imshow(image, cmap='gray')\n",
    "plt.title('Image')\n",
    "plt.show()"
   ]
  },
  {
   "cell_type": "code",
   "execution_count": 9,
   "id": "1ba65043-bbc7-4597-a8cb-fc4a2acb3864",
   "metadata": {},
   "outputs": [],
   "source": [
    "input_im = image.copy().flatten()\n",
    "thetas = input_im.copy()\n",
    "coord_q_num = int(np.ceil(math.log(len(input_im), 2)))"
   ]
  },
  {
   "cell_type": "code",
   "execution_count": 10,
   "id": "9cd98349-ebb6-4e5d-9345-c030d2899580",
   "metadata": {
    "tags": []
   },
   "outputs": [
    {
     "data": {
      "text/plain": [
       "<qiskit.circuit.instructionset.InstructionSet at 0x1b7c83df340>"
      ]
     },
     "execution_count": 10,
     "metadata": {},
     "output_type": "execute_result"
    }
   ],
   "source": [
    "import numpy as np\n",
    "from qiskit import QuantumCircuit\n",
    "from qiskit import BasicAer\n",
    "from qiskit.quantum_info.operators import Operator\n",
    "v = np.array([0, 0, 0, 0])\n",
    "\n",
    "def qft_dagger(qc, n):\n",
    "    for qubit in range(n//2):\n",
    "        qc.swap(qubit, n-qubit-1)\n",
    "    for j in range(n):\n",
    "        for m in range(j):\n",
    "            qc.cp(-math.pi/float(2**(j-m)), m, j)\n",
    "        qc.h(j)\n",
    "        \n",
    "def qft_rotations(circuit, n):\n",
    "    if n == 0:\n",
    "        return circuit\n",
    "    n -= 1\n",
    "    circuit.h(n)\n",
    "    for qubit in range(n):\n",
    "        circuit.cp(np.pi/2**(n-qubit), qubit, n)\n",
    "    qft_rotations(circuit, n)\n",
    "\n",
    "def swap_registers(circuit, n):\n",
    "    for qubit in range(n//2):\n",
    "        circuit.swap(qubit, n-qubit-1)\n",
    "    return circuit\n",
    "\n",
    "def qft(circuit, n):\n",
    "    \"\"\"QFT on the first n qubits in circuit\"\"\"\n",
    "    qft_rotations(circuit, n)\n",
    "    swap_registers(circuit, n)\n",
    "    return circuit\n",
    "    \n",
    "v = thetas.copy()\n",
    "ph = np.e ** (2 * np.pi * v * 1j / 1024) # тут возможно двойка потерялась   \n",
    "S = np.diag(ph)\n",
    "SOp = Operator(S)\n",
    "\n",
    "c = QuantumRegister(coord_q_num, \"coords\")\n",
    "cl = ClassicalRegister(coord_q_num, \"classic\")\n",
    "qc_image = QuantumCircuit(c, cl)\n",
    "qc_image.h(c)\n",
    "qc_image.append(SOp, c)\n",
    "\n",
    "# qc_image.draw()"
   ]
  },
  {
   "cell_type": "markdown",
   "id": "d443d6d6-9ad9-4317-b4ae-b5891446ce32",
   "metadata": {},
   "source": [
    "Metrics\n",
    "\n",
    "| Image size  | Depth measure | # of utilized qubits |Washington depth | IonQ depth |\n",
    "| ------------- | ------------- | -------------------|-----------------|------------|\n",
    "| 2  | 5  | 2 | 5| 5|\n",
    "| 4  | 158  | 4 | 416| 324|\n",
    "| 8  | 2635  | 6 | 7354| 7258|\n",
    "| 16  | 42813  | 8 | 116638|118746|\n",
    "| 32  | 689016  | 10|\n",
    "| 64  | -  | 7 |\n",
    "| 128  | -  | 8 |\n",
    "| 256  | -  | 9 |"
   ]
  },
  {
   "cell_type": "code",
   "execution_count": 11,
   "id": "c37fcbda-3057-4b2b-a2c7-6ddbad756e65",
   "metadata": {},
   "outputs": [
    {
     "name": "stdout",
     "output_type": "stream",
     "text": [
      "depth is 5, # of qubits is 2\n"
     ]
    }
   ],
   "source": [
    "aer_sim = Aer.get_backend('aer_simulator')\n",
    "t_qc_image = transpile(qc_image, aer_sim, basis_gates=basis_gates)\n",
    "# t_qc_image.draw()\n",
    "print(\"depth is {}, # of qubits is {}\".format(t_qc_image.depth(), t_qc_image.num_qubits))"
   ]
  },
  {
   "cell_type": "code",
   "execution_count": null,
   "id": "b075190e-7a69-438b-bed1-eba56de709a1",
   "metadata": {},
   "outputs": [],
   "source": [
    "wash_qc = transpile(circuits=qc_image, coupling_map=coupling_map, basis_gates=basis_gates)\n",
    "print(\"depth is {}\".format(wash_qc.depth()))"
   ]
  },
  {
   "cell_type": "code",
   "execution_count": 12,
   "id": "a9fb5a11-5a99-44e8-8be2-2629f7b9e66a",
   "metadata": {},
   "outputs": [
    {
     "data": {
      "text/plain": [
       "[<matplotlib.lines.Line2D at 0x1b7828ad430>]"
      ]
     },
     "execution_count": 12,
     "metadata": {},
     "output_type": "execute_result"
    },
    {
     "data": {
      "image/png": "[encoded data removed]",
      "text/plain": [
       "<Figure size 432x288 with 1 Axes>"
      ]
     },
     "metadata": {
      "needs_background": "light"
     },
     "output_type": "display_data"
    }
   ],
   "source": [
    "from qiskit import Aer\n",
    "b = Aer.get_backend('statevector_simulator')\n",
    "x = np.array(b.run(qc_image).result().get_statevector())\n",
    "np.arcsin(x.real)\n",
    "\n",
    "plt.plot(np.arccos(x.real) * 1024 / 2)\n",
    "plt.plot(thetas)"
   ]
  },
  {
   "cell_type": "markdown",
   "id": "1b2588f5-11b9-42af-9ece-9c3188ed6e06",
   "metadata": {},
   "source": [
    "[Multitarget gate](https://quantumcomputinguk.org/tutorials/introduction-to-the-mcmt-gate-in-qiskit-with-code) and [Phase estimation](https://medium.com/a-bit-of-qubit/quantum-phase-estimation-more-qubits-more-accuracy-a18ea6821073)"
   ]
  },
  {
   "cell_type": "code",
   "execution_count": 13,
   "id": "ac80ef43-f8f6-4a48-8304-ad4ddba267dc",
   "metadata": {
    "tags": []
   },
   "outputs": [
    {
     "data": {
      "text/plain": [
       "<qiskit.circuit.instructionset.InstructionSet at 0x1b84882c5c0>"
      ]
     },
     "execution_count": 13,
     "metadata": {},
     "output_type": "execute_result"
    }
   ],
   "source": [
    "import numpy as np\n",
    "from qiskit import QuantumCircuit\n",
    "from qiskit import BasicAer\n",
    "from qiskit.quantum_info.operators import Operator\n",
    "from qiskit import *\n",
    "\n",
    "def qft_dagger(qc, n):\n",
    "    for qubit in range(n//2):\n",
    "        qc.swap(qubit, n-qubit-1)\n",
    "    for j in range(n):\n",
    "        for m in range(j):\n",
    "            qc.cp(-math.pi/float(2**(j-m)), m, j)\n",
    "        qc.h(j)\n",
    "    \n",
    "v = thetas.copy()\n",
    "ph = np.e ** (2*np.pi*v * 1j / 1024) # тут возможно двойка потерялась   \n",
    "S = np.diag(ph)\n",
    "SOp = Operator(S)\n",
    "\n",
    "c = QuantumRegister(coord_q_num, \"coords\")\n",
    "ph = QuantumRegister(8, \"phase_est\")\n",
    "cl = ClassicalRegister(8, \"classic\")\n",
    "qc_image = QuantumCircuit(ph, c, cl)\n",
    "qc_image.h(c)\n",
    "qc_image.append(SOp, c)\n",
    "\n",
    "qc_image.h(ph)\n",
    "qc_image.x(c)\n",
    "\n",
    "repetitions = 256\n",
    "for counting_qubit in range(8):\n",
    "    for i in range(repetitions):\n",
    "        x_circuit = QuantumCircuit(c.size, name='Ps')\n",
    "        x_circuit.p(np.pi/256, range(2))\n",
    "        xs_gate = x_circuit.to_gate()\n",
    "        cxs_gate = xs_gate.control()\n",
    "        qc_image.append(cxs_gate, [counting_qubit,8,9])\n",
    "    repetitions *= 2 # 2^{n-1} factor\n",
    "qc_image.barrier()\n",
    "qft_dagger(qc_image, 8)\n",
    "\n",
    "qc_image.barrier()\n",
    "qc_image.measure([0,1,2,3,4,5,6,7], [0,1,2,3,4,5,6,7])\n",
    "# qc_image.draw()\n",
    "# print('done')"
   ]
  },
  {
   "cell_type": "code",
   "execution_count": 14,
   "id": "7887af90-2205-48f3-9e30-7f70da8f7503",
   "metadata": {
    "tags": []
   },
   "outputs": [
    {
     "name": "stdout",
     "output_type": "stream",
     "text": [
      "{'00000000': 9957, '10000000': 10043}\n",
      "[9957, 10043]\n"
     ]
    },
    {
     "data": {
      "image/png": "[encoded data removed]",
      "text/plain": [
       "<Figure size 504x360 with 1 Axes>"
      ]
     },
     "execution_count": 14,
     "metadata": {},
     "output_type": "execute_result"
    }
   ],
   "source": [
    "aer_sim = Aer.get_backend('aer_simulator')\n",
    "t_qc_image = transpile(qc_image, aer_sim)\n",
    "qobj = assemble(t_qc_image, shots=20000)\n",
    "job_oqim = aer_sim.run(qobj)\n",
    "result_oqim = job_oqim.result()\n",
    "answer = result_oqim.get_counts()\n",
    "print(answer)\n",
    "sorted_x = sorted([key for _, key in answer.items()])\n",
    "print(sorted_x)\n",
    "\n",
    "plot_histogram(answer)"
   ]
  }
 ],
 "metadata": {
  "kernelspec": {
   "display_name": "Python 3 (ipykernel)",
   "language": "python",
   "name": "python3"
  },
  "language_info": {
   "codemirror_mode": {
    "name": "ipython",
    "version": 3
   },
   "file_extension": ".py",
   "mimetype": "text/x-python",
   "name": "python",
   "nbconvert_exporter": "python",
   "pygments_lexer": "ipython3",
   "version": "3.9.7"
  }
 },
 "nbformat": 4,
 "nbformat_minor": 5
}
