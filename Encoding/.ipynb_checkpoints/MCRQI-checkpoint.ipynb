{
 "cells": [
  {
   "cell_type": "markdown",
   "metadata": {},
   "source": [
    "# Multi-channel Representation for Images - [MCRQI](https://www.overleaf.com/project/61911febed45e965f929d7c0#cite.sun2011multi)\n",
    "\n"
   ]
  },
  {
   "cell_type": "markdown",
   "metadata": {},
   "source": [
    "This image representation technique bases on [FRQI](https://link.springer.com/content/pdf/10.1007/s11128-010-0177-y.pdf). Image is encoded as follows:\n",
    "\n",
    "$ | I(\\theta) \\rangle = \\frac{1}{2^{n+1}}\\sum_{i=0}^{2^{2n}-1} | c_{RGB\\alpha}^i \\rangle \\bigotimes | i \\rangle $, where\n",
    "\n",
    "$| c_{RGB\\alpha}^i \\rangle $ - continuose angle intensity representation of the $i_{th}$ pixel"
   ]
  },
  {
   "cell_type": "markdown",
   "metadata": {},
   "source": [
    "Step 0: dependencies import"
   ]
  },
  {
   "cell_type": "code",
   "execution_count": 2,
   "metadata": {
    "collapsed": true
   },
   "outputs": [],
   "source": [
    "from qiskit import QuantumRegister, ClassicalRegister\n",
    "from qiskit import QuantumCircuit, Aer\n",
    "from qiskit import transpile, assemble\n",
    "from qiskit.visualization import plot_histogram\n",
    "import matplotlib.pyplot as plt\n",
    "import numpy as np\n",
    "import math\n",
    "from qiskit.circuit.library.standard_gates.ry import RYGate"
   ]
  },
  {
   "cell_type": "markdown",
   "metadata": {},
   "source": [
    "Step 1: image generating"
   ]
  },
  {
   "cell_type": "code",
   "execution_count": 6,
   "metadata": {},
   "outputs": [
    {
     "name": "stderr",
     "output_type": "stream",
     "text": [
      "Clipping input data to the valid range for imshow with RGB data ([0..1] for floats or [0..255] for integers).\n"
     ]
    },
    {
     "data": {
      "image/png": "[encoded data removed]",
      "text/plain": [
       "<Figure size 432x288 with 1 Axes>"
      ]
     },
     "metadata": {},
     "output_type": "display_data"
    }
   ],
   "source": [
    "image = np.zeros((8,8,3))\n",
    "image[:,:,0] = np.array(\n",
    "           [255, 255, 255, 255, 255, 255, 255, 255,\n",
    "            255,   0, 255, 255, 255, 255,   0, 255,\n",
    "            255,   0, 255, 255, 255, 255,   0, 255,\n",
    "            255, 255, 255, 255, 255, 255, 255, 255,\n",
    "              0, 255, 255, 255, 255, 255, 255,   0,\n",
    "            255,   0, 255, 255, 255, 255,   0, 255,\n",
    "            255, 255, 0,   0,   0,   0, 255, 255,\n",
    "            255, 255, 255, 255, 255, 255, 255, 255]).reshape(8,8)\n",
    "\n",
    "image[:,:,1] = np.array(\n",
    "           [255, 255, 255, 255, 255, 255, 255, 255,\n",
    "            255, 255, 255, 255, 255, 255, 255, 255,\n",
    "            255, 255, 255, 255, 255, 255, 255, 255,\n",
    "            255, 255, 255, 255, 255, 255, 255, 255,\n",
    "              0, 255, 255,   0,   0, 255, 255,   0,\n",
    "            255,   0, 255, 255, 255, 255,   0, 255,\n",
    "            255, 255, 0,   0,   0,   0,255, 255,\n",
    "            255, 255, 255, 255, 255, 255, 255, 255]).reshape(8,8)\n",
    "\n",
    "image[:,:,2] = np.array(\n",
    "           [255, 255, 255, 255, 255, 255, 255, 255,\n",
    "            255,   0, 255, 255, 255, 255,   0, 255,\n",
    "            255,   0, 255, 255, 255, 255,   0, 255,\n",
    "            255, 255, 255, 255, 255, 255, 255, 255,\n",
    "            255, 255, 255,   0,   0, 255, 255, 255,\n",
    "            255, 255, 255, 255, 255, 255, 255, 255,\n",
    "            255, 255, 255, 255, 255, 255, 255, 255,\n",
    "            255, 255, 255, 255, 255, 255, 255, 255]).reshape(8,8)\n",
    "\n",
    "plt.imshow(image.reshape(8,8,3))\n",
    "plt.title('Classical clown')\n",
    "plt.show()"
   ]
  },
  {
   "cell_type": "markdown",
   "metadata": {},
   "source": [
    "Step 2: MCRQI image encoding"
   ]
  },
  {
   "cell_type": "code",
   "execution_count": 7,
   "metadata": {},
   "outputs": [],
   "source": [
    "def params(image):\n",
    "    xqbits = math.log(image.shape[0],2)\n",
    "    yqbits = math.log(image.shape[1],2)\n",
    "    return int(xqbits), int(yqbits)\n",
    "    \n",
    "def rgb_circ(image):\n",
    "    xqbit, yqbit = params(image)\n",
    "    qr = QuantumRegister(xqbit + yqbit + 3) #3 stands for RGB qubits\n",
    "    # color = qr[xqbit + yqbit:]\n",
    "    # coordinate = qr[:xqbit + yqbit]\n",
    "    cr = ClassicalRegister(xqbit + yqbit + 3, 'c')\n",
    "    qc = QuantumCircuit(qr, cr)\n",
    "    \n",
    "    for k in range(int(np.floor((xqbit + yqbit)/2))):\n",
    "        qc.swap(k,xqbit + yqbit - 1 - k)\n",
    "        \n",
    "    for i in range(xqbit + yqbit):\n",
    "        qc.h(i)\n",
    "    \n",
    "    for layer_num, input_im in enumerate(image.T):\n",
    "        input_im = input_im.flatten()\n",
    "        input_im = np.interp(input_im, (0, 255), (0, np.pi/2))\n",
    "        \n",
    "        for i, pixel in enumerate(input_im):\n",
    "            arr = list(range(xqbit + yqbit))\n",
    "            arr.append(int(xqbit + yqbit + layer_num))\n",
    "            cMry = RYGate(2*pixel).control(xqbit + yqbit)\n",
    "            \n",
    "            to_not = \"{0:b}\".format(i).zfill(xqbit + yqbit)\n",
    "            for j, bit in enumerate(to_not):\n",
    "                if int(bit):\n",
    "                    qc.x(j)\n",
    "            qc.barrier()\n",
    "            qc.append(cMry, arr)  \n",
    "\n",
    "            if i!=len(input_im)-1 or layer_num!=2:\n",
    "                for j, bit in enumerate(to_not):\n",
    "                    if int(bit):\n",
    "                        qc.x(j)\n",
    "                qc.barrier()\n",
    "    \n",
    "    for k in range(int(np.floor((xqbit + yqbit)/2))):\n",
    "        qc.swap(k, xqbit + yqbit - 1 - k)\n",
    "    \n",
    "    qc.swap(-1, -3)\n",
    "\n",
    "    qc.barrier()\n",
    "    for i in range(xqbit + yqbit + 3):\n",
    "        qc.measure(i, i)\n",
    "    \n",
    "    return qc\n"
   ]
  },
  {
   "cell_type": "markdown",
   "metadata": {},
   "source": [
    "Step 3: circuit execution"
   ]
  },
  {
   "cell_type": "code",
   "execution_count": 8,
   "metadata": {},
   "outputs": [],
   "source": [
    "def run_qc(qc, shots=1000):    \n",
    "    aer_sim = Aer.get_backend('aer_simulator')\n",
    "    t_qc = transpile(qc, aer_sim)\n",
    "    qobj = assemble(t_qc, shots=shots)\n",
    "    result = aer_sim.run(qobj).result()\n",
    "    counts = result.get_counts(qc)\n",
    "    return counts"
   ]
  },
  {
   "cell_type": "code",
   "execution_count": 11,
   "metadata": {},
   "outputs": [],
   "source": [
    "qc = rgb_circ(image)\n",
    "counts = run_qc(qc)"
   ]
  },
  {
   "cell_type": "markdown",
   "metadata": {},
   "source": [
    "Step 4: measurments interpretation"
   ]
  },
  {
   "cell_type": "code",
   "execution_count": 12,
   "metadata": {},
   "outputs": [],
   "source": [
    "def reconstruct_rgb(image, counts, to_print=True):\n",
    "    output_ims = []\n",
    "    for layer_num, input_im in enumerate(image.T):\n",
    "        input_im = input_im.flatten()\n",
    "        nums = []\n",
    "        for iter in range(len(input_im)):\n",
    "            flag = 0\n",
    "            num = []\n",
    "            for item in counts.items():\n",
    "                if int(item[0][3:], 2)==iter:\n",
    "                    num.append((int(item[0][layer_num], 2), item[1]))\n",
    "            nums.append(num)\n",
    "        for l, num in enumerate(nums):\n",
    "            my_set = {x[0] for x in num}\n",
    "            nums[l] = [(i,sum(x[1] for x in num if x[0] == i)) for i in my_set]\n",
    "        colors = []\n",
    "        for num in nums:\n",
    "            if len(num)==2:\n",
    "                if num[0][0] == 0:\n",
    "                    color = np.arccos((num[0][1]/(num[0][1]+num[1][1]))**(1/2))\n",
    "                    colors.append(color)\n",
    "                else:\n",
    "                    color = np.arccos((num[1][1]/(num[0][1]+num[1][1]))**(1/2))\n",
    "                    colors.append(color)\n",
    "            else:\n",
    "                if num[0][0] == 0:\n",
    "                    colors.append(0)\n",
    "                else:\n",
    "                    colors.append(np.pi/2)\n",
    "        output_im = np.interp(colors, (0, np.pi/2), (0, 255)).astype(int)\n",
    "        if to_print:\n",
    "            print(output_im, '\\n', (image.T)[layer_num].copy().flatten())\n",
    "        output_ims.append(output_im.reshape(image[:,:,0].shape))\n",
    "    \n",
    "    return np.array(output_ims).T"
   ]
  },
  {
   "cell_type": "markdown",
   "metadata": {},
   "source": [
    "Classical and quantum representation are similar. That sows the correctness of encoding"
   ]
  },
  {
   "cell_type": "code",
   "execution_count": 13,
   "metadata": {},
   "outputs": [
    {
     "data": {
      "image/png": "[encoded data removed]",
      "text/plain": [
       "<Figure size 432x288 with 1 Axes>"
      ]
     },
     "metadata": {},
     "output_type": "display_data"
    },
    {
     "name": "stderr",
     "output_type": "stream",
     "text": [
      "Clipping input data to the valid range for imshow with RGB data ([0..1] for floats or [0..255] for integers).\n"
     ]
    },
    {
     "data": {
      "image/png": "[encoded data removed]",
      "text/plain": [
       "<Figure size 432x288 with 1 Axes>"
      ]
     },
     "metadata": {},
     "output_type": "display_data"
    }
   ],
   "source": [
    "output_ims = reconstruct_rgb(image, counts, to_print = False)\n",
    "plt.imshow(output_ims)\n",
    "plt.title('Quantum clown')\n",
    "plt.show()\n",
    "plt.title('Classical clown')\n",
    "plt.imshow(image)\n",
    "plt.show()"
   ]
  },
  {
   "cell_type": "markdown",
   "metadata": {},
   "source": [
    "### Now with image built from not pure RGB intensities. Classical image generation:"
   ]
  },
  {
   "cell_type": "code",
   "execution_count": 14,
   "metadata": {},
   "outputs": [
    {
     "name": "stderr",
     "output_type": "stream",
     "text": [
      "Clipping input data to the valid range for imshow with RGB data ([0..1] for floats or [0..255] for integers).\n"
     ]
    },
    {
     "data": {
      "image/png": "[encoded data removed]",
      "text/plain": [
       "<Figure size 432x288 with 1 Axes>"
      ]
     },
     "metadata": {},
     "output_type": "display_data"
    }
   ],
   "source": [
    "image = np.zeros((2,2,3))\n",
    "image[:,:,0] = np.array(\n",
    "           [255, 10,\n",
    "            250,   0]).reshape(2,2)\n",
    "\n",
    "image[:,:,1] = np.array(\n",
    "           [0, 100,\n",
    "            150, 255]).reshape(2,2)\n",
    "\n",
    "image[:,:,2] = np.array(\n",
    "           [255, 200,\n",
    "            10,   0]).reshape(2,2)\n",
    "\n",
    "plt.imshow(image.reshape(2,2,3))\n",
    "plt.title('Classical image')\n",
    "plt.show()"
   ]
  },
  {
   "cell_type": "markdown",
   "metadata": {},
   "source": [
    "Circuit run and measurments. Despite images look different the channel-wise comparioson shows the simmilarity of imtensities"
   ]
  },
  {
   "cell_type": "code",
   "execution_count": 15,
   "metadata": {},
   "outputs": [
    {
     "name": "stdout",
     "output_type": "stream",
     "text": [
      "[255 249  10   0] \n [255. 250.  10.   0.]\n[  0 149 100 255] \n [  0. 150. 100. 255.]\n[255   9 201   0] \n [255.  10. 200.   0.]\n"
     ]
    },
    {
     "data": {
      "image/png": "[encoded data removed]",
      "text/plain": [
       "<Figure size 432x288 with 1 Axes>"
      ]
     },
     "metadata": {},
     "output_type": "display_data"
    },
    {
     "name": "stderr",
     "output_type": "stream",
     "text": [
      "Clipping input data to the valid range for imshow with RGB data ([0..1] for floats or [0..255] for integers).\n"
     ]
    },
    {
     "data": {
      "image/png": "[encoded data removed]",
      "text/plain": [
       "<Figure size 432x288 with 1 Axes>"
      ]
     },
     "metadata": {},
     "output_type": "display_data"
    }
   ],
   "source": [
    "qc = rgb_circ(image)\n",
    "counts = run_qc(qc, shots=100000)\n",
    "output_ims = reconstruct_rgb(image, counts, to_print=True)\n",
    "plt.title('Classical clown')\n",
    "plt.imshow(output_ims)\n",
    "plt.show()\n",
    "plt.title('Classical clown')\n",
    "plt.imshow(image)\n",
    "plt.show()"
   ]
  }
 ],
 "metadata": {
  "kernelspec": {
   "display_name": "Python 2",
   "language": "python",
   "name": "python2"
  },
  "language_info": {
   "codemirror_mode": {
    "name": "ipython",
    "version": 2
   },
   "file_extension": ".py",
   "mimetype": "text/x-python",
   "name": "python",
   "nbconvert_exporter": "python",
   "pygments_lexer": "ipython2",
   "version": "2.7.6"
  }
 },
 "nbformat": 4,
 "nbformat_minor": 0
}
